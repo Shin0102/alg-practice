{
 "cells": [
  {
   "cell_type": "markdown",
   "id": "7f55038d-001c-4586-afbe-6dea5d893c25",
   "metadata": {},
   "source": [
    "# 삽입 정렬"
   ]
  },
  {
   "cell_type": "code",
   "execution_count": 64,
   "id": "693dcde8-cc3c-46ef-93f1-369594d7e205",
   "metadata": {},
   "outputs": [],
   "source": [
    "def insertion_sort(data: list) -> list:\n",
    "    for index in range(len(data) - 1):\n",
    "        for index2 in range(index + 1, 0, -1):\n",
    "            if data[index2] < data[index2 - 1]:\n",
    "                data[index2], data[index2 - 1] = data[index2 - 1], data[index2]\n",
    "            else:\n",
    "                break\n",
    "    return data"
   ]
  },
  {
   "cell_type": "code",
   "execution_count": 67,
   "id": "41c7b86c-d166-416f-bb37-2c46b6572d01",
   "metadata": {},
   "outputs": [
    {
     "name": "stdout",
     "output_type": "stream",
     "text": [
      "[11, 60, 15, 32, 31, 82, 84, 89, 27, 72]\n",
      "[11, 15, 27, 31, 32, 60, 72, 82, 84, 89]\n"
     ]
    }
   ],
   "source": [
    "import random\n",
    "\n",
    "sample_data = random.sample(range(100), 10)\n",
    "print(sample_data)\n",
    "print(insertion_sort(sample_data))"
   ]
  }
 ],
 "metadata": {
  "kernelspec": {
   "display_name": "Python 3 (ipykernel)",
   "language": "python",
   "name": "python3"
  },
  "language_info": {
   "codemirror_mode": {
    "name": "ipython",
    "version": 3
   },
   "file_extension": ".py",
   "mimetype": "text/x-python",
   "name": "python",
   "nbconvert_exporter": "python",
   "pygments_lexer": "ipython3",
   "version": "3.11.5"
  }
 },
 "nbformat": 4,
 "nbformat_minor": 5
}
