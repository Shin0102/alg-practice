{
 "cells": [
  {
   "cell_type": "markdown",
   "id": "e01d4210-e013-41ac-a60d-2e5bdc61b46f",
   "metadata": {},
   "source": [
    "# 선택정렬"
   ]
  },
  {
   "cell_type": "code",
   "execution_count": 7,
   "id": "2401f3f6-0b25-42a6-b47a-3a2dc47f2240",
   "metadata": {},
   "outputs": [],
   "source": [
    "def selection_sort(data: list) -> list:\n",
    "    for index in range(len(data)):\n",
    "        minimum_index = index\n",
    "        for index2 in range(index, len(data)):\n",
    "            if data[minimum_index] > data[index2]:\n",
    "                minimum_index = index2\n",
    "\n",
    "        data[index], data[minimum_index] = data[minimum_index], data[index]\n",
    "    return data\n",
    "            "
   ]
  },
  {
   "cell_type": "code",
   "execution_count": 12,
   "id": "3564b9b1-3271-4621-b8ea-e3c6154872f8",
   "metadata": {},
   "outputs": [
    {
     "name": "stdout",
     "output_type": "stream",
     "text": [
      "[8, 10, 45, 30, 87, 82, 49, 89, 53, 63]\n",
      "[8, 10, 30, 45, 49, 53, 63, 82, 87, 89]\n"
     ]
    }
   ],
   "source": [
    "import random\n",
    "\n",
    "sample_data = random.sample(range(100), 10)\n",
    "print(sample_data)\n",
    "print(selection_sort(sample_data))"
   ]
  }
 ],
 "metadata": {
  "kernelspec": {
   "display_name": "Python 3 (ipykernel)",
   "language": "python",
   "name": "python3"
  },
  "language_info": {
   "codemirror_mode": {
    "name": "ipython",
    "version": 3
   },
   "file_extension": ".py",
   "mimetype": "text/x-python",
   "name": "python",
   "nbconvert_exporter": "python",
   "pygments_lexer": "ipython3",
   "version": "3.11.5"
  }
 },
 "nbformat": 4,
 "nbformat_minor": 5
}
