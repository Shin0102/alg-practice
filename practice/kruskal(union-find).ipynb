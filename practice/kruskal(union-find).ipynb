{
 "cells": [
  {
   "cell_type": "markdown",
   "id": "0af91865-4ebf-4d69-8f78-a183235bc815",
   "metadata": {},
   "source": [
    "# 크루스칼 알고리즘"
   ]
  },
  {
   "cell_type": "markdown",
   "id": "af04ad9e-7285-4beb-b469-c88f1ebb6daf",
   "metadata": {},
   "source": [
    "<img src=\"https://www.fun-coding.org/00_Images/kruscal_internal1.png\" width=650>\n",
    "<img src=\"https://www.fun-coding.org/00_Images/kruscal_internal2.png\" width=800>"
   ]
  },
  {
   "cell_type": "code",
   "execution_count": 10,
   "id": "520dc755-9bbd-4ab0-aab8-88ead38c1afe",
   "metadata": {},
   "outputs": [
    {
     "data": {
      "text/plain": [
       "[5, 5, 6, 7, 7, 9]"
      ]
     },
     "execution_count": 10,
     "metadata": {},
     "output_type": "execute_result"
    }
   ],
   "source": [
    "practice_graph = {\n",
    "    'vertices': ['A', 'B', 'C', 'D', 'E', 'F', 'G'],\n",
    "    'edges': [\n",
    "        (7, 'A', 'B'),\n",
    "        (5, 'A', 'D'),\n",
    "        (7, 'B', 'A'),\n",
    "        (8, 'B', 'C'),\n",
    "        (9, 'B', 'D'),\n",
    "        (7, 'B', 'E'),\n",
    "        (8, 'C', 'B'),\n",
    "        (5, 'C', 'E'),\n",
    "        (5, 'D', 'A'),\n",
    "        (9, 'D', 'B'),\n",
    "        (7, 'D', 'E'),\n",
    "        (6, 'D', 'F'),\n",
    "        (7, 'E', 'B'),\n",
    "        (5, 'E', 'C'),\n",
    "        (7, 'E', 'D'),\n",
    "        (8, 'E', 'F'),\n",
    "        (9, 'E', 'G'),\n",
    "        (6, 'F', 'D'),\n",
    "        (8, 'F', 'E'),\n",
    "        (11, 'F', 'G'),\n",
    "        (9, 'G', 'E'),\n",
    "        (11, 'G', 'F')\n",
    "    ]\n",
    "}\n",
    "\n",
    "parent = {}\n",
    "rank = {}\n",
    "\n",
    "\n",
    "def find(node: str) -> str:\n",
    "    # path compression 기법\n",
    "    if parent[node] != node:\n",
    "        parent[node] = find(parent[node])\n",
    "    return parent[node]\n",
    "\n",
    "\n",
    "def union(node_v: str, node_u: str):\n",
    "    root1 = find(node_v)\n",
    "    root2 = find(node_u)\n",
    "    \n",
    "    # union-by-rank 기법\n",
    "    if rank[root1] > rank[root2]:\n",
    "        parent[root2] = root1\n",
    "    else:\n",
    "        parent[root1] = root2\n",
    "        if rank[root1] == rank[root2]:\n",
    "            rank[root2] += 1\n",
    "\n",
    "\n",
    "def kruskal(graph: dict) -> list:\n",
    "    # initialize\n",
    "    mst = []\n",
    "    for vertice in graph[\"vertices\"]:\n",
    "        parent[vertice] = vertice\n",
    "        rank[vertice] = 0\n",
    "\n",
    "    # sorting by weight\n",
    "    edges = graph[\"edges\"]\n",
    "    edges.sort()\n",
    "\n",
    "\n",
    "    # start\n",
    "    for w, node_v, node_u in edges:\n",
    "        node_v_root = find(node_v)\n",
    "        node_u_root = find(node_u)\n",
    "        if node_v_root != node_u_root: \n",
    "            union(node_v_root, node_u_root)\n",
    "            mst.append(w)\n",
    "    return mst\n",
    "\n",
    "kruskal(practice_graph)"
   ]
  }
 ],
 "metadata": {
  "kernelspec": {
   "display_name": "Python 3 (ipykernel)",
   "language": "python",
   "name": "python3"
  },
  "language_info": {
   "codemirror_mode": {
    "name": "ipython",
    "version": 3
   },
   "file_extension": ".py",
   "mimetype": "text/x-python",
   "name": "python",
   "nbconvert_exporter": "python",
   "pygments_lexer": "ipython3",
   "version": "3.11.7"
  }
 },
 "nbformat": 4,
 "nbformat_minor": 5
}
