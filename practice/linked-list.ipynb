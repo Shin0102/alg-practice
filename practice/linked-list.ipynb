{
 "cells": [
  {
   "cell_type": "markdown",
   "id": "24c34d6f-6d63-4bf0-a5cf-12e9a1561f5e",
   "metadata": {},
   "source": [
    "# linkded list 연습"
   ]
  },
  {
   "cell_type": "code",
   "execution_count": 27,
   "id": "6e9c2028e86c16b2",
   "metadata": {
    "collapsed": false,
    "is_executing": true,
    "jupyter": {
     "outputs_hidden": false
    }
   },
   "outputs": [
    {
     "name": "stdout",
     "output_type": "stream",
     "text": [
      "12와 일치하는 데이터가 없습니다.\n",
      "5\n",
      "1\n",
      "10\n"
     ]
    }
   ],
   "source": [
    "class Node:\n",
    "    def __init__(self, data, next = None):\n",
    "        self.data = data\n",
    "        self.next = next\n",
    "        \n",
    "class LinkedList:\n",
    "    def __init__(self, head: Node = None):\n",
    "        self.head = head\n",
    "    \n",
    "    def add(self, data):\n",
    "        if self.head is None:\n",
    "            self.head = Node(data)\n",
    "        else:\n",
    "            node = self.head\n",
    "            while node.next:\n",
    "                node = node.next\n",
    "            node.next = Node(data)\n",
    "\n",
    "    def delete(self, data):\n",
    "        node = self.head\n",
    "        # head\n",
    "        if node.data == data:\n",
    "            temp = node\n",
    "            self.head = node.next\n",
    "            del temp\n",
    "        else:\n",
    "            while node.next:\n",
    "                if node.next.data == data:\n",
    "                    temp = node.next\n",
    "                    node.next = temp.next\n",
    "                    del temp\n",
    "                    return\n",
    "                else:\n",
    "                    node = node.next\n",
    "        print(f\"{data}와 일치하는 데이터가 없습니다.\")\n",
    "    \n",
    "    def desc(self):\n",
    "        node = self.head\n",
    "        while node:\n",
    "            print(node.data)\n",
    "            node = node.next\n",
    "        \n",
    "if __name__ == \"__main__\":\n",
    "    linked_list = LinkedList(Node(5))\n",
    "    linked_list.add(1)\n",
    "    linked_list.add(10)\n",
    "    linked_list.delete(12)\n",
    "    linked_list.desc()"
   ]
  }
 ],
 "metadata": {
  "kernelspec": {
   "display_name": "Python 3 (ipykernel)",
   "language": "python",
   "name": "python3"
  },
  "language_info": {
   "codemirror_mode": {
    "name": "ipython",
    "version": 3
   },
   "file_extension": ".py",
   "mimetype": "text/x-python",
   "name": "python",
   "nbconvert_exporter": "python",
   "pygments_lexer": "ipython3",
   "version": "3.11.5"
  }
 },
 "nbformat": 4,
 "nbformat_minor": 5
}
