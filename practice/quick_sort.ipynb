{
 "cells": [
  {
   "cell_type": "markdown",
   "id": "5eb2577d-30b9-4250-9694-088f11ba58e9",
   "metadata": {},
   "source": [
    "# quick_sort 연습"
   ]
  },
  {
   "cell_type": "code",
   "execution_count": 26,
   "id": "d7201be3-908c-442f-aecb-775b3ef0ae34",
   "metadata": {},
   "outputs": [],
   "source": [
    "def quick_sort(data: list) -> list:\n",
    "    if len(data) <= 1:\n",
    "        return data\n",
    "\n",
    "    pivot = data[0]\n",
    "    # left, right = [], []\n",
    "    # for i in range(1, len(data)):\n",
    "    #     if pivot > data[i]:\n",
    "    #         left.append(data[i])\n",
    "    #     else:\n",
    "    #         right.append(data[i])\n",
    "    left = [data[i] for i in range(1, len(data)) if pivot > data[i]]\n",
    "    right = [data[i] for i in range(1, len(data)) if pivot < data[i]]\n",
    "\n",
    "    return quick_sort(left) + [pivot] + quick_sort(right)\n",
    "    "
   ]
  },
  {
   "cell_type": "code",
   "execution_count": 27,
   "id": "5ba21c2c-7d29-4618-bfc0-156db6b1b815",
   "metadata": {},
   "outputs": [
    {
     "name": "stdout",
     "output_type": "stream",
     "text": [
      "[88, 19, 96, 21, 79, 23, 54, 29, 51, 20]\n",
      "[19, 20, 21, 23, 29, 51, 54, 79, 88, 96]\n"
     ]
    }
   ],
   "source": [
    "import random\n",
    "\n",
    "sample_data = random.sample(range(1,100), 10)\n",
    "print(sample_data)\n",
    "print(quick_sort(sample_data))"
   ]
  },
  {
   "cell_type": "code",
   "execution_count": null,
   "id": "e48e7132-1e2e-4c56-a7ff-43ebcd59ba1b",
   "metadata": {},
   "outputs": [],
   "source": []
  }
 ],
 "metadata": {
  "kernelspec": {
   "display_name": "Python 3 (ipykernel)",
   "language": "python",
   "name": "python3"
  },
  "language_info": {
   "codemirror_mode": {
    "name": "ipython",
    "version": 3
   },
   "file_extension": ".py",
   "mimetype": "text/x-python",
   "name": "python",
   "nbconvert_exporter": "python",
   "pygments_lexer": "ipython3",
   "version": "3.11.7"
  }
 },
 "nbformat": 4,
 "nbformat_minor": 5
}
