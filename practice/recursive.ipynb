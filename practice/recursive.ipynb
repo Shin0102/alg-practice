{
 "cells": [
  {
   "cell_type": "markdown",
   "id": "5da6d5de-bec4-41f1-a6f6-cdcfdd1e36b0",
   "metadata": {},
   "source": [
    "# 재귀용법 연습\n",
    "## Palindrome"
   ]
  },
  {
   "cell_type": "code",
   "execution_count": 24,
   "id": "18670b0a-3150-431f-b5ae-122ff9891e66",
   "metadata": {},
   "outputs": [],
   "source": [
    "def palindrome(data: list) -> int:\n",
    "    if len(data) <= 1:\n",
    "        return 1\n",
    "        \n",
    "    if data[0] == data[-1]:\n",
    "        return 1 * palindrome(data[1:-1])\n",
    "    else:\n",
    "        return 0\n"
   ]
  },
  {
   "cell_type": "code",
   "execution_count": 26,
   "id": "2d42124e-a3ea-4efc-bb5e-8e1f92acd44a",
   "metadata": {},
   "outputs": [
    {
     "data": {
      "text/plain": [
       "True"
      ]
     },
     "execution_count": 26,
     "metadata": {},
     "output_type": "execute_result"
    }
   ],
   "source": [
    "palindrome(\"level\") == 1"
   ]
  },
  {
   "cell_type": "markdown",
   "id": "503d51fd-c6eb-46df-8368-be12cb1e3056",
   "metadata": {},
   "source": [
    "## 패턴찾기"
   ]
  },
  {
   "cell_type": "markdown",
   "id": "97a9a848-f9c5-4bbb-b115-ea4129561fe4",
   "metadata": {},
   "source": [
    "- 정수 n을 1,2,3 으로 조합의 합으로 나타낼 수 있는 조합의 수?\n",
    "    - n=1 -> 1 (1)\n",
    "    - n=2 -> 2 (2, 1+1)\n",
    "    - n=3 -> 4 (3, 1+2, 2+1, 1+1+1)\n",
    "    - n=4 -> 7 (3+1, 1+3, 2+2, 1+1+2, 1+2+1, 2+1+1, 1+1+1+1)\n",
    "    - n=5 -> 13 \n",
    "    - ...\n",
    "- f(n) = f(n-1) + f(n-2) + f(n-3) (n > 4 일때)"
   ]
  },
  {
   "cell_type": "code",
   "execution_count": 30,
   "id": "077ab6c1-094b-4962-8c57-3f79724de7e2",
   "metadata": {},
   "outputs": [],
   "source": [
    "def solution(n: int) -> int:\n",
    "    if n == 1:\n",
    "        return 1\n",
    "    if n == 2:\n",
    "        return 2\n",
    "    if n == 3:\n",
    "        return 4\n",
    "    \n",
    "    return solution(n-1) + solution(n-2) + solution(n-3)"
   ]
  },
  {
   "cell_type": "code",
   "execution_count": 32,
   "id": "08d6614d-34ee-4d3e-b698-66bff5d28423",
   "metadata": {},
   "outputs": [
    {
     "data": {
      "text/plain": [
       "274"
      ]
     },
     "execution_count": 32,
     "metadata": {},
     "output_type": "execute_result"
    }
   ],
   "source": [
    "solution(10)"
   ]
  }
 ],
 "metadata": {
  "kernelspec": {
   "display_name": "Python 3 (ipykernel)",
   "language": "python",
   "name": "python3"
  },
  "language_info": {
   "codemirror_mode": {
    "name": "ipython",
    "version": 3
   },
   "file_extension": ".py",
   "mimetype": "text/x-python",
   "name": "python",
   "nbconvert_exporter": "python",
   "pygments_lexer": "ipython3",
   "version": "3.11.5"
  }
 },
 "nbformat": 4,
 "nbformat_minor": 5
}
