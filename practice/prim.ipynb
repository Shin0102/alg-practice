{
 "cells": [
  {
   "cell_type": "markdown",
   "id": "d81143d0-bc1e-45e2-9c19-2e1d53c094e6",
   "metadata": {},
   "source": [
    "# Prim 알고리즘"
   ]
  },
  {
   "cell_type": "markdown",
   "id": "e60e2860-23ae-4ddb-803a-5ebb2ff48bca",
   "metadata": {},
   "source": [
    "<img src=\"https://www.fun-coding.org/00_Images/prim1.png\" width=800>"
   ]
  },
  {
   "cell_type": "markdown",
   "id": "e67d2781-9998-4731-ae7f-fd95c602841c",
   "metadata": {},
   "source": [
    "<img src=\"https://www.fun-coding.org/00_Images/prim2.png\" width=800>"
   ]
  },
  {
   "cell_type": "markdown",
   "id": "e5ef2ef0-5cea-4bd8-8ac6-a39c25ef9988",
   "metadata": {},
   "source": [
    "<img src=\"https://www.fun-coding.org/00_Images/prim3.png\" width=800>"
   ]
  },
  {
   "cell_type": "code",
   "execution_count": 3,
   "id": "db8a37cc-5d3b-43c6-bae4-978141f395e1",
   "metadata": {},
   "outputs": [],
   "source": [
    "practice_graph = {\n",
    "    'A': {'B': 7, 'D': 5},\n",
    "    'B': {'A': 7, 'D': 9, 'C': 8, 'E': 7},\n",
    "    'C': {'B': 8, 'E': 5},\n",
    "    'D': {'A': 5, 'B': 9, 'E': 7, 'F': 6},\n",
    "    'E': {'B': 7, 'C': 5, 'D': 7, 'F': 8, 'G': 9},\n",
    "    'F': {'D': 6, 'E': 8, 'G': 11},\n",
    "    'G': {'E': 9, 'F': 11}    \n",
    "}"
   ]
  },
  {
   "cell_type": "code",
   "execution_count": 17,
   "id": "3151ea8b-a3db-404f-8467-be4029a7bd94",
   "metadata": {
    "is_executing": true
   },
   "outputs": [
    {
     "data": {
      "text/plain": [
       "[['A', 'A', 0],\n",
       " ['A', 'D', 5],\n",
       " ['D', 'F', 6],\n",
       " ['A', 'B', 7],\n",
       " ['D', 'E', 7],\n",
       " ['E', 'C', 5],\n",
       " ['E', 'G', 9]]"
      ]
     },
     "execution_count": 17,
     "metadata": {},
     "output_type": "execute_result"
    }
   ],
   "source": [
    "from heapdict import heapdict\n",
    "\n",
    "def prim(graph: dict, start: str) -> list:  # node 기반\n",
    "    mst = []\n",
    "    keys = heapdict()  # 자동으로 최소힙 갱신\n",
    "    visited = dict()  # 지나온 경로를 저장\n",
    "\n",
    "    for node in graph.keys():  # 초기화\n",
    "        keys[node] = float(\"inf\")  \n",
    "        visited[node] = None\n",
    "    \n",
    "    keys[start], visited[start] = 0, start\n",
    "    while keys:\n",
    "        cur_node, cur_key = keys.popitem()\n",
    "        mst.append([visited[cur_node], cur_node, cur_key])\n",
    "        for adjacent, weight in graph[cur_node].items():\n",
    "            if adjacent in keys and weight < keys[adjacent]:\n",
    "                keys[adjacent] = weight\n",
    "                visited[adjacent] = cur_node\n",
    "    return mst\n",
    "\n",
    "prim(practice_graph, \"A\")\n",
    "    \n",
    "    "
   ]
  },
  {
   "cell_type": "code",
   "execution_count": 16,
   "id": "19e9ad85-03c1-4e82-9d03-dde072bbb5e4",
   "metadata": {},
   "outputs": [],
   "source": [
    "practice_graph2 = [\n",
    "    (7, 'A', 'B'), (5, 'A', 'D'),\n",
    "    (8, 'B', 'C'), (9, 'B', 'D'), (7, 'B', 'E'),\n",
    "    (5, 'C', 'E'),\n",
    "    (7, 'D', 'E'), (6, 'D', 'F'),\n",
    "    (8, 'E', 'F'), (9, 'E', 'G'),\n",
    "    (11, 'F', 'G')\n",
    "]"
   ]
  },
  {
   "cell_type": "code",
   "execution_count": null,
   "id": "dd7f586b-d2d8-4c26-b4f3-08fc299d0382",
   "metadata": {},
   "outputs": [],
   "source": [
    "from collections import defaultdict\n",
    "from heapq import *\n",
    "\n",
    "def prim2(edges: list, start: str) -> list:  # edge 기반\n",
    "    mst = []\n",
    "    adjacent_edges = defaultdict(list)\n",
    "    for weight, n1, n2 in edges:  # 초기화\n",
    "        adjacent_edges[n1].append((weight, n1, n2))\n",
    "        adjacent_edges[n2].append((weight, n2, n1))\n",
    "\n",
    "    visited = set(start)\n",
    "    to_visit = adjecent_edges[start]\n",
    "    heapify(to_visit)  # 최소힙\n",
    "    while to_visit:\n",
    "        weight, n1, n2 = heappop(to_visit)\n",
    "        mst.append((weight, n1, n2))\n",
    "        visited.add(n2)\n",
    "        \n",
    "        for edge in adjacent_edges[n2]:\n",
    "            if edge[2] not in vistied:\n",
    "                heappush(to_visit, edge)\n",
    "\n",
    "    return mst\n",
    "        \n",
    "prim2(practice_graph2, \""
   ]
  }
 ],
 "metadata": {
  "kernelspec": {
   "display_name": "Python 3 (ipykernel)",
   "language": "python",
   "name": "python3"
  },
  "language_info": {
   "codemirror_mode": {
    "name": "ipython",
    "version": 3
   },
   "file_extension": ".py",
   "mimetype": "text/x-python",
   "name": "python",
   "nbconvert_exporter": "python",
   "pygments_lexer": "ipython3",
   "version": "3.12.2"
  }
 },
 "nbformat": 4,
 "nbformat_minor": 5
}
