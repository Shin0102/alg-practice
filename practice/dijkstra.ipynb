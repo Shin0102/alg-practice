{
 "cells": [
  {
   "cell_type": "code",
   "execution_count": 12,
   "id": "eaef74d9-b706-4bbf-a8d5-93156547329a",
   "metadata": {},
   "outputs": [],
   "source": [
    "graph = {\n",
    "    \"A\": {\"B\": 8, \"C\": 1, \"D\":2},\n",
    "    \"B\": {},\n",
    "    \"C\": {\"B\": 5, \"D\": 2},\n",
    "    \"D\": {\"E\": 3, \"F\": 5},\n",
    "    \"E\": {\"F\": 1},\n",
    "    \"F\": {\"A\": 5}\n",
    "}"
   ]
  },
  {
   "cell_type": "code",
   "execution_count": 29,
   "id": "2fb8fa76-ce5e-41c7-a3f6-66b0eff16b14",
   "metadata": {},
   "outputs": [
    {
     "name": "stdout",
     "output_type": "stream",
     "text": [
      "{'A': 0, 'B': 6, 'C': 1, 'D': 2, 'E': 5, 'F': 6}\n"
     ]
    }
   ],
   "source": [
    "import heapq\n",
    "\n",
    "\n",
    "def dijkstra(graph: dict, start: str) -> dict:\n",
    "    distance = {node: float(\"inf\") for node in graph}\n",
    "    distance[start] = 0\n",
    "    queue = []\n",
    "    heapq.heappush(queue, (distance[start], start))\n",
    "    while queue:\n",
    "        cur_cost, cur_node = heapq.heappop(queue)\n",
    "\n",
    "        # 저장되어 있는 거리보다 현재 비용이 더 크면 skip\n",
    "        if distance[cur_node] < cur_cost:\n",
    "            continue\n",
    "        \n",
    "        for adjacent, adj_cost in graph[cur_node].items():\n",
    "            tot_cost = cur_cost + adj_cost\n",
    "            if tot_cost < distance[adjacent]:\n",
    "                distance[adjacent] = tot_cost\n",
    "                heapq.heappush(queue, (distance[adjacent], adjacent))\n",
    "    \n",
    "    return distance\n",
    "\n",
    "print(dijkstra(graph, \"A\"))\n",
    "    "
   ]
  }
 ],
 "metadata": {
  "kernelspec": {
   "display_name": "Python 3 (ipykernel)",
   "language": "python",
   "name": "python3"
  },
  "language_info": {
   "codemirror_mode": {
    "name": "ipython",
    "version": 3
   },
   "file_extension": ".py",
   "mimetype": "text/x-python",
   "name": "python",
   "nbconvert_exporter": "python",
   "pygments_lexer": "ipython3",
   "version": "3.11.7"
  }
 },
 "nbformat": 4,
 "nbformat_minor": 5
}
