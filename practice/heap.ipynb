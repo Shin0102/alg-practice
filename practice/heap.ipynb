{
 "cells": [
  {
   "cell_type": "markdown",
   "id": "1c8fd952-b7fe-4670-bf9a-7344c0f0cd99",
   "metadata": {},
   "source": [
    "# heap 연습"
   ]
  },
  {
   "cell_type": "code",
   "execution_count": 42,
   "id": "bfa1958a-b68d-4ebb-9f96-5affc0a27ab4",
   "metadata": {
    "is_executing": true
   },
   "outputs": [
    {
     "name": "stdout",
     "output_type": "stream",
     "text": [
      "12\n",
      "10\n",
      "8\n",
      "[None, 7, 5, 2]\n",
      "7\n",
      "[None, 5, 2]\n",
      "5\n",
      "[None, 2]\n",
      "2\n",
      "[None]\n"
     ]
    }
   ],
   "source": [
    "class MaxHeap:\n",
    "    def __init__(self):\n",
    "        self.heap_list = []\n",
    "        self.heap_list.append(None)\n",
    "\n",
    "    def insert(self, data):\n",
    "        self.heap_list.append(data)\n",
    "        inserted_index = len(self.heap_list) - 1\n",
    "        while self._move_up(inserted_index):\n",
    "            parent_index = inserted_index // 2\n",
    "            self.heap_list[parent_index], self.heap_list[inserted_index] = self.heap_list[inserted_index], self.heap_list[parent_index]\n",
    "            inserted_index = parent_index\n",
    "            \n",
    "    def _move_up(self, inserted_index):\n",
    "        if inserted_index == 1:\n",
    "            return False\n",
    "\n",
    "        parent_index = inserted_index // 2\n",
    "        if self.heap_list[parent_index] < self.heap_list[inserted_index]:\n",
    "            return True\n",
    "        return False\n",
    "\n",
    "    def pop(self):\n",
    "        if len(self.heap_list) <= 1:\n",
    "            return None\n",
    "\n",
    "        cur_index = 1\n",
    "        max_data = self.heap_list[cur_index]\n",
    "        self.heap_list[cur_index] = self.heap_list[-1]\n",
    "        del self.heap_list[-1]\n",
    "        \n",
    "        while self._move_down(cur_index):\n",
    "            left_child_index = cur_index * 2\n",
    "            right_child_index = cur_index * 2 + 1\n",
    "\n",
    "            # 왼쪽 자식노드만 있을때\n",
    "            if right_child_index >= len(self.heap_list):\n",
    "                self.heap_list[cur_index], self.heap_list[left_child_index] = self.heap_list[left_child_index], self.heap_list[cur_index]\n",
    "                cur_index = left_child_index\n",
    "            # 자식노드 둘다 있을때\n",
    "            else: \n",
    "                if self.heap_list[left_child_index] > self.heap_list[right_child_index]:\n",
    "                    self.heap_list[cur_index], self.heap_list[left_child_index] = self.heap_list[left_child_index], self.heap_list[cur_index]\n",
    "                    cur_index = left_child_index\n",
    "                else:\n",
    "                    self.heap_list[cur_index], self.heap_list[right_child_index] = self.heap_list[right_child_index], self.heap_list[cur_index]\n",
    "                    cur_index = right_child_index\n",
    "            \n",
    "        return max_data\n",
    "\n",
    "    def _move_down(self, cur_index):\n",
    "        left_child_index = cur_index * 2\n",
    "        right_child_index = cur_index * 2 + 1\n",
    "        # 왼쪽 자식노드가 없을때\n",
    "        if left_child_index >= len(self.heap_list):\n",
    "            return False\n",
    "\n",
    "        # 왼쪽 자식노드만 있을때\n",
    "        if right_child_index >= len(self.heap_list):\n",
    "            if self.heap_list[cur_index] < self.heap_list[left_child_index]:\n",
    "                return True\n",
    "            return False\n",
    "        # 자식노드 둘다 있을때\n",
    "        else:\n",
    "            if self.heap_list[cur_index] < self.heap_list[left_child_index] or self.heap_list[cur_index] < self.heap_list[right_child_index]:\n",
    "                return True\n",
    "            return False\n",
    "        \n",
    "\n",
    "if __name__ == \"__main__\":\n",
    "    max_heap = MaxHeap()\n",
    "    max_heap.insert(8)\n",
    "    max_heap.insert(5)\n",
    "    max_heap.insert(2)\n",
    "    max_heap.insert(10)\n",
    "    max_heap.insert(7)\n",
    "    max_heap.insert(12)\n",
    "    print(max_heap.pop())\n",
    "    print(max_heap.pop())\n",
    "    print(max_heap.pop())\n",
    "    print(max_heap.heap_list)\n",
    "    print(max_heap.pop())\n",
    "    print(max_heap.heap_list)\n",
    "    print(max_heap.pop())\n",
    "    print(max_heap.heap_list)\n",
    "    print(max_heap.pop())\n",
    "    print(max_heap.heap_list)"
   ]
  },
  {
   "cell_type": "code",
   "execution_count": null,
   "id": "f250d308-a05d-42df-9af0-d91a29a8df7c",
   "metadata": {},
   "outputs": [],
   "source": [
    "_"
   ]
  }
 ],
 "metadata": {
  "kernelspec": {
   "display_name": "Python 3 (ipykernel)",
   "language": "python",
   "name": "python3"
  },
  "language_info": {
   "codemirror_mode": {
    "name": "ipython",
    "version": 3
   },
   "file_extension": ".py",
   "mimetype": "text/x-python",
   "name": "python",
   "nbconvert_exporter": "python",
   "pygments_lexer": "ipython3",
   "version": "3.11.5"
  }
 },
 "nbformat": 4,
 "nbformat_minor": 5
}
