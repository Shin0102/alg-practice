{
 "cells": [
  {
   "cell_type": "markdown",
   "id": "7638f6ce-fe5b-4528-b20c-70da7b20b147",
   "metadata": {},
   "source": [
    "# merge_sort 연습"
   ]
  },
  {
   "cell_type": "code",
   "execution_count": 36,
   "id": "d3d9771c-c3d8-46fd-a79c-8c6d97568cc4",
   "metadata": {},
   "outputs": [],
   "source": [
    "def merge(left: list, right: list) -> list:\n",
    "    merged = []\n",
    "    left_index, right_index = 0, 0\n",
    "    # left, right exist\n",
    "    while len(left) > left_index and len(right) > right_index:\n",
    "        if left[left_index] > right[right_index]:\n",
    "            merged.append(right[right_index])\n",
    "            right_index += 1\n",
    "        else:\n",
    "            merged.append(left[left_index])\n",
    "            left_index += 1\n",
    "\n",
    "    # only left exist, 이미 정렬된 상태\n",
    "    while len(left) > left_index:\n",
    "        merged.append(left[left_index])\n",
    "        left_index += 1\n",
    "\n",
    "    # only right exist, 이미 정렬된 상태\n",
    "    while len(right) > right_index:\n",
    "        merged.append(right[right_index])\n",
    "        right_index += 1\n",
    "    return merged\n",
    "        \n",
    "\n",
    "def merge_sort(data: list) -> list:\n",
    "    if len(data) <= 1:\n",
    "        return data\n",
    "    mid = len(data) // 2\n",
    "    left = merge_sort(data[:mid])\n",
    "    right = merge_sort(data[mid:])\n",
    "    print(left, right)\n",
    "    return merge(left, right)            \n",
    "    \n",
    "    "
   ]
  },
  {
   "cell_type": "code",
   "execution_count": 38,
   "id": "fb917358-4ef4-420e-a935-6751ccfe1724",
   "metadata": {},
   "outputs": [
    {
     "name": "stdout",
     "output_type": "stream",
     "text": [
      "[59, 41, 98, 48, 27, 26, 15, 43, 97, 28]\n",
      "[59] [41]\n",
      "[48] [27]\n",
      "[98] [27, 48]\n",
      "[41, 59] [27, 48, 98]\n",
      "[26] [15]\n",
      "[97] [28]\n",
      "[43] [28, 97]\n",
      "[15, 26] [28, 43, 97]\n",
      "[27, 41, 48, 59, 98] [15, 26, 28, 43, 97]\n",
      "result: [15, 26, 27, 28, 41, 43, 48, 59, 97, 98]\n"
     ]
    }
   ],
   "source": [
    "import random\n",
    "sample_data = random.sample(range(1,100), 10)\n",
    "print(sample_data)\n",
    "print(f\"result: {merge_sort(sample_data)}\")"
   ]
  }
 ],
 "metadata": {
  "kernelspec": {
   "display_name": "Python 3 (ipykernel)",
   "language": "python",
   "name": "python3"
  },
  "language_info": {
   "codemirror_mode": {
    "name": "ipython",
    "version": 3
   },
   "file_extension": ".py",
   "mimetype": "text/x-python",
   "name": "python",
   "nbconvert_exporter": "python",
   "pygments_lexer": "ipython3",
   "version": "3.11.7"
  }
 },
 "nbformat": 4,
 "nbformat_minor": 5
}
