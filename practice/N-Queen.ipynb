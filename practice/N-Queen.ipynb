{
 "cells": [
  {
   "cell_type": "markdown",
   "id": "8107bd3f-bfc4-44d3-848e-da590c6dabbe",
   "metadata": {},
   "source": [
    "# N-Queen(Backtrack)\n",
    "- N X N 크기의 체스판에 N 개의 퀸을 서로 공격할 수 없도록 배치\n",
    "- 퀸은 수평,수직,대각선으로 이동가능"
   ]
  },
  {
   "cell_type": "code",
   "execution_count": 6,
   "id": "308bc0c6-d8ec-42c1-a80f-8ac4f9f532b6",
   "metadata": {},
   "outputs": [
    {
     "data": {
      "text/plain": [
       "[[1, 3, 0, 2], [2, 0, 3, 1]]"
      ]
     },
     "execution_count": 6,
     "metadata": {},
     "output_type": "execute_result"
    }
   ],
   "source": [
    "def is_available(candidate: list, col: int) -> bool:\n",
    "    current_row = len(candidate)\n",
    "    for row in range(current_row):\n",
    "        # 수평 or 대각선\n",
    "        if candidate[row] == col or abs(candidate[row] - col) == current_row - row:\n",
    "            return False\n",
    "    return True\n",
    "\n",
    "def dfs(n: int, current_row: int, current_candidate: list, result: list) -> None:\n",
    "    if n == current_row:\n",
    "        result.append(current_candidate[:])  # shallow copy\n",
    "        return\n",
    "\n",
    "    for col in range(n):\n",
    "        # pruning\n",
    "        if is_available(current_candidate, col):\n",
    "            current_candidate.append(col)\n",
    "            dfs(n, current_row + 1, current_candidate, result)\n",
    "            current_candidate.pop()\n",
    "        \n",
    "\n",
    "def n_queen(n: int) -> list:\n",
    "    result = []\n",
    "    dfs(n, 0, [], result)\n",
    "    return result\n",
    "\n",
    "n_queen(4)"
   ]
  }
 ],
 "metadata": {
  "kernelspec": {
   "display_name": "Python 3 (ipykernel)",
   "language": "python",
   "name": "python3"
  },
  "language_info": {
   "codemirror_mode": {
    "name": "ipython",
    "version": 3
   },
   "file_extension": ".py",
   "mimetype": "text/x-python",
   "name": "python",
   "nbconvert_exporter": "python",
   "pygments_lexer": "ipython3",
   "version": "3.12.2"
  }
 },
 "nbformat": 4,
 "nbformat_minor": 5
}
