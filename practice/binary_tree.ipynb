{
 "cells": [
  {
   "cell_type": "markdown",
   "id": "cec43cfe-ab0b-48eb-86c2-c06eebba860b",
   "metadata": {},
   "source": [
    "# 이진탐색 연습"
   ]
  },
  {
   "cell_type": "code",
   "execution_count": 14,
   "id": "906e4a21-dac9-4afe-a25a-2f33e82529f0",
   "metadata": {},
   "outputs": [],
   "source": [
    "def binary_search(data: list, search:int) -> bool:\n",
    "    if len(data) == 1 and search == data[0]:\n",
    "        return True\n",
    "    if len(data) == 1 and search != data[0]:\n",
    "        return False\n",
    "    if len(data) == 0:\n",
    "        return False\n",
    "\n",
    "    mid = len(data) // 2\n",
    "    if search == data[mid]:\n",
    "        return True\n",
    "    elif search > data[mid]:\n",
    "        return binary_search(data[mid:], search)\n",
    "    else:\n",
    "        return binary_search(data[0:mid], search)\n"
   ]
  },
  {
   "cell_type": "code",
   "execution_count": 15,
   "id": "7b977c6d-cdd4-4f14-a853-ba39a51860ae",
   "metadata": {},
   "outputs": [
    {
     "data": {
      "text/plain": [
       "True"
      ]
     },
     "execution_count": 15,
     "metadata": {},
     "output_type": "execute_result"
    }
   ],
   "source": [
    "sample_data = [1,4,6,7,8,9]\n",
    "search = 1\n",
    "binary_search(sample_data, search)"
   ]
  }
 ],
 "metadata": {
  "kernelspec": {
   "display_name": "Python 3 (ipykernel)",
   "language": "python",
   "name": "python3"
  },
  "language_info": {
   "codemirror_mode": {
    "name": "ipython",
    "version": 3
   },
   "file_extension": ".py",
   "mimetype": "text/x-python",
   "name": "python",
   "nbconvert_exporter": "python",
   "pygments_lexer": "ipython3",
   "version": "3.11.7"
  }
 },
 "nbformat": 4,
 "nbformat_minor": 5
}
