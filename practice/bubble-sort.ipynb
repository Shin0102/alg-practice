{
 "cells": [
  {
   "cell_type": "markdown",
   "id": "b9b8506a-4a47-4a00-873d-765e149bae21",
   "metadata": {},
   "source": [
    "# 버블정렬 연습"
   ]
  },
  {
   "cell_type": "code",
   "execution_count": 13,
   "id": "1124e1d2-378f-40a0-92ee-aa07111c1371",
   "metadata": {},
   "outputs": [],
   "source": [
    "def bubble_sort(data: list) -> list: \n",
    "    for index in range(len(data)):\n",
    "        is_swap = False\n",
    "        for index2 in range(len(data) - index - 1):\n",
    "            if data[index] < data[index2]:\n",
    "                data[index], data[index2] = data[index2], data[index]\n",
    "                is_swap = True\n",
    "        if not is_swap:\n",
    "            break\n",
    "\n",
    "    return data"
   ]
  },
  {
   "cell_type": "code",
   "execution_count": 14,
   "id": "58fde843-8972-46c4-af90-119903e23dfc",
   "metadata": {},
   "outputs": [
    {
     "name": "stdout",
     "output_type": "stream",
     "text": [
      "[9, 82, 61, 58, 25, 64, 65, 8, 52, 88]\n",
      "[9, 25, 58, 61, 82, 64, 65, 8, 52, 88]\n"
     ]
    }
   ],
   "source": [
    "import random\n",
    "sample_data = random.sample(range(100), 10)\n",
    "print(sample_data)\n",
    "sorted_data = bubble_sort(sample_data)\n",
    "print(sorted_data)"
   ]
  }
 ],
 "metadata": {
  "kernelspec": {
   "display_name": "Python 3 (ipykernel)",
   "language": "python",
   "name": "python3"
  },
  "language_info": {
   "codemirror_mode": {
    "name": "ipython",
    "version": 3
   },
   "file_extension": ".py",
   "mimetype": "text/x-python",
   "name": "python",
   "nbconvert_exporter": "python",
   "pygments_lexer": "ipython3",
   "version": "3.11.5"
  }
 },
 "nbformat": 4,
 "nbformat_minor": 5
}
