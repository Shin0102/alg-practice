{
 "cells": [
  {
   "cell_type": "markdown",
   "metadata": {},
   "source": [
    "[여행경로 문제링크](https://programmers.co.kr/learn/courses/30/lessons/43164?language=python3)"
   ]
  },
  {
   "cell_type": "code",
   "execution_count": 13,
   "metadata": {},
   "outputs": [],
   "source": [
    "def dfs(graph, start):\n",
    "    need_visit = [start]\n",
    "    visited = []\n",
    "    while need_visit:\n",
    "        node = need_visit[-1]\n",
    "        if node not in graph or len(graph[node]) == 0:\n",
    "            visited.append(need_visit.pop())\n",
    "        else:\n",
    "            need_visit.append(graph[node].pop())\n",
    "    return visited\n",
    "\n",
    "def solution(tickets):\n",
    "    tickets.sort(reverse=True)\n",
    "    graph = dict()\n",
    "    for t1, t2 in tickets:\n",
    "        if t1 in graph:\n",
    "            graph[t1].append(t2)\n",
    "        else:\n",
    "            graph[t1] = [t2]\n",
    "    print(graph)\n",
    "    answer = dfs(graph, \"ICN\")\n",
    "    answer.reverse()\n",
    "    return answer"
   ]
  },
  {
   "cell_type": "code",
   "execution_count": 14,
   "metadata": {
    "scrolled": true
   },
   "outputs": [
    {
     "name": "stdout",
     "output_type": "stream",
     "text": [
      "{'SFO': ['ATL'], 'ICN': ['SFO', 'ATL'], 'ATL': ['SFO', 'ICN']}\n",
      "{'JFK': ['HND'], 'ICN': ['JFK'], 'HND': ['IAD']}\n",
      "{'ICN': ['B', 'A'], 'B': ['ICN']}\n"
     ]
    }
   ],
   "source": [
    "assert solution([[\"ICN\", \"SFO\"], [\"ICN\", \"ATL\"], [\"SFO\", \"ATL\"], [\"ATL\", \"ICN\"], [\"ATL\", \"SFO\"]]) == [\"ICN\", \"ATL\", \"ICN\", \"SFO\", \"ATL\", \"SFO\"]\n",
    "assert solution([[\"ICN\", \"JFK\"], [\"HND\", \"IAD\"], [\"JFK\", \"HND\"]]) == [\"ICN\", \"JFK\", \"HND\", \"IAD\"]\n",
    "assert solution([[\"ICN\", \"A\"], [\"ICN\", \"B\"], [\"B\", \"ICN\"]]) == [\"ICN\", \"B\", \"ICN\", \"A\"]"
   ]
  },
  {
   "cell_type": "markdown",
   "metadata": {},
   "source": [
    "### 풀이\n",
    "---\n",
    "1. 처음엔 단순한 DFS 문제로 생각하고 풀어서 통과하지 못하였다.\n",
    "2. [[\"ICN\", \"A\"], [\"ICN\", \"B\"], [\"B\", \"ICN\"]] 이 예제와 같이 \"ICN\" -> \"A\" 로 가는경우를 고려해서 풀어야한다."
   ]
  }
 ],
 "metadata": {
  "kernelspec": {
   "display_name": "Python 3",
   "language": "python",
   "name": "python3"
  },
  "language_info": {
   "codemirror_mode": {
    "name": "ipython",
    "version": 3
   },
   "file_extension": ".py",
   "mimetype": "text/x-python",
   "name": "python",
   "nbconvert_exporter": "python",
   "pygments_lexer": "ipython3",
   "version": "3.7.6"
  }
 },
 "nbformat": 4,
 "nbformat_minor": 4
}
