{
 "cells": [
  {
   "cell_type": "markdown",
   "metadata": {},
   "source": [
    "[단어변환 문제링크](https://programmers.co.kr/learn/courses/30/lessons/43164?language=python3)"
   ]
  },
  {
   "cell_type": "code",
   "execution_count": 13,
   "metadata": {},
   "outputs": [],
   "source": [
    "def is_next_word(word1, word2):\n",
    "    \"\"\"\n",
    "    word2가 word1 다음에 올수있는 단어인지 체크\n",
    "    param:\n",
    "        word1: 현재 체크중인 단어\n",
    "        word2: word1 다음에 올수있는 단어후보\n",
    "    \"\"\"\n",
    "    same_cnt = 0\n",
    "    for i in range(len(word1)):\n",
    "        if word1[i] == word2[i]:\n",
    "            same_cnt += 1\n",
    "    return len(word1) == (same_cnt + 1)\n",
    "\n",
    "def solution(begin, target, words):\n",
    "    # target이 words에 없는경우\n",
    "    if target not in words:\n",
    "        return 0\n",
    "    \n",
    "    need_check = [begin]\n",
    "    checked = []\n",
    "    \n",
    "    answer = 0\n",
    "    while len(need_check):\n",
    "        check_words = need_check[:]\n",
    "        for i, check_word in enumerate(check_words):            \n",
    "            for j, word in enumerate(words):\n",
    "                if word not in checked and is_next_word(check_word, word):\n",
    "                    need_check.append(word)\n",
    "                    checked.append(word)\n",
    "            need_check.pop(0)\n",
    "        \n",
    "        # 변환 가능\n",
    "        if target in check_words:\n",
    "            return answer\n",
    "        \n",
    "        answer += 1\n",
    "    return answer"
   ]
  },
  {
   "cell_type": "code",
   "execution_count": 14,
   "metadata": {},
   "outputs": [
    {
     "name": "stdout",
     "output_type": "stream",
     "text": [
      "4\n"
     ]
    }
   ],
   "source": [
    "assert solution(\"hit\", \"cog\", [\"hot\", \"dot\", \"dog\", \"lot\", \"log\", \"cog\"]) == 4\n",
    "assert solution(\"hit\", \"cog\", [\"hot\", \"dot\", \"dog\", \"lot\", \"log\"]) == 0"
   ]
  },
  {
   "cell_type": "markdown",
   "metadata": {},
   "source": [
    "### 풀이\n",
    "---\n",
    "1. BFS 방식으로 풀이\n",
    "2. 체크한 단어를 제외하고, 다음단어로 올수있는 후보들을 체크할 노드로 추가\n",
    "3. target 도달할때까지 반복\n"
   ]
  }
 ],
 "metadata": {
  "kernelspec": {
   "display_name": "Python 3",
   "language": "python",
   "name": "python3"
  },
  "language_info": {
   "codemirror_mode": {
    "name": "ipython",
    "version": 3
   },
   "file_extension": ".py",
   "mimetype": "text/x-python",
   "name": "python",
   "nbconvert_exporter": "python",
   "pygments_lexer": "ipython3",
   "version": "3.7.6"
  }
 },
 "nbformat": 4,
 "nbformat_minor": 4
}
