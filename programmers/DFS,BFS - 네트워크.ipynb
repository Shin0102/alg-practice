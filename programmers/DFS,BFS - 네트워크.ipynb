{
 "cells": [
  {
   "cell_type": "markdown",
   "metadata": {},
   "source": [
    "[네트워크 문제링크](https://programmers.co.kr/learn/courses/30/lessons/43162?language=python3)"
   ]
  },
  {
   "cell_type": "code",
   "execution_count": 1,
   "metadata": {},
   "outputs": [],
   "source": [
    "parent = dict()\n",
    "rank = dict()\n",
    "\n",
    "def find(node):\n",
    "    # path compression \n",
    "    if parent[node] != node:\n",
    "        parent[node] = find(parent[node])\n",
    "    return parent[node]\n",
    "\n",
    "def union(node_v, node_u):\n",
    "    root1 = find(node_v)\n",
    "    root2 = find(node_u)\n",
    "\n",
    "    # union-by-rank \n",
    "    if rank[root1] > rank[root2]:\n",
    "        parent[root2] = root1\n",
    "    else:\n",
    "        parent[root1] = root2\n",
    "        if rank[root1] == rank[root2]:\n",
    "            rank[root2] += 1\n",
    "\n",
    "def make_set(node):\n",
    "    parent[node] = node\n",
    "    rank[node] = 0\n",
    "\n",
    "def solution(n, computers):\n",
    "    for num in range(0, n):\n",
    "        make_set(num)\n",
    "\n",
    "    answer = n\n",
    "    for node1, computer in enumerate(computers):\n",
    "        for node2, connect in enumerate(computer):\n",
    "            if find(node1) != find(node2) and connect:\n",
    "                union(node1, node2)\n",
    "                answer -= 1\n",
    "\n",
    "    return answer"
   ]
  },
  {
   "cell_type": "code",
   "execution_count": 2,
   "metadata": {},
   "outputs": [],
   "source": [
    "assert solution(3, [[1, 1, 0], [1, 1, 0], [0, 0, 1]]) == 2\n",
    "assert solution(3, [[1, 1, 0], [1, 1, 1], [0, 1, 1]]) == 1"
   ]
  },
  {
   "cell_type": "markdown",
   "metadata": {},
   "source": [
    "### 풀이(크루스칼 알고리즘)\n",
    "---\n",
    "1. 크루스칼(path compression, union-by-rank) 알고리즘으로 풀이\n",
    "2. 초기 answer를 n(노드개수)으로 세팅\n",
    "3. 새로운 네트워크가 연결될때마다 answer - 1"
   ]
  },
  {
   "cell_type": "code",
   "execution_count": 3,
   "metadata": {},
   "outputs": [],
   "source": [
    "def solution(n, computers):\n",
    "    answer = 0\n",
    "    visited = [0 for i in range(n)]\n",
    "    def dfs(computers, visited, start):\n",
    "        stack = [start]\n",
    "        while stack:\n",
    "            j = stack.pop()\n",
    "            if visited[j] == 0:\n",
    "                visited[j] = 1\n",
    "            for i in range(0, len(computers)):\n",
    "                if computers[j][i] ==1 and visited[i] == 0:\n",
    "                    stack.append(i)\n",
    "    i=0\n",
    "    while 0 in visited:\n",
    "        if visited[i] ==0:\n",
    "            dfs(computers, visited, i)\n",
    "            answer +=1\n",
    "        i+=1\n",
    "    return answer"
   ]
  },
  {
   "cell_type": "code",
   "execution_count": 4,
   "metadata": {},
   "outputs": [],
   "source": [
    "assert solution(3, [[1, 1, 0], [1, 1, 0], [0, 0, 1]]) == 2\n",
    "assert solution(3, [[1, 1, 0], [1, 1, 1], [0, 1, 1]]) == 1"
   ]
  },
  {
   "cell_type": "markdown",
   "metadata": {},
   "source": [
    "### 풀이(DFS)\n",
    "---\n",
    "1. DFS로 연결된 그래프를 카운팅"
   ]
  }
 ],
 "metadata": {
  "kernelspec": {
   "display_name": "Python 3",
   "language": "python",
   "name": "python3"
  },
  "language_info": {
   "codemirror_mode": {
    "name": "ipython",
    "version": 3
   },
   "file_extension": ".py",
   "mimetype": "text/x-python",
   "name": "python",
   "nbconvert_exporter": "python",
   "pygments_lexer": "ipython3",
   "version": "3.7.6"
  }
 },
 "nbformat": 4,
 "nbformat_minor": 4
}
