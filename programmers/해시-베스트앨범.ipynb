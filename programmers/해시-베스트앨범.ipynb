{
 "cells": [
  {
   "cell_type": "markdown",
   "metadata": {},
   "source": [
    "[베스트앨범 문제링크](https://programmers.co.kr/learn/courses/30/lessons/42579?language=python3)"
   ]
  },
  {
   "cell_type": "code",
   "execution_count": 1,
   "metadata": {},
   "outputs": [],
   "source": [
    "from collections import defaultdict\n",
    "\n",
    "def solution(genres, plays):\n",
    "    \"\"\"\n",
    "    album_dict : \n",
    "    {\n",
    "        \"genre\": [[song_id, song_plays], [song_id, song_plays], ...],\n",
    "        \"genre2\": [[song_id, song_plays], [song_id, song_plays], ...],\n",
    "    }\n",
    "    plays_dict:\n",
    "    {\n",
    "        \"genre\": 3000,\n",
    "        \"genre2\": 1500\n",
    "    }\n",
    "    \"\"\"\n",
    "    album_dict = defaultdict(list)\n",
    "    plays_dict = defaultdict(int)\n",
    "    for i, genre in enumerate(genres):\n",
    "        album_dict[genre].append([i,plays[i]])\n",
    "        plays_dict[genre] += plays[i]\n",
    "    \n",
    "    # 장르별 재생수에 따라 sorting\n",
    "    sorted_album = sorted(album_dict.items(), key=lambda x: plays_dict[x[0]], reverse=True)\n",
    "    answer = list()\n",
    "    for _, song_list in sorted_album:\n",
    "        sorted_song_list = sorted(song_list, key=lambda x: x[1], reverse=True)\n",
    "        answer.append(sorted_song_list[0][0])\n",
    "        try:                          \n",
    "            answer.append(sorted_song_list[1][0])\n",
    "        except IndexError:\n",
    "            pass\n",
    "    \n",
    "    return answer"
   ]
  },
  {
   "cell_type": "code",
   "execution_count": 2,
   "metadata": {},
   "outputs": [
    {
     "data": {
      "text/plain": [
       "[4, 1, 3, 0]"
      ]
     },
     "execution_count": 2,
     "metadata": {},
     "output_type": "execute_result"
    }
   ],
   "source": [
    "solution([\"classic\", \"pop\", \"classic\", \"classic\", \"pop\"], [500, 600, 150, 800, 2500])"
   ]
  },
  {
   "cell_type": "markdown",
   "metadata": {},
   "source": [
    "### 풀이\n",
    "---\n",
    "1. 장르별 노래 리스트와, 장르별 노래 재생수 dictionary를 먼저 만든다.\n",
    "2. 많이 재생된 장르 soritng > 자"
   ]
  }
 ],
 "metadata": {
  "kernelspec": {
   "display_name": "Python 3",
   "language": "python",
   "name": "python3"
  },
  "language_info": {
   "codemirror_mode": {
    "name": "ipython",
    "version": 3
   },
   "file_extension": ".py",
   "mimetype": "text/x-python",
   "name": "python",
   "nbconvert_exporter": "python",
   "pygments_lexer": "ipython3",
   "version": "3.8.5"
  }
 },
 "nbformat": 4,
 "nbformat_minor": 4
}
