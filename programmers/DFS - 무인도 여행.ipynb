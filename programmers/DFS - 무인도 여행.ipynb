{
 "cells": [
  {
   "cell_type": "markdown",
   "id": "attended-starter",
   "metadata": {},
   "source": [
    "[무인도 여행 문제링크](https://school.programmers.co.kr/learn/courses/30/lessons/154540)"
   ]
  },
  {
   "cell_type": "code",
   "execution_count": 216,
   "id": "filled-panel",
   "metadata": {
    "scrolled": false
   },
   "outputs": [],
   "source": [
    "import sys\n",
    "sys.setrecursionlimit(10**5)\n",
    "\n",
    "def solution(maps):\n",
    "    maps = [list(val) for val in maps]\n",
    "    answer = []\n",
    "    seen = set()\n",
    "    # 리스트 변환\n",
    "    row_len = len(maps)\n",
    "    col_len = len(maps[0])    \n",
    "    for r in range(row_len):\n",
    "        for c in range(col_len):\n",
    "            if maps[r][c] == \"X\":\n",
    "                maps[r][c] = 0\n",
    "            else:\n",
    "                maps[r][c] = int(maps[r][c])\n",
    "    \n",
    "    def visit_island(i, j):\n",
    "        if i < 0 or j < 0 or i == row_len or j == col_len:\n",
    "            return 0 \n",
    "        if maps[i][j] == 0 or (i,j) in seen:\n",
    "            return 0\n",
    "             \n",
    "        seen.add((i,j))\n",
    "        return (maps[i][j] \n",
    "                + visit_island(i+1, j) \n",
    "                + visit_island(i-1, j)\n",
    "                + visit_island(i, j+1)\n",
    "                + visit_island(i, j-1)\n",
    "               )\n",
    "             \n",
    "    \n",
    "    result = 0 \n",
    "    for r in range(row_len):\n",
    "        for c in range(col_len):\n",
    "            result = visit_island(r,c)\n",
    "            if result > 0:\n",
    "                answer.append(result)\n",
    "            \n",
    "    if sum(answer) == 0:\n",
    "        return [-1]\n",
    "    answer.sort()\n",
    "    return answer\n",
    "\n",
    "\n",
    "assert solution([\"X1X5X\",\"23X6X\",\"X4X7X\",\"8XXX9\"]) == [8,9,10,18]\n",
    "assert solution([\"X591X\",\"X1X5X\",\"X231X\",\"1XXX1\"]) == [1,1,27]\n",
    "assert solution([\"XXX\", \"XXX\", \"XXX\"]) == [-1]\n"
   ]
  },
  {
   "cell_type": "markdown",
   "id": "passive-capture",
   "metadata": {},
   "source": [
    "### 회고\n",
    "---\n",
    "1. 파이썬 재귀 제한으로 인해 테스트 통과가 되지 않음.\n",
    "2. "
   ]
  }
 ],
 "metadata": {
  "kernelspec": {
   "display_name": "Python 3",
   "language": "python",
   "name": "python3"
  },
  "language_info": {
   "codemirror_mode": {
    "name": "ipython",
    "version": 3
   },
   "file_extension": ".py",
   "mimetype": "text/x-python",
   "name": "python",
   "nbconvert_exporter": "python",
   "pygments_lexer": "ipython3",
   "version": "3.8.5"
  }
 },
 "nbformat": 4,
 "nbformat_minor": 5
}
