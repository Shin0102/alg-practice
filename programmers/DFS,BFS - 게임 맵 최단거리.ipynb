{
 "cells": [
  {
   "cell_type": "markdown",
   "id": "bibliographic-examination",
   "metadata": {
    "pycharm": {
     "name": "#%% md\n"
    }
   },
   "source": [
    "[게임 맵 최단거리 문제링크](https://school.programmers.co.kr/learn/courses/30/lessons/1844)"
   ]
  },
  {
   "cell_type": "code",
   "execution_count": 1,
   "id": "understanding-liquid",
   "metadata": {
    "pycharm": {
     "name": "#%%\n"
    }
   },
   "outputs": [],
   "source": [
    "from collections import deque\n",
    "\n",
    "height = 1\n",
    "width = 1\n",
    "\n",
    "def solution(maps):\n",
    "    height = len(maps)-1\n",
    "    width = len(maps[0])-1\n",
    "    \n",
    "    def seek_path(maps, seek_list):             \n",
    "        n, m, depth = seek_list.popleft()\n",
    "        \n",
    "        if n == height and m == width:\n",
    "            return depth\n",
    "        \n",
    "        if maps[n][m] == 0:\n",
    "            pass\n",
    "        else:\n",
    "            maps[n][m] = 0   \n",
    "            # up\n",
    "            if n > 0:\n",
    "                seek_list.append(((n-1), m, depth+1))\n",
    "            # down\n",
    "            if n < height:\n",
    "                seek_list.append(((n+1), m, depth+1))\n",
    "            # left\n",
    "            if m > 0:\n",
    "                seek_list.append((n, (m-1), depth+1))\n",
    "            # right\n",
    "            if m < width:\n",
    "                seek_list.append((n, (m+1), depth+1))\n",
    "\n",
    "        return -1\n",
    "            \n",
    "    seek_list = deque() \n",
    "    seek_list.append((0,0,1)) # 시작 [n, m, depth]\n",
    "    while seek_list:\n",
    "        depth = seek_path(maps, seek_list)\n",
    "        if depth > 0:\n",
    "            return depth\n",
    "    return -1\n",
    "\n"
   ]
  },
  {
   "cell_type": "code",
   "execution_count": 2,
   "id": "coated-candle",
   "metadata": {
    "pycharm": {
     "name": "#%%\n"
    }
   },
   "outputs": [],
   "source": [
    "test_case1 = [[1, 0, 1, 1, 1], [1, 0, 1, 0, 1], [1, 0, 1, 1, 1], [1, 1, 1, 0, 1], [0, 0, 0, 0, 1]]\n",
    "assert solution(test_case1) == 11"
   ]
  },
  {
   "cell_type": "code",
   "id": "dried-limit",
   "metadata": {
    "pycharm": {
     "name": "#%%\n"
    }
   },
   "source": [
    "### 회고\n",
    "---\n",
    "1. 방문 list를 따로 유지할 필요 없이, 방문했던 path를 방문처리 한다.\n",
    "2. 길이 없는 곳은 굳이 조건문을 통과시킬 필요없이 pass 한다.(효율성 처리)"
   ],
   "execution_count": null,
   "outputs": []
  }
 ],
 "metadata": {
  "kernelspec": {
   "display_name": "Python 3",
   "language": "python",
   "name": "python3"
  },
  "language_info": {
   "codemirror_mode": {
    "name": "ipython",
    "version": 3
   },
   "file_extension": ".py",
   "mimetype": "text/x-python",
   "name": "python",
   "nbconvert_exporter": "python",
   "pygments_lexer": "ipython3",
   "version": "3.8.5"
  }
 },
 "nbformat": 4,
 "nbformat_minor": 5
}