{
 "cells": [
  {
   "cell_type": "markdown",
   "metadata": {},
   "source": [
    "[카펫 문제링크](https://programmers.co.kr/learn/courses/30/lessons/42842?language=python3)"
   ]
  },
  {
   "cell_type": "code",
   "execution_count": 1,
   "metadata": {},
   "outputs": [],
   "source": [
    "def find_case(yellow):\n",
    "    w = yellow\n",
    "    h = 1\n",
    "    case_list = []\n",
    "    while(w // h >= h):\n",
    "        if w % h == 0:\n",
    "            case_list.append((w // h, h))\n",
    "        h = h + 1\n",
    "            \n",
    "    return case_list\n",
    "        \n",
    "    \n",
    "def solution(brown, yellow):\n",
    "    answer = []\n",
    "    \n",
    "    edge = 4\n",
    "    # 카펫 경우의수\n",
    "    case_list = find_case(yellow)\n",
    "    \n",
    "    for w, h in case_list:\n",
    "        if w * 2 + h * 2 + edge == brown:\n",
    "            answer.append(w+2)\n",
    "            answer.append(h+2)\n",
    "    return answer"
   ]
  },
  {
   "cell_type": "code",
   "execution_count": 4,
   "metadata": {},
   "outputs": [
    {
     "name": "stdout",
     "output_type": "stream",
     "text": [
      "[4, 3]\n",
      "[3, 3]\n",
      "[8, 6]\n"
     ]
    }
   ],
   "source": [
    "print(solution(10,2))\n",
    "print(solution(8,1))\n",
    "print(solution(24,24))"
   ]
  },
  {
   "cell_type": "markdown",
   "metadata": {},
   "source": [
    "### 아이디어\n",
    "---\n",
    "1. 먼저 노란색 개수에 따라 가질수 있는 카펫 경우의 수를 구한다.\n",
    "2. 해당 경우의 수에서 주어진 갈색의 수(가로 * 2 + 세로 * 2 + 모서리 4개)와 맞으면 정답"
   ]
  },
  {
   "cell_type": "code",
   "execution_count": null,
   "metadata": {},
   "outputs": [],
   "source": []
  }
 ],
 "metadata": {
  "kernelspec": {
   "display_name": "Python 3",
   "language": "python",
   "name": "python3"
  },
  "language_info": {
   "codemirror_mode": {
    "name": "ipython",
    "version": 3
   },
   "file_extension": ".py",
   "mimetype": "text/x-python",
   "name": "python",
   "nbconvert_exporter": "python",
   "pygments_lexer": "ipython3",
   "version": "3.8.5"
  }
 },
 "nbformat": 4,
 "nbformat_minor": 4
}