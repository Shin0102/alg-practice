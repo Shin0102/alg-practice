{
 "cells": [
  {
   "cell_type": "markdown",
   "metadata": {},
   "source": [
    "[후보키 문제링크](https://programmers.co.kr/learn/courses/30/lessons/42890?language=python3)"
   ]
  },
  {
   "cell_type": "code",
   "execution_count": 3,
   "outputs": [],
   "source": [
    "def check_minimality(number, answer_list):\n",
    "    ret = True\n",
    "    for answer in answer_list:\n",
    "        if (number & answer) == answer:\n",
    "            ret = False\n",
    "            break\n",
    "\n",
    "    return ret\n",
    "\n",
    "def get_index(number, col_len):\n",
    "    index_list = []\n",
    "    for i in range(col_len):\n",
    "        if number & (1 << i):\n",
    "            index_list.append(i)\n",
    "    return index_list    \n",
    "    \n",
    "\n",
    "def solution(relation):\n",
    "    answer = []\n",
    "    col_len = len(relation[0])\n",
    "    row_len = len(relation)\n",
    "        \n",
    "    for i in range(1, 1 << col_len):\n",
    "        tmp_list = []\n",
    "        for row in relation:\n",
    "            key = \"\"\n",
    "            for index in get_index(i, col_len):\n",
    "                key += row[index]\n",
    "            tmp_list.append(key)\n",
    "        \n",
    "        if len(set(tmp_list)) == len(tmp_list) and check_minimality(i, answer):\n",
    "            answer.append(i)\n",
    "    \n",
    "    return len(answer)\n",
    "            \n",
    "            "
   ]
  },
  {
   "cell_type": "code",
   "execution_count": 4,
   "metadata": {
    "scrolled": false
   },
   "outputs": [],
   "source": [
    "assert solution([[\"100\",\"ryan\",\"music\",\"2\"],[\"200\",\"apeach\",\"math\",\"2\"],[\"300\",\"tube\",\"computer\",\"3\"],[\"400\",\"con\",\"computer\",\"4\"],[\"500\",\"muzi\",\"music\",\"3\"],[\"600\",\"apeach\",\"music\",\"2\"]]) == 2\n",
    "assert solution([[\"a\", \"1\", \"4\"], [\"2\", \"1\", \"5\"], [\"a\", \"2\", \"4\"]]) == 2"
   ]
  },
  {
   "cell_type": "markdown",
   "metadata": {},
   "source": [
    "### 풀이\n",
    "---\n",
    "- 후보키로 가질 수 있는 경우의 수를 2진수로 표현\n",
    "- 유일성을 체크하기 위해 set함수 사용\n",
    "- 최소성을 체크하기 위해 비트마스킹 사용 \n"
   ]
  }
 ],
 "metadata": {
  "kernelspec": {
   "display_name": "Python 3",
   "language": "python",
   "name": "python3"
  },
  "language_info": {
   "codemirror_mode": {
    "name": "ipython",
    "version": 3
   },
   "file_extension": ".py",
   "mimetype": "text/x-python",
   "name": "python",
   "nbconvert_exporter": "python",
   "pygments_lexer": "ipython3",
   "version": "3.7.6"
  }
 },
 "nbformat": 4,
 "nbformat_minor": 4
}
