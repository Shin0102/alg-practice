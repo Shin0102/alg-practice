{
 "cells": [
  {
   "cell_type": "markdown",
   "id": "a1b05d5f-b0d6-4918-8c63-521e01bd0510",
   "metadata": {},
   "source": [
    "[N-Queen](https://www.acmicpc.net/problem/9663)\n",
    "- 매번 promising 체크시 시간초과가 발생\n",
    "- promising 정보를 미리저장하여 체크"
   ]
  },
  {
   "cell_type": "code",
   "execution_count": 20,
   "id": "dd32731d-46ba-48e1-b00e-c819fb1a4d28",
   "metadata": {},
   "outputs": [
    {
     "name": "stdin",
     "output_type": "stream",
     "text": [
      " 8\n"
     ]
    },
    {
     "name": "stdout",
     "output_type": "stream",
     "text": [
      "92\n"
     ]
    }
   ],
   "source": [
    "# 시간초과\n",
    "n = int(input())\n",
    "\n",
    "\n",
    "def promising(cur_col, visited):\n",
    "    cur_row = len(visited)\n",
    "    for queen_row in range(cur_row):\n",
    "        # 같은 열이거나 대각선인 경우\n",
    "        if visited[queen_row] == cur_col or abs(visited[queen_row] - cur_col) == cur_row - queen_row:\n",
    "            return False\n",
    "    return True\n",
    "\n",
    "res = 0\n",
    "def dfs(n, cur_row, visited):\n",
    "    global res\n",
    "    # n-queen \n",
    "    if n == cur_row:\n",
    "        res += 1\n",
    "        return\n",
    "\n",
    "    for cur_col in range(n):\n",
    "        if promising(cur_col, visited):\n",
    "            visited.append(cur_col)\n",
    "            dfs(n, cur_row + 1, visited)\n",
    "            visited.pop()\n",
    "\n",
    "visited = []\n",
    "dfs(n, 0, visited)\n",
    "print(res)"
   ]
  },
  {
   "cell_type": "code",
   "execution_count": 24,
   "id": "8264afe8-9c10-4e6e-a535-f23bebb07d27",
   "metadata": {},
   "outputs": [
    {
     "name": "stdin",
     "output_type": "stream",
     "text": [
      " 13\n"
     ]
    },
    {
     "name": "stdout",
     "output_type": "stream",
     "text": [
      "73712\n"
     ]
    }
   ],
   "source": [
    "n = int(input())\n",
    "\n",
    "res = 0\n",
    "def dfs(n, cur_row, cols, diags1, diags2):\n",
    "    global res\n",
    "    if cur_row == n:\n",
    "        res += 1\n",
    "        return\n",
    "\n",
    "    for cur_col in range(n):\n",
    "        diag1 = cur_row - cur_col  # 주대각선, 왼쪽위 -> 오른쪽아래\n",
    "        diag2 = cur_row + cur_col  # 부대각선, 오른쪽위 -> 왼쪽아래\n",
    "\n",
    "        if cur_col not in cols and diag1 not in diags1 and diag2 not in diags2:\n",
    "            cols.add(cur_col)\n",
    "            diags1.add(diag1)\n",
    "            diags2.add(diag2)\n",
    "\n",
    "            dfs(n, cur_row + 1, cols, diags1, diags2)\n",
    "\n",
    "            cols.remove(cur_col)\n",
    "            diags1.remove(diag1)\n",
    "            diags2.remove(diag2)\n",
    "\n",
    "dfs(n, 0, set(), set(), set())\n",
    "print(res)\n"
   ]
  }
 ],
 "metadata": {
  "kernelspec": {
   "display_name": "Python 3 (ipykernel)",
   "language": "python",
   "name": "python3"
  },
  "language_info": {
   "codemirror_mode": {
    "name": "ipython",
    "version": 3
   },
   "file_extension": ".py",
   "mimetype": "text/x-python",
   "name": "python",
   "nbconvert_exporter": "python",
   "pygments_lexer": "ipython3",
   "version": "3.12.4"
  }
 },
 "nbformat": 4,
 "nbformat_minor": 5
}
