{
 "cells": [
  {
   "cell_type": "markdown",
   "id": "homeless-engineer",
   "metadata": {},
   "source": [
    "[좌표 정렬하기](https://www.acmicpc.net/problem/11650)"
   ]
  },
  {
   "cell_type": "code",
   "execution_count": 1,
   "id": "naval-wisconsin",
   "metadata": {},
   "outputs": [
    {
     "name": "stdout",
     "output_type": "stream",
     "text": [
      "5\n",
      "3 4\n",
      "1 1\n",
      "1 -1\n",
      "2 2\n",
      "3 3\n",
      "1 -1\n",
      "1 1\n",
      "2 2\n",
      "3 3\n",
      "3 4\n"
     ]
    }
   ],
   "source": [
    "num = int(input())\n",
    "\n",
    "location_list = []\n",
    "for _ in range(num):\n",
    "    x, y = input().split(\" \")\n",
    "    location_list.append((int(x), int(y)))\n",
    "    \n",
    "location_list.sort(key = lambda x : (x[0], x[1]))\n",
    "for x, y in location_list:\n",
    "    print(f\"{x} {y}\")"
   ]
  }
 ],
 "metadata": {
  "kernelspec": {
   "display_name": "Python 3",
   "language": "python",
   "name": "python3"
  },
  "language_info": {
   "codemirror_mode": {
    "name": "ipython",
    "version": 3
   },
   "file_extension": ".py",
   "mimetype": "text/x-python",
   "name": "python",
   "nbconvert_exporter": "python",
   "pygments_lexer": "ipython3",
   "version": "3.8.5"
  }
 },
 "nbformat": 4,
 "nbformat_minor": 5
}
