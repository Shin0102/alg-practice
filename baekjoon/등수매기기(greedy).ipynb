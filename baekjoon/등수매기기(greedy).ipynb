{
 "cells": [
  {
   "cell_type": "markdown",
   "id": "f9efaac1-baff-4a0d-9abf-af6a2e630939",
   "metadata": {},
   "source": [
    "[등수매기기](https://www.acmicpc.net/problem/2012)"
   ]
  },
  {
   "cell_type": "code",
   "execution_count": 3,
   "id": "dc6eaac2-4f34-4aa7-b567-ba9656d1bc8b",
   "metadata": {},
   "outputs": [
    {
     "name": "stdin",
     "output_type": "stream",
     "text": [
      " 5\n",
      " 1\n",
      " 5\n",
      " 3\n",
      " 1\n",
      " 2\n"
     ]
    },
    {
     "name": "stdout",
     "output_type": "stream",
     "text": [
      "3\n"
     ]
    }
   ],
   "source": [
    "import sys\n",
    "# input = sys.stdin.readline\n",
    "\n",
    "n = int(input())\n",
    "\n",
    "array = []\n",
    "for _ in range(n):\n",
    "  array.append(int(input()))\n",
    "\n",
    "array.sort()\n",
    "result = 0\n",
    "for i in range(1, len(array) + 1):\n",
    "    result += abs(i - array[i - 1])\n",
    "\n",
    "\n",
    "print(result)"
   ]
  },
  {
   "cell_type": "code",
   "execution_count": null,
   "id": "1fee1b42-1e61-4034-b145-710a791cbb7e",
   "metadata": {},
   "outputs": [],
   "source": []
  }
 ],
 "metadata": {
  "kernelspec": {
   "display_name": "Python 3 (ipykernel)",
   "language": "python",
   "name": "python3"
  },
  "language_info": {
   "codemirror_mode": {
    "name": "ipython",
    "version": 3
   },
   "file_extension": ".py",
   "mimetype": "text/x-python",
   "name": "python",
   "nbconvert_exporter": "python",
   "pygments_lexer": "ipython3",
   "version": "3.12.4"
  }
 },
 "nbformat": 4,
 "nbformat_minor": 5
}
