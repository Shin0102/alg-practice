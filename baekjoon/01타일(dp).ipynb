{
 "cells": [
  {
   "cell_type": "markdown",
   "id": "51c733da-1cdb-4b91-bd10-f428c7d349df",
   "metadata": {},
   "source": [
    "[01타일](https://www.acmicpc.net/problem/1904)"
   ]
  },
  {
   "cell_type": "markdown",
   "id": "3ffbf0d0-ba51-46a9-9035-e5fbf5df16f1",
   "metadata": {},
   "source": [
    "- p(1) = 1 -> 1\n",
    "- p(2) = 00, 11 -> 2\n",
    "- p(3) = 100(p(1) 의 뒤에 0을 붙이는 경우), 001, 111(p(2)의 뒤에 1을 붙이는 경우) -> 3\n",
    "- p(4) = 0000, 1100 (p(2) 뒤에 0을 붙이는 경우), 1001, 0011, 1111 (p(3) 뒤에 1을 붙인는경우) -> 5\n",
    "- p(5) = 10000, 00100, 11100 (p(3) 뒤에 0을 붙이는 경우), 00001, 11001, 10011, 00111, 11111 (p(4) 뒤에 1을 붙이는경우) -> 8\n",
    "- p(n) = p(n-2) + p(n-1) 피보나치"
   ]
  },
  {
   "cell_type": "code",
   "execution_count": 3,
   "id": "b8daf7fd-f91b-484b-aa93-62adfb091fd9",
   "metadata": {},
   "outputs": [
    {
     "name": "stdin",
     "output_type": "stream",
     "text": [
      " 13\n"
     ]
    },
    {
     "name": "stdout",
     "output_type": "stream",
     "text": [
      "377\n"
     ]
    }
   ],
   "source": [
    "n = int(input())\n",
    "\n",
    "cached = [0 for _ in range(1_000_001)]\n",
    "cached[1] = 1\n",
    "cached[2] = 2\n",
    "\n",
    "for i in range(3, 1_000_001):\n",
    "    cached[i] = (cached[i-2] + cached[i-1]) % 15746\n",
    "\n",
    "print(cached[n])"
   ]
  }
 ],
 "metadata": {
  "kernelspec": {
   "display_name": "Python 3 (ipykernel)",
   "language": "python",
   "name": "python3"
  },
  "language_info": {
   "codemirror_mode": {
    "name": "ipython",
    "version": 3
   },
   "file_extension": ".py",
   "mimetype": "text/x-python",
   "name": "python",
   "nbconvert_exporter": "python",
   "pygments_lexer": "ipython3",
   "version": "3.12.3"
  }
 },
 "nbformat": 4,
 "nbformat_minor": 5
}
