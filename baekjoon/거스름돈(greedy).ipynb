{
 "cells": [
  {
   "cell_type": "markdown",
   "id": "007bcf62-b23d-479a-8fab-bf46ae524d08",
   "metadata": {},
   "source": [
    "[거스름돈](https://www.acmicpc.net/problem/5585)"
   ]
  },
  {
   "cell_type": "code",
   "execution_count": 7,
   "id": "74b27bad-43a8-4830-9eda-05040bf2a41c",
   "metadata": {},
   "outputs": [
    {
     "name": "stdin",
     "output_type": "stream",
     "text": [
      " 380\n"
     ]
    },
    {
     "name": "stdout",
     "output_type": "stream",
     "text": [
      "4\n"
     ]
    }
   ],
   "source": [
    "money = int(input())\n",
    "\n",
    "changes = [1, 5, 10, 50, 100, 500]\n",
    "rest = 1000 - money\n",
    "cnt = 0\n",
    "while rest:\n",
    "    change = changes[-1]\n",
    "    if rest - change > 0:\n",
    "        rest -= change\n",
    "        cnt += 1\n",
    "    elif rest - change < 0:\n",
    "        changes.pop()\n",
    "    elif rest - change == 0:\n",
    "        cnt += 1\n",
    "        break\n",
    "\n",
    "print(cnt)"
   ]
  }
 ],
 "metadata": {
  "kernelspec": {
   "display_name": "Python 3 (ipykernel)",
   "language": "python",
   "name": "python3"
  },
  "language_info": {
   "codemirror_mode": {
    "name": "ipython",
    "version": 3
   },
   "file_extension": ".py",
   "mimetype": "text/x-python",
   "name": "python",
   "nbconvert_exporter": "python",
   "pygments_lexer": "ipython3",
   "version": "3.12.4"
  }
 },
 "nbformat": 4,
 "nbformat_minor": 5
}
