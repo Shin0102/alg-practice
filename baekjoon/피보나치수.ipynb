{
 "cells": [
  {
   "cell_type": "markdown",
   "id": "b280b8f3-9d9d-4b71-9e95-cb94b42f2663",
   "metadata": {},
   "source": [
    "[피보나치 수](https://www.acmicpc.net/problem/2747)"
   ]
  },
  {
   "cell_type": "code",
   "execution_count": 19,
   "id": "3d976032-15ec-4d59-a6c3-8292a480118e",
   "metadata": {},
   "outputs": [
    {
     "name": "stdin",
     "output_type": "stream",
     "text": [
      " 10\n"
     ]
    },
    {
     "name": "stdout",
     "output_type": "stream",
     "text": [
      "55\n"
     ]
    }
   ],
   "source": [
    "import sys\n",
    "\n",
    "\n",
    "num = int(input())\n",
    "cached = {}\n",
    "\n",
    "def fibo(n: int) -> int:\n",
    "    if n == 0:\n",
    "        return 0\n",
    "    if n == 1:\n",
    "        return 1\n",
    "    \n",
    "    if cached.get(n):\n",
    "        return cached.get(n)\n",
    "    else:\n",
    "        cached[n] = fibo(n-1) + fibo(n-2)\n",
    "        return cached[n]\n",
    "\n",
    "print(fibo(num))"
   ]
  }
 ],
 "metadata": {
  "kernelspec": {
   "display_name": "Python 3 (ipykernel)",
   "language": "python",
   "name": "python3"
  },
  "language_info": {
   "codemirror_mode": {
    "name": "ipython",
    "version": 3
   },
   "file_extension": ".py",
   "mimetype": "text/x-python",
   "name": "python",
   "nbconvert_exporter": "python",
   "pygments_lexer": "ipython3",
   "version": "3.12.2"
  }
 },
 "nbformat": 4,
 "nbformat_minor": 5
}
