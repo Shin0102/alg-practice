{
 "cells": [
  {
   "cell_type": "markdown",
   "source": [
    "[이항계수2](https://www.acmicpc.net/problem/11051)"
   ],
   "metadata": {
    "collapsed": false
   },
   "id": "a45409b1bc202bfd"
  },
  {
   "cell_type": "code",
   "execution_count": 7,
   "outputs": [
    {
     "name": "stdout",
     "output_type": "stream",
     "text": [
      "10\n"
     ]
    }
   ],
   "source": [
    "import sys\n",
    "sys.setrecursionlimit(10000)\n",
    "\n",
    "def binomial_coefficient(n, k):\n",
    "    cache = [[0] * (k + 1) for _ in range(n + 1)]\n",
    "\n",
    "    def compute(n, k):\n",
    "        if k == 0 or n == k:\n",
    "            return 1\n",
    "        if cache[n][k] == 0:\n",
    "            cache[n][k] = compute(n - 1, k) + compute(n - 1, k - 1)\n",
    "        return cache[n][k]\n",
    "    \n",
    "    return compute(n, k)\n",
    "\n",
    "n, k = map(int, input().split())\n",
    "print(binomial_coefficient(n, k) % 10_007)"
   ],
   "metadata": {
    "collapsed": false,
    "ExecuteTime": {
     "end_time": "2024-08-26T18:00:56.163619200Z",
     "start_time": "2024-08-26T18:00:54.216323100Z"
    }
   },
   "id": "7548d3d264d6d8f2"
  }
 ],
 "metadata": {
  "kernelspec": {
   "display_name": "Python 3",
   "language": "python",
   "name": "python3"
  },
  "language_info": {
   "codemirror_mode": {
    "name": "ipython",
    "version": 2
   },
   "file_extension": ".py",
   "mimetype": "text/x-python",
   "name": "python",
   "nbconvert_exporter": "python",
   "pygments_lexer": "ipython2",
   "version": "2.7.6"
  }
 },
 "nbformat": 4,
 "nbformat_minor": 5
}
