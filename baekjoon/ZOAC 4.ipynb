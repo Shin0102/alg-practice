{
 "cells": [
  {
   "cell_type": "markdown",
   "source": [
    "[ZOAC 4](https://www.acmicpc.net/problem/23971)\n",
    "- 총 강의실 크기에 테이블 자리의 넓이를 고려하여 단순계산"
   ],
   "metadata": {
    "collapsed": false
   },
   "id": "8bb55ef900c41114"
  },
  {
   "cell_type": "code",
   "execution_count": 7,
   "outputs": [
    {
     "name": "stdout",
     "output_type": "stream",
     "text": [
      "1\n"
     ]
    }
   ],
   "source": [
    "import math\n",
    "\n",
    "h, w, n, m = map(int, input().split())\n",
    "height = h / (n+1)\n",
    "width = w / (m+1)\n",
    "\n",
    "print(math.ceil(height) * math.ceil(width))"
   ],
   "metadata": {
    "collapsed": false,
    "ExecuteTime": {
     "end_time": "2024-09-23T21:40:46.322382100Z",
     "start_time": "2024-09-23T21:40:43.590641200Z"
    }
   },
   "id": "5bf8db43837d14e2"
  }
 ],
 "metadata": {
  "kernelspec": {
   "display_name": "Python 3",
   "language": "python",
   "name": "python3"
  },
  "language_info": {
   "codemirror_mode": {
    "name": "ipython",
    "version": 2
   },
   "file_extension": ".py",
   "mimetype": "text/x-python",
   "name": "python",
   "nbconvert_exporter": "python",
   "pygments_lexer": "ipython2",
   "version": "2.7.6"
  }
 },
 "nbformat": 4,
 "nbformat_minor": 5
}
