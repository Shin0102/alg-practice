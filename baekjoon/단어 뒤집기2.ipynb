{
 "cells": [
  {
   "cell_type": "markdown",
   "source": [
    "[단어 뒤집기2](https://www.acmicpc.net/problem/17413)"
   ],
   "metadata": {
    "collapsed": false
   },
   "id": "e67db8866e412785"
  },
  {
   "cell_type": "code",
   "execution_count": 31,
   "outputs": [
    {
     "name": "stdout",
     "output_type": "stream",
     "text": [
      "<   space   >ecaps ecaps ecaps<    spa   c e>\n"
     ]
    }
   ],
   "source": [
    "string = input()\n",
    "\n",
    "result = []\n",
    "is_tag = False\n",
    "is_blank = False\n",
    "tmp = []\n",
    "for s in string:\n",
    "    # tag\n",
    "    if s == \">\":\n",
    "        is_tag = False\n",
    "        result.append(s)\n",
    "    elif s == \"<\" or is_tag:\n",
    "        is_tag = True\n",
    "        if len(tmp):\n",
    "            result.extend(tmp[::-1])\n",
    "            tmp.clear()\n",
    "        result.append(s)\n",
    "    # blank\n",
    "    elif s == \" \" and not is_blank:\n",
    "        is_blank = True\n",
    "        if len(tmp):\n",
    "            result.extend(tmp[::-1])\n",
    "            tmp.clear()\n",
    "        result.append(s)\n",
    "    elif s == \" \" and is_blank:\n",
    "        is_blank = False\n",
    "        result.extend(tmp[::-1])\n",
    "        result.append(s)\n",
    "        tmp.clear()\n",
    "    else:\n",
    "        tmp.append(s)\n",
    "if len(tmp):\n",
    "    result.extend(tmp[::-1])\n",
    "    \n",
    "print(\"\".join(result))"
   ],
   "metadata": {
    "collapsed": false,
    "ExecuteTime": {
     "end_time": "2024-08-27T19:14:59.530537Z",
     "start_time": "2024-08-27T19:14:58.997341800Z"
    }
   },
   "id": "fe7d0c003d58fff4"
  }
 ],
 "metadata": {
  "kernelspec": {
   "display_name": "Python 3",
   "language": "python",
   "name": "python3"
  },
  "language_info": {
   "codemirror_mode": {
    "name": "ipython",
    "version": 2
   },
   "file_extension": ".py",
   "mimetype": "text/x-python",
   "name": "python",
   "nbconvert_exporter": "python",
   "pygments_lexer": "ipython2",
   "version": "2.7.6"
  }
 },
 "nbformat": 4,
 "nbformat_minor": 5
}
