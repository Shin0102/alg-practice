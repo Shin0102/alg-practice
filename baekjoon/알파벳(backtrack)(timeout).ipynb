{
 "cells": [
  {
   "cell_type": "markdown",
   "id": "6a6319d6-3d3e-47bd-8fbb-bc69d3389f14",
   "metadata": {},
   "source": [
    "[알파벳](https://www.acmicpc.net/problem/1987)\n",
    "- set을 활용하여 visited를 처리하면 시간초과\n",
    "- 알파벳 유니코드를 활용하여 visited 처리\n",
    "- BFS로 하는게 훨씬빠를수도?"
   ]
  },
  {
   "cell_type": "code",
   "execution_count": 2,
   "id": "f81b3370-03db-449d-9642-72ffb6abf1ba",
   "metadata": {
    "scrolled": true,
    "ExecuteTime": {
     "end_time": "2024-08-15T16:33:44.857018200Z",
     "start_time": "2024-08-15T16:33:39.562275300Z"
    }
   },
   "outputs": [
    {
     "name": "stdout",
     "output_type": "stream",
     "text": [
      "3\n"
     ]
    }
   ],
   "source": [
    "r, c = map(int, input().split())\n",
    "board = [input().strip() for _ in range(r)]\n",
    "\n",
    "# 방문한 알파벳을 기록하는 리스트 (26개의 알파벳)\n",
    "visited = [False] * 26\n",
    "\n",
    "dx = [1, -1, 0, 0]\n",
    "dy = [0, 0, 1, -1]\n",
    "\n",
    "max_val = 1\n",
    "\n",
    "def solution(x, y, cnt):\n",
    "    global max_val\n",
    "    max_val = max(cnt, max_val)\n",
    "    \n",
    "    for i in range(4):\n",
    "        nx, ny = x + dx[i], y + dy[i]\n",
    "        if 0 <= nx < r and 0 <= ny < c:\n",
    "            next_char = ord(board[nx][ny]) - ord('A')\n",
    "            if not visited[next_char]:\n",
    "                visited[next_char] = True\n",
    "                solution(nx, ny, cnt + 1)\n",
    "                visited[next_char] = False\n",
    "\n",
    "start_char = ord(board[0][0]) - ord('A')\n",
    "visited[start_char] = True\n",
    "solution(0, 0, 1)\n",
    "\n",
    "print(max_val)"
   ]
  }
 ],
 "metadata": {
  "kernelspec": {
   "display_name": "Python 3 (ipykernel)",
   "language": "python",
   "name": "python3"
  },
  "language_info": {
   "codemirror_mode": {
    "name": "ipython",
    "version": 3
   },
   "file_extension": ".py",
   "mimetype": "text/x-python",
   "name": "python",
   "nbconvert_exporter": "python",
   "pygments_lexer": "ipython3",
   "version": "3.12.4"
  }
 },
 "nbformat": 4,
 "nbformat_minor": 5
}
