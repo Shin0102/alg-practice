{
 "cells": [
  {
   "cell_type": "markdown",
   "source": [
    "[정수 삼각형](https://www.acmicpc.net/problem/1932)\n",
    "- 모든 경우의 수를 찾는 경우 2^500 -> 시간초과\n",
    "- 점화식 dp[i][j] = max(dp[i-1][j-1], dp[i-1][j] + array[i][j])"
   ],
   "metadata": {
    "collapsed": false
   },
   "id": "656cdb1c9247edae"
  },
  {
   "cell_type": "code",
   "execution_count": 100,
   "outputs": [
    {
     "name": "stdout",
     "output_type": "stream",
     "text": [
      "[0, 7, 0, 0, 0, 0]\n",
      "[0, 10, 15, 0, 0, 0]\n",
      "[0, 18, 16, 15, 0, 0]\n",
      "[0, 20, 25, 20, 19, 0]\n",
      "[0, 24, 30, 27, 26, 24]\n",
      "30\n"
     ]
    }
   ],
   "source": [
    "n = int(input())\n",
    "array = [[0] * (n+1) for _ in range(n+1)]\n",
    "dp = [[0] * (n+1) for _ in range(n+1)]\n",
    "\n",
    "for i in range(1, n+1):\n",
    "    nums = list(map(int, input().split()))\n",
    "    for j in range(1, i+1):\n",
    "        array[i][j] = nums[j-1]\n",
    "\n",
    "    \n",
    "for i in range(1, n+1):\n",
    "    for j in range(1, i+1):\n",
    "        dp[i][j] = max(dp[i-1][j-1], dp[i-1][j]) + array[i][j]\n",
    "        \n",
    "# for i in range(1, n+1):\n",
    "#     print(dp[i])\n",
    "# [0, 7, 0, 0, 0, 0]\n",
    "# [0, 10, 15, 0, 0, 0]\n",
    "# [0, 18, 16, 15, 0, 0]\n",
    "# [0, 20, 25, 20, 19, 0]\n",
    "# [0, 24, 30, 27, 26, 24]\n",
    "\n",
    "print(max(dp[-1]))"
   ],
   "metadata": {
    "collapsed": false,
    "ExecuteTime": {
     "end_time": "2024-09-11T17:08:03.446717200Z",
     "start_time": "2024-09-11T17:07:42.153317200Z"
    }
   },
   "id": "786183ef485b6f8d"
  }
 ],
 "metadata": {
  "kernelspec": {
   "display_name": "Python 3",
   "language": "python",
   "name": "python3"
  },
  "language_info": {
   "codemirror_mode": {
    "name": "ipython",
    "version": 2
   },
   "file_extension": ".py",
   "mimetype": "text/x-python",
   "name": "python",
   "nbconvert_exporter": "python",
   "pygments_lexer": "ipython2",
   "version": "2.7.6"
  }
 },
 "nbformat": 4,
 "nbformat_minor": 5
}
