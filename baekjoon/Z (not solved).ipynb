{
 "cells": [
  {
   "cell_type": "markdown",
   "id": "instructional-chassis",
   "metadata": {},
   "source": [
    "[Z](https://www.acmicpc.net/problem/1074)"
   ]
  },
  {
   "cell_type": "code",
   "execution_count": 8,
   "id": "impaired-madonna",
   "metadata": {},
   "outputs": [
    {
     "name": "stdout",
     "output_type": "stream",
     "text": [
      "2 3 1\n",
      "11\n"
     ]
    }
   ],
   "source": [
    "[n, r, c] = [int(num) for num in input().split()]\n",
    "\n",
    "result = 0\n",
    "def z(num, x, y):\n",
    "    global result\n",
    "    if num == 2:\n",
    "        '''\n",
    "            x o\n",
    "            o o\n",
    "        '''\n",
    "        if x == r and y == c:\n",
    "            print(result)\n",
    "            return\n",
    "        result += 1\n",
    "        '''\n",
    "            o x\n",
    "            o o\n",
    "        '''\n",
    "        if x == r and y + 1 == c:\n",
    "            print(result)\n",
    "            return\n",
    "        result += 1\n",
    "        '''\n",
    "            o o\n",
    "            x o\n",
    "        '''\n",
    "        if x + 1 == r and y == c:\n",
    "            print(result)\n",
    "            return\n",
    "        result += 1\n",
    "        '''\n",
    "            o o\n",
    "            o x\n",
    "        '''\n",
    "        if x + 1 == r and y + 1== c:\n",
    "            print(result)\n",
    "            return\n",
    "        result += 1\n",
    "        return\n",
    "    z(num/2, x, y)\n",
    "    z(num/2, x, y + num/2)\n",
    "    z(num/2, x + num/2, y)\n",
    "    z(num/2, x + num/2, y + num/2)\n",
    "            \n",
    "z(2**n, 0, 0)\n",
    "    \n",
    "    "
   ]
  },
  {
   "cell_type": "markdown",
   "id": "leading-dayton",
   "metadata": {},
   "source": [
    "#풀이 \n",
    "---\n",
    "- 재귀\n",
    "- "
   ]
  }
 ],
 "metadata": {
  "kernelspec": {
   "display_name": "Python 3",
   "language": "python",
   "name": "python3"
  },
  "language_info": {
   "codemirror_mode": {
    "name": "ipython",
    "version": 3
   },
   "file_extension": ".py",
   "mimetype": "text/x-python",
   "name": "python",
   "nbconvert_exporter": "python",
   "pygments_lexer": "ipython3",
   "version": "3.8.5"
  }
 },
 "nbformat": 4,
 "nbformat_minor": 5
}
