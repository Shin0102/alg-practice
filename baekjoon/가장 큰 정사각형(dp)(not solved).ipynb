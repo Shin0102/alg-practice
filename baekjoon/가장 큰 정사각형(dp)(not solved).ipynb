{
 "cells": [
  {
   "cell_type": "markdown",
   "source": [
    "[가장 큰 정사각형](https://www.acmicpc.net/problem/1915)\n",
    "- 점화식 생각하기가 어려웠음\n",
    "- dp[i][j] = min(dp[i-1][j], dp[i][j-1], dp[i-1][j-1]) + 1 or 0\n",
    "- 큰 정사각형이 작은정사각형 4개로 이루어진다는걸 이용하여 풀이"
   ],
   "metadata": {
    "collapsed": false
   },
   "id": "9257aa95fd389d6c"
  },
  {
   "cell_type": "code",
   "execution_count": 15,
   "outputs": [
    {
     "name": "stdout",
     "output_type": "stream",
     "text": [
      "4\n"
     ]
    }
   ],
   "source": [
    "import sys\n",
    "# input = sys.stdin.readline\n",
    "\n",
    "n, m = map(int, input().split())\n",
    "dp = [[0] * (m+1) for _ in range(n+1)]\n",
    "\n",
    "max_val = 0\n",
    "\n",
    "for i in range(1, n+1):\n",
    "    row = list(map(int, input().strip()))\n",
    "    for j in range(1, m+1):\n",
    "        dp[i][j] = row[j-1]\n",
    "        if dp[i][j]:  # arr[i][j]가 1이면\n",
    "            dp[i][j] = min(dp[i-1][j], dp[i][j-1], dp[i-1][j-1]) + 1\n",
    "            max_val = max(dp[i][j], max_val)\n",
    "\n",
    "print(max_val * max_val)"
   ],
   "metadata": {
    "collapsed": false,
    "ExecuteTime": {
     "end_time": "2024-09-15T12:49:36.466639100Z",
     "start_time": "2024-09-15T12:49:17.216219800Z"
    }
   },
   "id": "325248346d713078"
  }
 ],
 "metadata": {
  "kernelspec": {
   "display_name": "Python 3",
   "language": "python",
   "name": "python3"
  },
  "language_info": {
   "codemirror_mode": {
    "name": "ipython",
    "version": 2
   },
   "file_extension": ".py",
   "mimetype": "text/x-python",
   "name": "python",
   "nbconvert_exporter": "python",
   "pygments_lexer": "ipython2",
   "version": "2.7.6"
  }
 },
 "nbformat": 4,
 "nbformat_minor": 5
}
