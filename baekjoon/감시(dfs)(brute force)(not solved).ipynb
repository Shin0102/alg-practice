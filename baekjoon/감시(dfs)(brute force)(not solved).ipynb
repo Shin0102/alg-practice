{
 "cells": [
  {
   "cell_type": "markdown",
   "source": [
    "[감시](https://www.acmicpc.net/problem/15683)\n",
    "- 최대 경우의수 = 4(cctv 최대방향) ^ 8(cctv 개수) = 65,536 X N X M = 400만정도"
   ],
   "metadata": {
    "collapsed": false
   },
   "id": "c8572ce589a952c3"
  },
  {
   "cell_type": "code",
   "execution_count": 7,
   "outputs": [
    {
     "name": "stdout",
     "output_type": "stream",
     "text": [
      "20\n"
     ]
    }
   ],
   "source": [
    "import copy\n",
    "import sys\n",
    "\n",
    "input = sys.stdin.readline\n",
    "# f = open(\"./input\", 'r')\n",
    "# input = f.readline\n",
    "\n",
    "n, m = map(int, input().split())\n",
    "office = [list(map(int, input().split())) for _ in range(n)]\n",
    "cctv_list = []\n",
    "for i in range(n):\n",
    "    for j in range(m):\n",
    "        if 1 <= office[i][j] <= 5:\n",
    "            cctv_list.append((i, j, office[i][j]))\n",
    "\n",
    "# 0 →, 1 ←, 2 ↑, 3 ↓\n",
    "directions = {\n",
    "    1: [[0], [1], [2], [3]],\n",
    "    2: [[0, 1], [2, 3]],\n",
    "    3: [[0, 2], [2, 1], [1, 3], [3, 0]],\n",
    "    4: [[0, 1, 2], [1, 2, 3], [2, 3, 0], [3, 0, 1]],\n",
    "    5: [[0, 1, 2, 3]]\n",
    "}\n",
    "\n",
    "# (→, ←, ↑, ↓)\n",
    "dx = [0, 0, -1, 1]\n",
    "dy = [1, -1, 0, 0]\n",
    "\n",
    "def mark_area(x, y, directions, office):\n",
    "    for d in directions:\n",
    "        nx, ny = x, y\n",
    "        while True:\n",
    "            nx += dx[d]\n",
    "            ny += dy[d]\n",
    "            if not (0 <= nx < n and 0 <= ny < m):  # 맵을 벗어나면 중단\n",
    "                break\n",
    "            if office[nx][ny] == 6:  # 벽을 만나면 중단\n",
    "                break\n",
    "            if office[nx][ny] == 0:  # 빈 칸일 때 감시 표시\n",
    "                office[nx][ny] = \"#\"\n",
    "            \n",
    "min_blind_spot = float(\"inf\")    \n",
    "def dfs(index, office):\n",
    "    global min_blind_spot\n",
    "    if index == len(cctv_list):\n",
    "        blind_spot = sum(row.count(0) for row in office)\n",
    "        min_blind_spot = min(blind_spot, min_blind_spot)\n",
    "        return\n",
    "    \n",
    "    x, y, cctv_type = cctv_list[index]\n",
    "    for dirs in directions[cctv_type]:\n",
    "        new_office = copy.deepcopy(office)\n",
    "        mark_area(x, y, dirs, new_office)\n",
    "        dfs(index + 1, new_office)\n",
    "\n",
    "dfs(0, office)\n",
    "print(min_blind_spot)"
   ],
   "metadata": {
    "collapsed": false,
    "ExecuteTime": {
     "end_time": "2024-12-10T19:47:00.492720900Z",
     "start_time": "2024-12-10T19:47:00.487967300Z"
    }
   },
   "id": "cacc8cf3ce351a5a"
  }
 ],
 "metadata": {
  "kernelspec": {
   "display_name": "Python 3",
   "language": "python",
   "name": "python3"
  },
  "language_info": {
   "codemirror_mode": {
    "name": "ipython",
    "version": 2
   },
   "file_extension": ".py",
   "mimetype": "text/x-python",
   "name": "python",
   "nbconvert_exporter": "python",
   "pygments_lexer": "ipython2",
   "version": "2.7.6"
  }
 },
 "nbformat": 4,
 "nbformat_minor": 5
}
