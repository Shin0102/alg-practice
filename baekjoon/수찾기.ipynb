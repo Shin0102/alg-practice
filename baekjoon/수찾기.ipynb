{
 "cells": [
  {
   "cell_type": "markdown",
   "id": "three-elevation",
   "metadata": {},
   "source": [
    "[수찾기](https://www.acmicpc.net/problem/1920)"
   ]
  },
  {
   "cell_type": "code",
   "execution_count": 7,
   "id": "labeled-hygiene",
   "metadata": {},
   "outputs": [
    {
     "name": "stdout",
     "output_type": "stream",
     "text": [
      "5\n",
      "4 1 5 2 3\n",
      "5\n",
      "1 3 7 9 5\n",
      "1\n",
      "1\n",
      "0\n",
      "0\n",
      "1\n"
     ]
    }
   ],
   "source": [
    "n = int(input())\n",
    "n_list_hash = {int(i):int(i) for i in input().split(\" \")}\n",
    "\n",
    "m = int(input())\n",
    "m_list_num = [int(i) for i in input().split(\" \")]\n",
    "\n",
    "for find_num in m_list_num:\n",
    "    if find_num in n_list_hash.keys():\n",
    "        print(1)\n",
    "    else:\n",
    "        print(0)\n",
    "        \n",
    "\n",
    "    \n",
    "        \n",
    "        "
   ]
  },
  {
   "cell_type": "markdown",
   "id": "unusual-course",
   "metadata": {},
   "source": [
    "- set 함수로 하는게 더 나았을듯.."
   ]
  },
  {
   "cell_type": "code",
   "execution_count": null,
   "id": "received-festival",
   "metadata": {},
   "outputs": [],
   "source": []
  }
 ],
 "metadata": {
  "kernelspec": {
   "display_name": "Python 3",
   "language": "python",
   "name": "python3"
  },
  "language_info": {
   "codemirror_mode": {
    "name": "ipython",
    "version": 3
   },
   "file_extension": ".py",
   "mimetype": "text/x-python",
   "name": "python",
   "nbconvert_exporter": "python",
   "pygments_lexer": "ipython3",
   "version": "3.8.5"
  }
 },
 "nbformat": 4,
 "nbformat_minor": 5
}
