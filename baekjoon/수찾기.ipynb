{
 "cells": [
  {
   "cell_type": "markdown",
   "id": "three-elevation",
   "metadata": {},
   "source": [
    "[수찾기](https://www.acmicpc.net/problem/1920)"
   ]
  },
  {
   "cell_type": "code",
   "execution_count": 7,
   "id": "labeled-hygiene",
   "metadata": {
    "scrolled": true
   },
   "outputs": [
    {
     "name": "stdout",
     "output_type": "stream",
     "text": [
      "5\n",
      "4 1 5 2 3\n",
      "5\n",
      "1 3 7 9 5\n",
      "1\n",
      "1\n",
      "0\n",
      "0\n",
      "1\n"
     ]
    }
   ],
   "source": [
    "n = int(input())\n",
    "n_list_hash = {int(i):int(i) for i in input().split(\" \")}\n",
    "\n",
    "m = int(input())\n",
    "m_list_num = [int(i) for i in input().split(\" \")]\n",
    "\n",
    "for find_num in m_list_num:\n",
    "    if find_num in n_list_hash.keys():\n",
    "        print(1)\n",
    "    else:\n",
    "        print(0)\n",
    "        \n",
    "\n",
    "    \n",
    "        \n",
    "        "
   ]
  },
  {
   "cell_type": "markdown",
   "id": "unusual-course",
   "metadata": {},
   "source": [
    "- 이진트리\n",
    "   - 리스트 슬라이싱 X: 리스트 생성 방지\n",
    "   - 재귀 -> 반복문: 재귀의 경우 호출 스택에 함수를 쌓기때문에 오버헤드 발생"
   ]
  },
  {
   "cell_type": "code",
   "execution_count": 12,
   "id": "received-festival",
   "metadata": {},
   "outputs": [
    {
     "name": "stdin",
     "output_type": "stream",
     "text": [
      " 5\n",
      " 4 1 5 2 3\n",
      " 5\n",
      " 1 3 7 9 5\n"
     ]
    },
    {
     "name": "stdout",
     "output_type": "stream",
     "text": [
      "1\n",
      "1\n",
      "0\n",
      "0\n",
      "1\n"
     ]
    }
   ],
   "source": [
    "n = int(input())\n",
    "n_list = [int(i) for i in input().split(\" \")]\n",
    "sorted_n_list = sorted(n_list)\n",
    "\n",
    "m = int(input())\n",
    "m_list = [int(i) for i in input().split(\" \")]\n",
    "\n",
    "def binary_search(data: list, search_num: int) -> int:\n",
    "    left, right = 0, len(data) - 1\n",
    "    while left <= right:\n",
    "        mid = (left + right) // 2\n",
    "        if data[mid] < search_num:\n",
    "            left = mid + 1\n",
    "        elif data[mid] > search_num:\n",
    "            right = mid - 1\n",
    "        else:\n",
    "            return 1\n",
    "    return 0\n",
    "\n",
    "\n",
    "for search_num in m_list:\n",
    "    print(binary_search(sorted_n_list, search_num))"
   ]
  }
 ],
 "metadata": {
  "kernelspec": {
   "display_name": "Python 3 (ipykernel)",
   "language": "python",
   "name": "python3"
  },
  "language_info": {
   "codemirror_mode": {
    "name": "ipython",
    "version": 3
   },
   "file_extension": ".py",
   "mimetype": "text/x-python",
   "name": "python",
   "nbconvert_exporter": "python",
   "pygments_lexer": "ipython3",
   "version": "3.11.7"
  }
 },
 "nbformat": 4,
 "nbformat_minor": 5
}
