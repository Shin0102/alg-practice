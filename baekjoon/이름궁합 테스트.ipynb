{
 "cells": [
  {
   "cell_type": "markdown",
   "source": [
    "[이름궁합 테스트](https://www.acmicpc.net/problem/17269)"
   ],
   "metadata": {
    "collapsed": false
   },
   "id": "f5d8e392e31d565f"
  },
  {
   "cell_type": "code",
   "execution_count": 19,
   "outputs": [
    {
     "name": "stdout",
     "output_type": "stream",
     "text": [
      "[0, 1]\n",
      "1%\n"
     ]
    }
   ],
   "source": [
    "import copy\n",
    "\n",
    "a, b = map(int, input().split())\n",
    "a_name, b_name = input().split()\n",
    "min_name = min(a, b)\n",
    "cnt_list = [3,2,1,2,4,3,1,3,1,1,3,1,3,2,1,2,2,2,1,2,1,1,1,2,2,1]\n",
    "\n",
    "# 궁합이름 준비\n",
    "names = []\n",
    "for i in range(min_name):\n",
    "    names.extend([a_name[i], b_name[i]])\n",
    "if a > b:\n",
    "    names.extend(a_name[len(b_name):])\n",
    "else:\n",
    "    names.extend(b_name[len(a_name):])\n",
    "    \n",
    "# 궁합점수\n",
    "score_list = [cnt_list[ord(n) - ord(\"A\")] for n in names]   \n",
    "for _ in range(len(names) - 2):\n",
    "    score_list_len = len(score_list)\n",
    "    tmp_list = []\n",
    "    for i in range(score_list_len):\n",
    "        if i == 0:\n",
    "            pass\n",
    "        else:\n",
    "            tmp_list.append((score_list[i-1] + score_list[i]) % 10)\n",
    "    score_list = copy.deepcopy(tmp_list)\n",
    "\n",
    "if score_list[0] == 0:\n",
    "    print(f\"{score_list[1]}%\")\n",
    "else:\n",
    "    print(f\"{score_list[0]}{score_list[1]}%\")"
   ],
   "metadata": {
    "collapsed": false,
    "ExecuteTime": {
     "end_time": "2024-08-18T15:31:29.158442900Z",
     "start_time": "2024-08-18T15:31:25.029792500Z"
    }
   },
   "id": "65b7f37d8b0938c1"
  },
  {
   "cell_type": "code",
   "execution_count": null,
   "outputs": [],
   "source": [],
   "metadata": {
    "collapsed": false
   },
   "id": "bef2c1d001891f1d"
  }
 ],
 "metadata": {
  "kernelspec": {
   "display_name": "Python 3",
   "language": "python",
   "name": "python3"
  },
  "language_info": {
   "codemirror_mode": {
    "name": "ipython",
    "version": 2
   },
   "file_extension": ".py",
   "mimetype": "text/x-python",
   "name": "python",
   "nbconvert_exporter": "python",
   "pygments_lexer": "ipython2",
   "version": "2.7.6"
  }
 },
 "nbformat": 4,
 "nbformat_minor": 5
}
