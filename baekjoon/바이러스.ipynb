{
 "cells": [
  {
   "cell_type": "markdown",
   "id": "b57628c3-39a7-45d5-b939-4e4385a2c476",
   "metadata": {},
   "source": [
    "[바이러스](https://www.acmicpc.net/problem/2606)"
   ]
  },
  {
   "cell_type": "code",
   "execution_count": 14,
   "id": "f22196cc-6d08-47d8-b4d0-fa03a1e2ffd5",
   "metadata": {},
   "outputs": [
    {
     "name": "stdin",
     "output_type": "stream",
     "text": [
      " 7\n",
      " 6\n",
      " 1 2\n",
      " 2 3\n",
      " 1 5\n",
      " 5 2\n",
      " 5 6\n",
      " 4 7\n"
     ]
    },
    {
     "name": "stdout",
     "output_type": "stream",
     "text": [
      "4\n"
     ]
    }
   ],
   "source": [
    "from collections import defaultdict, deque\n",
    "\n",
    "\n",
    "n = int(input())\n",
    "m = int(input())\n",
    "graph = defaultdict(list)\n",
    "to_visit = deque([1])\n",
    "visited = [False] * (n + 1)\n",
    "for _ in range(m):\n",
    "    e1, e2 = map(int, input().split())\n",
    "    graph[e1].append(e2)\n",
    "    graph[e2].append(e1)\n",
    "\n",
    "\n",
    "result = 0\n",
    "while to_visit:\n",
    "    visit = to_visit.popleft()\n",
    "    if not visited[visit]:\n",
    "        to_visit.extend(graph[visit])\n",
    "        visited[visit] = True\n",
    "        result += 1\n",
    "\n",
    "print(result - 1)\n",
    "    "
   ]
  },
  {
   "cell_type": "code",
   "execution_count": null,
   "id": "bd00d376-c48b-43a8-b2e1-5cf460ac4927",
   "metadata": {},
   "outputs": [],
   "source": []
  }
 ],
 "metadata": {
  "kernelspec": {
   "display_name": "Python 3 (ipykernel)",
   "language": "python",
   "name": "python3"
  },
  "language_info": {
   "codemirror_mode": {
    "name": "ipython",
    "version": 3
   },
   "file_extension": ".py",
   "mimetype": "text/x-python",
   "name": "python",
   "nbconvert_exporter": "python",
   "pygments_lexer": "ipython3",
   "version": "3.12.4"
  }
 },
 "nbformat": 4,
 "nbformat_minor": 5
}
