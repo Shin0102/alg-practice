{
 "cells": [
  {
   "cell_type": "markdown",
   "id": "b247f0a4-ffde-46e7-b1ea-e660037be5b8",
   "metadata": {},
   "source": [
    "[평범한 배낭](https://www.acmicpc.net/problem/12865)\n",
    "- 모든무게에 대하여 최대가치를 저장\n",
    "- example\n",
    "```\n",
    "[0, 0, 0, 0, 0, 0, 0, 0]\n",
    "[0, 0, 0, 0, 0, 0, 13, 13] w = 6, v = 13\n",
    "[0, 0, 0, 0, 8, 8, 13, 13] w = 4, v = 8\n",
    "[0, 0, 0, 6, 8, 8, 13, 14] w = 3, v = 6\n",
    "[0, 0, 0, 6, 8, 12, 13, 14] w = 5, v = 12\n",
    "```"
   ]
  },
  {
   "cell_type": "code",
   "execution_count": 5,
   "id": "c05cd5f2-a671-413b-97e6-1b2fc50b6fee",
   "metadata": {},
   "outputs": [
    {
     "name": "stdin",
     "output_type": "stream",
     "text": [
      " 4 7\n",
      " 6 13\n",
      " 4 8\n",
      " 3 6\n",
      " 5 12\n"
     ]
    },
    {
     "name": "stdout",
     "output_type": "stream",
     "text": [
      "14\n"
     ]
    }
   ],
   "source": [
    "n, k = map(int, input().split())\n",
    "item_list = [[0] * (k+1) for _ in range(n+1)]\n",
    "for i in range(1, n+1):\n",
    "    w, v = map(int, input().split())\n",
    "    for j in range(1, k+1):\n",
    "        if j < w:\n",
    "            item_list[i][j] = item_list[i-1][j]\n",
    "        else:\n",
    "            item_list[i][j] = max(item_list[i-1][j], item_list[i-1][j-w] + v)\n",
    "\n",
    "\n",
    "print(item_list[n][k])"
   ]
  },
  {
   "cell_type": "code",
   "execution_count": null,
   "id": "7682956d-765a-4f16-b4cb-389dbdba8361",
   "metadata": {},
   "outputs": [],
   "source": []
  }
 ],
 "metadata": {
  "kernelspec": {
   "display_name": "Python 3 (ipykernel)",
   "language": "python",
   "name": "python3"
  },
  "language_info": {
   "codemirror_mode": {
    "name": "ipython",
    "version": 3
   },
   "file_extension": ".py",
   "mimetype": "text/x-python",
   "name": "python",
   "nbconvert_exporter": "python",
   "pygments_lexer": "ipython3",
   "version": "3.12.3"
  }
 },
 "nbformat": 4,
 "nbformat_minor": 5
}
