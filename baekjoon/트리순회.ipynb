{
 "cells": [
  {
   "cell_type": "markdown",
   "id": "3d06b2c6-d0d6-40f5-85a3-4e808d644816",
   "metadata": {},
   "source": [
    "[트리순회](https://www.acmicpc.net/problem/1991)"
   ]
  },
  {
   "cell_type": "code",
   "execution_count": 19,
   "id": "50b1ccd2-0b96-463a-a477-53d63193a24f",
   "metadata": {},
   "outputs": [
    {
     "name": "stdin",
     "output_type": "stream",
     "text": [
      " 7\n",
      " A B C\n",
      " B D .\n",
      " C E F\n",
      " E . .\n",
      " F . G\n",
      " D . .\n",
      " G . .\n"
     ]
    },
    {
     "name": "stdout",
     "output_type": "stream",
     "text": [
      "ABDCEFG\n",
      "DBAECFG\n",
      "DBEGFCA"
     ]
    }
   ],
   "source": [
    "tree = {}\n",
    "\n",
    "class Node:\n",
    "    def __init__(self, data, left = None, right = None):\n",
    "        self.data = data\n",
    "        self.left = left\n",
    "        self.right = right\n",
    "\n",
    "\n",
    "def pre_order(node: Node) -> None:\n",
    "    print(node.data, end=\"\")\n",
    "    if node.left:\n",
    "        pre_order(tree[node.left])\n",
    "    if node.right:\n",
    "        pre_order(tree[node.right])\n",
    "\n",
    "def in_order(node: Node) -> None:\n",
    "    if node.left:\n",
    "        in_order(tree[node.left])\n",
    "    print(node.data, end=\"\")\n",
    "    if node.right:\n",
    "        in_order(tree[node.right])\n",
    "\n",
    "def post_order(node: Node) -> None:\n",
    "    if node.left:\n",
    "        post_order(tree[node.left])\n",
    "    if node.right:\n",
    "        post_order(tree[node.right])\n",
    "    print(node.data, end=\"\")\n",
    "\n",
    "\n",
    "if __name__ == \"__main__\": \n",
    "    n = int(input())\n",
    "    for _ in range(n):\n",
    "        data, left, right = map(lambda x: None if x == \".\" else x, input().split())\n",
    "        tree[data] = Node(data, left, right)\n",
    " \n",
    "    pre_order(tree[\"A\"])\n",
    "    print(\"\")\n",
    "    in_order(tree[\"A\"])\n",
    "    print(\"\")\n",
    "    post_order(tree[\"A\"])"
   ]
  },
  {
   "cell_type": "code",
   "execution_count": null,
   "id": "d71ddef5-9781-4ae9-8dbc-7ab698e5eb5c",
   "metadata": {},
   "outputs": [],
   "source": []
  }
 ],
 "metadata": {
  "kernelspec": {
   "display_name": "Python 3 (ipykernel)",
   "language": "python",
   "name": "python3"
  },
  "language_info": {
   "codemirror_mode": {
    "name": "ipython",
    "version": 3
   },
   "file_extension": ".py",
   "mimetype": "text/x-python",
   "name": "python",
   "nbconvert_exporter": "python",
   "pygments_lexer": "ipython3",
   "version": "3.12.3"
  }
 },
 "nbformat": 4,
 "nbformat_minor": 5
}
