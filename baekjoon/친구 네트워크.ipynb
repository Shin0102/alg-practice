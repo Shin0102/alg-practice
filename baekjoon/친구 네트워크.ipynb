{
 "cells": [
  {
   "cell_type": "markdown",
   "id": "knowing-stephen",
   "metadata": {},
   "source": [
    "[친구 네트워크](https://www.acmicpc.net/problem/4195)"
   ]
  },
  {
   "cell_type": "code",
   "execution_count": 1,
   "id": "defined-smell",
   "metadata": {
    "scrolled": false
   },
   "outputs": [
    {
     "name": "stdout",
     "output_type": "stream",
     "text": [
      "2\n",
      "3\n",
      "Fred Barney\n",
      "2\n",
      "Barney Betty\n",
      "3\n",
      "Betty Wilma\n",
      "4\n",
      "3\n",
      "Fred Barney\n",
      "2\n",
      "Betty Wilma\n",
      "2\n",
      "Barney Betty\n",
      "4\n"
     ]
    }
   ],
   "source": [
    "test_case = int(input())\n",
    "\n",
    "\n",
    "def find(x):\n",
    "    if x == network[x]:\n",
    "        return x\n",
    "    else:\n",
    "        p = find(network[x])\n",
    "        network[x] = p\n",
    "        return p\n",
    "\n",
    "\n",
    "def union(x, y):\n",
    "    x = find(x)\n",
    "    y = find(y)\n",
    "    \n",
    "    if x != y:\n",
    "        network[y] = x\n",
    "        number[x] += number[y]\n",
    "        \n",
    "    \n",
    "for _ in range(test_case):\n",
    "    network_num = int(input())\n",
    "    network = dict()\n",
    "    number = dict()\n",
    "    \n",
    "    for _ in range(network_num):\n",
    "        \n",
    "        x, y = input().split()\n",
    "        if x not in network:\n",
    "            network[x] = x\n",
    "            number[x] = 1\n",
    "            \n",
    "        if y not in network:\n",
    "            network[y] = y\n",
    "            number[y] = 1\n",
    "            \n",
    "        union(x, y)\n",
    "        print(number[find(x)])\n",
    "        "
   ]
  },
  {
   "cell_type": "markdown",
   "id": "severe-peace",
   "metadata": {},
   "source": [
    "풀이\n",
    "---\n",
    "- union find 알고리즘을 이용"
   ]
  }
 ],
 "metadata": {
  "kernelspec": {
   "display_name": "Python 3",
   "language": "python",
   "name": "python3"
  },
  "language_info": {
   "codemirror_mode": {
    "name": "ipython",
    "version": 3
   },
   "file_extension": ".py",
   "mimetype": "text/x-python",
   "name": "python",
   "nbconvert_exporter": "python",
   "pygments_lexer": "ipython3",
   "version": "3.8.5"
  }
 },
 "nbformat": 4,
 "nbformat_minor": 5
}
