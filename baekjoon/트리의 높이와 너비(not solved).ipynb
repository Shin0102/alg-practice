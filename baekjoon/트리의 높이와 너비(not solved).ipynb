{
 "cells": [
  {
   "cell_type": "markdown",
   "id": "57072cb7-63cf-4ae6-96ab-5d20e3cd5144",
   "metadata": {},
   "source": [
    "[트리의 높이와 너비](https://www.acmicpc.net/problem/2250)\n",
    "- 가장 왼쪽부터 순회해야 한다. (중위 순회)\n",
    "- 레벨별 최소, 최대값을 업데이트 후 마지막 최대 너비를 구해준다\n",
    "- 루트노드가 1이아니다. parent를 이용해 루트노드를 찾아야함"
   ]
  },
  {
   "cell_type": "code",
   "execution_count": 13,
   "id": "5740dab2-ae7e-4055-836c-6495f948148f",
   "metadata": {},
   "outputs": [
    {
     "name": "stdin",
     "output_type": "stream",
     "text": [
      " 19\n",
      " 1 2 3\n",
      " 2 4 5\n",
      " 3 6 7\n",
      " 4 8 -1\n",
      " 5 9 10\n",
      " 6 11 12\n",
      " 7 13 -1\n",
      " 8 -1 -1\n",
      " 9 14 15\n",
      " 10 -1 -1\n",
      " 11 16 -1\n",
      " 12 -1 -1\n",
      " 13 17 -1\n",
      " 14 -1 -1\n",
      " 15 18 -1\n",
      " 16 -1 -1\n",
      " 17 -1 19\n",
      " 18 -1 -1\n",
      " 19 -1 -1\n"
     ]
    },
    {
     "name": "stdout",
     "output_type": "stream",
     "text": [
      "3 18\n"
     ]
    }
   ],
   "source": [
    "\n",
    "class Node:\n",
    "    def __init__(self, data, left, right):\n",
    "        self.parent = -1\n",
    "        self.data = data\n",
    "        self.left = left\n",
    "        self.right = right\n",
    "\n",
    "\n",
    "n = int(input())\n",
    "tree = {}\n",
    "level_min = [n]  # level 별 가장 작은 값\n",
    "level_max = [0]  # level 별 가장 큰 값\n",
    "level_depth = 1\n",
    "root = -1 \n",
    "x = 1\n",
    "for i in range(1, n+1):\n",
    "    tree[i] = Node(i, -1, -1)\n",
    "    level_min.append(n)\n",
    "    level_max.append(0)\n",
    "\n",
    "for _ in range(n):\n",
    "    data, left, right = map(int, input().split())\n",
    "    tree[data].left = left\n",
    "    tree[data].right = right\n",
    "    if left != -1:\n",
    "        tree[left].parent = data\n",
    "    if right != -1:\n",
    "        tree[right].parent = data\n",
    "\n",
    "for i in range(1, n+1):\n",
    "    if tree[i].parent == -1:\n",
    "        root = i\n",
    "        break\n",
    "\n",
    "def in_order(node, level):\n",
    "    global level_depth, x, level_min, level_max\n",
    "    level_depth = max(level_depth, level)\n",
    "    if node.left != -1:\n",
    "        in_order(tree[node.left], level + 1)\n",
    "\n",
    "    # level 계산\n",
    "    level_min[level] = min(level_min[level], x)\n",
    "    level_max[level] = max(level_max[level], x)\n",
    "    x += 1\n",
    "    \n",
    "    if node.right != -1:\n",
    "        in_order(tree[node.right], level + 1)\n",
    "\n",
    "\n",
    "in_order(tree[root], 1)\n",
    "result_level = 1\n",
    "result_width = level_max[1] - level_min[1] + 1\n",
    "for i in range(2, level_depth + 1):\n",
    "    width = level_max[i] - level_min[i] + 1\n",
    "    if result_width < width:\n",
    "        result_level = i\n",
    "        result_width = width\n",
    "\n",
    "\n",
    "print(result_level, result_width)\n",
    "        "
   ]
  },
  {
   "cell_type": "code",
   "execution_count": null,
   "id": "1170621c-caaf-40f3-9179-45d93e5b646b",
   "metadata": {},
   "outputs": [],
   "source": []
  }
 ],
 "metadata": {
  "kernelspec": {
   "display_name": "Python 3 (ipykernel)",
   "language": "python",
   "name": "python3"
  },
  "language_info": {
   "codemirror_mode": {
    "name": "ipython",
    "version": 3
   },
   "file_extension": ".py",
   "mimetype": "text/x-python",
   "name": "python",
   "nbconvert_exporter": "python",
   "pygments_lexer": "ipython3",
   "version": "3.12.3"
  }
 },
 "nbformat": 4,
 "nbformat_minor": 5
}
