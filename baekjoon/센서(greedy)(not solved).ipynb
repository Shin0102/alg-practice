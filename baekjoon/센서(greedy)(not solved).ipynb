{
 "cells": [
  {
   "cell_type": "markdown",
   "id": "a7927186-40ce-44a1-98c4-a64ef0422a1d",
   "metadata": {},
   "source": [
    "[센서](https://www.acmicpc.net/problem/2212)\n",
    "- 센서사이의 거리가 큰순으로 영역을 나눠주면 됨\n",
    "- ex) n = 6, k = 2, sensor_list = [1, 3, 6, 6, 7, 9]\n",
    "   - 센서사이의 거리 -> [2, 3, 0, 1, 2]\n",
    "   - 1, 3 | 6, 6, 7, 9\n",
    "   - 나눈뒤 영역별 거리합을 구한다 -> 5"
   ]
  },
  {
   "cell_type": "code",
   "execution_count": 15,
   "id": "d4c05a60-23d3-462b-9cd7-9c85fbbebd68",
   "metadata": {
    "scrolled": true
   },
   "outputs": [
    {
     "name": "stdin",
     "output_type": "stream",
     "text": [
      " 10\n",
      " 5\n",
      " 20 3 14 6 7 8 18 10 12 15\n"
     ]
    },
    {
     "name": "stdout",
     "output_type": "stream",
     "text": [
      "7\n"
     ]
    }
   ],
   "source": [
    "import sys\n",
    "\n",
    "n = int(input())\n",
    "k = int(input())\n",
    "\n",
    "if k >= n:\n",
    "    print(0)\n",
    "    sys.exit(0)\n",
    "    \n",
    "sensor_list = list(map(int, input().split()))\n",
    "sensor_list.sort()\n",
    "\n",
    "diff = []\n",
    "for i in range(1, len(sensor_list)):\n",
    "    diff.append(sensor_list[i] - sensor_list[i-1])\n",
    "diff.sort(reverse=True)\n",
    "\n",
    "for i in range(k-1):\n",
    "    diff[i] = 0\n",
    "    \n",
    "print(sum(diff))"
   ]
  }
 ],
 "metadata": {
  "kernelspec": {
   "display_name": "Python 3 (ipykernel)",
   "language": "python",
   "name": "python3"
  },
  "language_info": {
   "codemirror_mode": {
    "name": "ipython",
    "version": 3
   },
   "file_extension": ".py",
   "mimetype": "text/x-python",
   "name": "python",
   "nbconvert_exporter": "python",
   "pygments_lexer": "ipython3",
   "version": "3.12.4"
  }
 },
 "nbformat": 4,
 "nbformat_minor": 5
}
