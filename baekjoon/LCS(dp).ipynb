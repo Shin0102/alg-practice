{
 "cells": [
  {
   "cell_type": "markdown",
   "id": "ee53b51c-6801-4d6c-a415-dcc421368efe",
   "metadata": {},
   "source": [
    "[LCS, 최장공통수열](https://www.acmicpc.net/problem/9251)\n",
    "\n",
    "```\n",
    "[0, 0, 0, 0, 0, 0, 0]\n",
    "[0, 0, 1, 1, 1, 1, 1]\n",
    "[0, 1, 1, 1, 2, 2, 2]\n",
    "[0, 1, 2, 2, 2, 3, 3]\n",
    "[0, 1, 2, 2, 2, 3, 3]\n",
    "[0, 1, 2, 2, 2, 3, 4]\n",
    "[0, 1, 2, 3, 3, 3, 4]\n",
    "```\n",
    "- 매행마다 최장 공통 수열을 저장"
   ]
  },
  {
   "cell_type": "code",
   "execution_count": 11,
   "id": "57079412-1296-41bc-918a-e60dce314b64",
   "metadata": {
    "scrolled": true
   },
   "outputs": [
    {
     "name": "stdin",
     "output_type": "stream",
     "text": [
      " ACAYKP\n",
      " CAPCAK\n"
     ]
    },
    {
     "name": "stdout",
     "output_type": "stream",
     "text": [
      "4\n"
     ]
    }
   ],
   "source": [
    "first = input()\n",
    "second = input()\n",
    "\n",
    "dp = [[0] * (len(second) + 1) for _ in range(len(first) + 1)]\n",
    "\n",
    "for i in range(1, len(first)+1):\n",
    "    for j in range(1, len(second)+1):\n",
    "        if first[i-1] == second[j-1]:\n",
    "            dp[i][j] = dp[i-1][j-1] + 1\n",
    "        else:\n",
    "            dp[i][j] = max(dp[i][j-1], dp[i-1][j])\n",
    "        \n",
    "print(dp[i][j])"
   ]
  }
 ],
 "metadata": {
  "kernelspec": {
   "display_name": "Python 3 (ipykernel)",
   "language": "python",
   "name": "python3"
  },
  "language_info": {
   "codemirror_mode": {
    "name": "ipython",
    "version": 3
   },
   "file_extension": ".py",
   "mimetype": "text/x-python",
   "name": "python",
   "nbconvert_exporter": "python",
   "pygments_lexer": "ipython3",
   "version": "3.12.4"
  }
 },
 "nbformat": 4,
 "nbformat_minor": 5
}
