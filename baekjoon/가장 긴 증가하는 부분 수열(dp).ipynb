{
 "cells": [
  {
   "cell_type": "markdown",
   "id": "fee2c400-9789-4617-9a80-7f7a8a49b34d",
   "metadata": {},
   "source": [
    "[가장 긴 증가하는 부분 수열](https://www.acmicpc.net/problem/11053)"
   ]
  },
  {
   "cell_type": "code",
   "execution_count": 33,
   "id": "1d9e8e54-6edd-40b6-a8d4-1d579eaad1ea",
   "metadata": {},
   "outputs": [
    {
     "name": "stdin",
     "output_type": "stream",
     "text": [
      " 6\n",
      " 10 20 10 30 20 50\n"
     ]
    },
    {
     "name": "stdout",
     "output_type": "stream",
     "text": [
      "4\n"
     ]
    }
   ],
   "source": [
    "n = int(input())\n",
    "a = list(map(int, input().split()))\n",
    "\n",
    "# dp 배열을 1로 초기화하고, 각 요소는 해당 위치까지의 부분 수열의 길이를 저장\n",
    "dp = [1] * n\n",
    "\n",
    "# 각 위치에 대해 그 이전의 위치를 탐색하면서 dp 값을 갱신\n",
    "for i in range(1, n):\n",
    "    for j in range(i):\n",
    "        if a[i] > a[j]:\n",
    "            dp[i] = max(dp[i], dp[j] + 1)\n",
    "\n",
    "# 가장 긴 증가하는 부분 수열의 길이를 출력\n",
    "print(max(dp))"
   ]
  },
  {
   "cell_type": "code",
   "execution_count": null,
   "id": "2cd29e78-f23d-4591-b743-00a1781a0cef",
   "metadata": {},
   "outputs": [],
   "source": []
  }
 ],
 "metadata": {
  "kernelspec": {
   "display_name": "Python 3 (ipykernel)",
   "language": "python",
   "name": "python3"
  },
  "language_info": {
   "codemirror_mode": {
    "name": "ipython",
    "version": 3
   },
   "file_extension": ".py",
   "mimetype": "text/x-python",
   "name": "python",
   "nbconvert_exporter": "python",
   "pygments_lexer": "ipython3",
   "version": "3.12.3"
  }
 },
 "nbformat": 4,
 "nbformat_minor": 5
}
