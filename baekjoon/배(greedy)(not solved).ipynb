{
 "cells": [
  {
   "cell_type": "markdown",
   "id": "5e3c6c10-52f2-42d7-b858-da3c7355f02c",
   "metadata": {},
   "source": [
    "[배](https://www.acmicpc.net/problem/1092)"
   ]
  },
  {
   "cell_type": "code",
   "execution_count": 2,
   "id": "e426ee67-f139-4179-a442-ac6a84576ddd",
   "metadata": {},
   "outputs": [
    {
     "name": "stdin",
     "output_type": "stream",
     "text": [
      " 3\n",
      " 6 8 9\n",
      " 5\n",
      " 2 5 2 4 7\n"
     ]
    },
    {
     "name": "stdout",
     "output_type": "stream",
     "text": [
      "2\n"
     ]
    }
   ],
   "source": [
    "import sys\n",
    "# input = sys.stdin.readline\n",
    "\n",
    "n = int(input())\n",
    "cranes = list(map(int, input().split()))\n",
    "\n",
    "m = int(input())\n",
    "boxes = list(map(int, input().split()))\n",
    "\n",
    "cranes.sort(reverse=True)\n",
    "boxes.sort(reverse=True)\n",
    "\n",
    "if cranes[0] < boxes[0]:\n",
    "    print(-1)\n",
    "else:\n",
    "    pos = [0] * n  # 크레인이 현재옮겨야 하는 박스정보\n",
    "    checked = [False] * m\n",
    "    res = 0\n",
    "    cnt = 0\n",
    "    while True:\n",
    "        if cnt == len(boxes):\n",
    "            break\n",
    "        for i in range(n):\n",
    "            while pos[i] < len(boxes):\n",
    "                # 크레인이 현재 옮겨야 하는 박스 이면서 크레인의 무게가 박스보다 클때\n",
    "                if not checked[pos[i]] and cranes[i] >= boxes[pos[i]]:\n",
    "                    checked[pos[i]] = True\n",
    "                    pos[i] += 1\n",
    "                    cnt += 1\n",
    "                    break\n",
    "                pos[i] += 1\n",
    "\n",
    "        res += 1\n",
    "    print(res)"
   ]
  },
  {
   "cell_type": "code",
   "execution_count": null,
   "id": "361a56c7-3ef6-4913-8120-f7550a53326b",
   "metadata": {},
   "outputs": [],
   "source": []
  }
 ],
 "metadata": {
  "kernelspec": {
   "display_name": "Python 3 (ipykernel)",
   "language": "python",
   "name": "python3"
  },
  "language_info": {
   "codemirror_mode": {
    "name": "ipython",
    "version": 3
   },
   "file_extension": ".py",
   "mimetype": "text/x-python",
   "name": "python",
   "nbconvert_exporter": "python",
   "pygments_lexer": "ipython3",
   "version": "3.12.4"
  }
 },
 "nbformat": 4,
 "nbformat_minor": 5
}
