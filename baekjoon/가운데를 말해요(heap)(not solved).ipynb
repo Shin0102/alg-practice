{
 "cells": [
  {
   "cell_type": "markdown",
   "id": "9f34e81ab0ad6d57",
   "metadata": {
    "collapsed": false
   },
   "source": [
    "[가운데를 말해요](https://www.acmicpc.net/problem/1655)\n",
    "- 중간값을 구하기위해 매번 정렬을 사용하면 시간초과\n",
    "- max heap 과 min heap으로 가운데값을 유지시킴"
   ]
  },
  {
   "cell_type": "code",
   "execution_count": 1,
   "id": "ad72ead5d6ee93f1",
   "metadata": {
    "collapsed": false,
    "ExecuteTime": {
     "end_time": "2024-08-25T17:09:26.512906600Z",
     "start_time": "2024-08-25T17:08:13.368149600Z"
    }
   },
   "outputs": [
    {
     "name": "stdout",
     "output_type": "stream",
     "text": [
      "1\n",
      "1\n",
      "2\n",
      "2\n",
      "2\n",
      "2\n",
      "5\n"
     ]
    }
   ],
   "source": [
    "import heapq\n",
    "import sys\n",
    "# input = sys.stdin.readline\n",
    "\n",
    "n = int(input())\n",
    "front = []\n",
    "back = []\n",
    "\n",
    "mid = int(input())\n",
    "print(mid)\n",
    "\n",
    "for i in range(2, n+1):\n",
    "    k = int(input())\n",
    "\n",
    "    if k < mid:\n",
    "        heapq.heappush(front, -k)\n",
    "        if i % 2 == 0:\n",
    "            heapq.heappush(back, mid)\n",
    "            mid = -heapq.heappop(front)\n",
    "    else:\n",
    "        heapq.heappush(back, k)\n",
    "        if i % 2 == 1:\n",
    "            heapq.heappush(front, -mid)\n",
    "            mid = heapq.heappop(back)\n",
    "\n",
    "    print(mid)"
   ]
  }
 ],
 "metadata": {
  "kernelspec": {
   "display_name": "Python 3 (ipykernel)",
   "language": "python",
   "name": "python3"
  },
  "language_info": {
   "codemirror_mode": {
    "name": "ipython",
    "version": 3
   },
   "file_extension": ".py",
   "mimetype": "text/x-python",
   "name": "python",
   "nbconvert_exporter": "python",
   "pygments_lexer": "ipython3",
   "version": "3.12.4"
  }
 },
 "nbformat": 4,
 "nbformat_minor": 5
}
