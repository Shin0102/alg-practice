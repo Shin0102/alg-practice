{
 "cells": [
  {
   "cell_type": "markdown",
   "source": [
    "[탑](https://www.acmicpc.net/problem/2493)\n",
    "- 단순 순회시 최악의 경우 O(n^2), 타임아웃 발생\n",
    "- 스택을 이용하여 불필요한 탑의 경우 제거, 각 탑은 스택에 한번만 들어가고 필요할때 한번만 제거된다."
   ],
   "metadata": {
    "collapsed": false
   },
   "id": "1f5f2008e19bd2ad"
  },
  {
   "cell_type": "code",
   "execution_count": 24,
   "outputs": [
    {
     "name": "stdout",
     "output_type": "stream",
     "text": [
      "0 0 2 2 4 "
     ]
    }
   ],
   "source": [
    "n = int(input())\n",
    "top_list = list(map(int, input().split()))\n",
    "print(0, end=\" \")\n",
    "for i in range(1, len(top_list)):\n",
    "    num = 0\n",
    "    while i - num >= 0:\n",
    "        num += 1\n",
    "        cur_top = top_list[i-num]\n",
    "        if cur_top > top_list[i]:\n",
    "            print(i - num + 1, end=\" \")\n",
    "            break\n",
    "    else:\n",
    "        print(0, end=\" \")\n",
    "        "
   ],
   "metadata": {
    "collapsed": false,
    "ExecuteTime": {
     "end_time": "2024-09-30T13:11:26.390863500Z",
     "start_time": "2024-09-30T13:11:22.899621600Z"
    }
   },
   "id": "71a661a04eda829d"
  },
  {
   "cell_type": "code",
   "execution_count": 25,
   "outputs": [
    {
     "name": "stdout",
     "output_type": "stream",
     "text": [
      "0 0 2 2 4\n"
     ]
    }
   ],
   "source": [
    "n = int(input())\n",
    "top_list = list(map(int, input().split()))\n",
    "\n",
    "stack = []  # tuple, 0: 높이 / 1: 인덱스\n",
    "result = []\n",
    "\n",
    "for i in range(n):\n",
    "    while stack and stack[-1][0] < top_list[i]:\n",
    "        stack.pop()\n",
    "    \n",
    "    if stack:\n",
    "        result.append(stack[-1][1] + 1) \n",
    "    else:\n",
    "        result.append(0) \n",
    "    \n",
    "    stack.append((top_list[i], i))\n",
    "\n",
    "print(\" \".join(map(str, result)))"
   ],
   "metadata": {
    "collapsed": false,
    "ExecuteTime": {
     "end_time": "2024-09-30T13:11:47.198544900Z",
     "start_time": "2024-09-30T13:11:45.129662900Z"
    }
   },
   "id": "d7a339f45d7fb216"
  }
 ],
 "metadata": {
  "kernelspec": {
   "display_name": "Python 3",
   "language": "python",
   "name": "python3"
  },
  "language_info": {
   "codemirror_mode": {
    "name": "ipython",
    "version": 2
   },
   "file_extension": ".py",
   "mimetype": "text/x-python",
   "name": "python",
   "nbconvert_exporter": "python",
   "pygments_lexer": "ipython2",
   "version": "2.7.6"
  }
 },
 "nbformat": 4,
 "nbformat_minor": 5
}
