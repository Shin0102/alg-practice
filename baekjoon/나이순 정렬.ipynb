{
 "cells": [
  {
   "cell_type": "markdown",
   "id": "black-preliminary",
   "metadata": {},
   "source": [
    "[나이순 정렬](https://www.acmicpc.net/problem/10814)"
   ]
  },
  {
   "cell_type": "code",
   "execution_count": 5,
   "id": "horizontal-pocket",
   "metadata": {},
   "outputs": [
    {
     "name": "stdout",
     "output_type": "stream",
     "text": [
      "3\n",
      "21 Junkyu\n",
      "21 Dohyun\n",
      "20 Sunyoung\n",
      "20 Sunyoung\n",
      "21 Junkyu\n",
      "21 Dohyun\n"
     ]
    }
   ],
   "source": [
    "num = int(input())\n",
    "\n",
    "member = []\n",
    "for _ in range(num):\n",
    "    age, name = input().split(\" \")\n",
    "    member.append((int(age), name))\n",
    "\n",
    "member.sort(key = lambda x : x[0])\n",
    "for age, name in member:\n",
    "    print(f\"{age} {name}\")"
   ]
  }
 ],
 "metadata": {
  "kernelspec": {
   "display_name": "Python 3",
   "language": "python",
   "name": "python3"
  },
  "language_info": {
   "codemirror_mode": {
    "name": "ipython",
    "version": 3
   },
   "file_extension": ".py",
   "mimetype": "text/x-python",
   "name": "python",
   "nbconvert_exporter": "python",
   "pygments_lexer": "ipython3",
   "version": "3.8.5"
  }
 },
 "nbformat": 4,
 "nbformat_minor": 5
}
