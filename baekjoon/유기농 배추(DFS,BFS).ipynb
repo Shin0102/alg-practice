{
 "cells": [
  {
   "cell_type": "markdown",
   "id": "a7db4114-f04f-4348-8fa3-9827cb7417f0",
   "metadata": {},
   "source": [
    "[유기농 배추](https://www.acmicpc.net/problem/1012)\n",
    "- Flood Fill 알고리즘\n",
    "    - 연결된 영역들을 찾는 알고리즘\n",
    "- 해당문제에선 DFS가 좀 더 빨랐음"
   ]
  },
  {
   "cell_type": "code",
   "execution_count": 20,
   "id": "13899d17-05e1-4e72-8d90-f52a1de32961",
   "metadata": {},
   "outputs": [
    {
     "name": "stdin",
     "output_type": "stream",
     "text": [
      " 1\n",
      " 5 3 6\n",
      " 0 2\n",
      " 1 2\n",
      " 2 2\n",
      " 3 2\n",
      " 4 2\n",
      " 4 0\n"
     ]
    },
    {
     "name": "stdout",
     "output_type": "stream",
     "text": [
      "2\n"
     ]
    }
   ],
   "source": [
    "import sys\n",
    "from collections import defaultdict, deque\n",
    "\n",
    "\n",
    "t = int(input())\n",
    "adjacents = [(-1, 0), (1, 0), (0, -1), (0, 1)]\n",
    "for _ in range(t):\n",
    "    m, n, k = map(int, input().split())\n",
    "    k_map = [[0] * m for _ in range(n)]\n",
    "    visited = [[False] * m for _ in range(n)]\n",
    "    for _ in range(k):\n",
    "        y, x = map(int, input().split())\n",
    "        # y, x = map(int, sys.stdin.readline().split())\n",
    "        k_map[x][y] = 1\n",
    "    \n",
    "    result = 0\n",
    "    to_visit = deque([])\n",
    "    for i in range(n):\n",
    "        for j in range(m):\n",
    "            if k_map[i][j] == 1 and not visited[i][j]:\n",
    "                result += 1\n",
    "                to_visit.append((i,j))\n",
    "                visited[i][j] = True\n",
    "                # bfs\n",
    "                while to_visit:\n",
    "                    vx, vy = to_visit.popleft()\n",
    "                    visited[vx][vy] = True\n",
    "                    for ax, ay in adjacents:\n",
    "                        nx, ny = vx + ax, vy + ay\n",
    "                        if 0 <= nx < n and 0 <= ny < m and k_map[nx][ny] and not visited[nx][ny]:\n",
    "                            visited[nx][ny] = True\n",
    "                            to_visit.append((nx, ny))\n",
    "                    \n",
    "\n",
    "    print(result)\n",
    "                "
   ]
  },
  {
   "cell_type": "code",
   "execution_count": null,
   "id": "72216f69-a24b-4b65-a009-4a8a96328adc",
   "metadata": {},
   "outputs": [],
   "source": []
  }
 ],
 "metadata": {
  "kernelspec": {
   "display_name": "Python 3 (ipykernel)",
   "language": "python",
   "name": "python3"
  },
  "language_info": {
   "codemirror_mode": {
    "name": "ipython",
    "version": 3
   },
   "file_extension": ".py",
   "mimetype": "text/x-python",
   "name": "python",
   "nbconvert_exporter": "python",
   "pygments_lexer": "ipython3",
   "version": "3.12.4"
  }
 },
 "nbformat": 4,
 "nbformat_minor": 5
}
