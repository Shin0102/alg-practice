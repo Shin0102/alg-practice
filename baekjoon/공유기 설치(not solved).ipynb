{
 "cells": [
  {
   "cell_type": "markdown",
   "id": "c464e18e-3c20-4b6e-bb7b-2495ec1acc83",
   "metadata": {},
   "source": [
    "[공유기 설치](https://www.acmicpc.net/problem/2110)\n",
    "\n",
    "- n이 20만, x 10억\n",
    "- 시간제한이 있으므로 이진탐색 고려, O(NlogX)\n",
    "- 최소, 최대값 gap의 중간값을 gap으로 설정하고 최적의 값을 찾아나간다."
   ]
  },
  {
   "cell_type": "code",
   "execution_count": 12,
   "id": "e072a8f3-6f40-46dc-b3db-b3a6ae2adaca",
   "metadata": {},
   "outputs": [
    {
     "name": "stdin",
     "output_type": "stream",
     "text": [
      " 5 3\n",
      " 1\n",
      " 2\n",
      " 8\n",
      " 4\n",
      " 9\n"
     ]
    },
    {
     "name": "stdout",
     "output_type": "stream",
     "text": [
      "3\n"
     ]
    }
   ],
   "source": [
    "import sys\n",
    "\n",
    "n, c = map(int, input().split())\n",
    "# home_list = [int(sys.stdin.readline()) for _ in range(n)]\n",
    "home_list = [int(input()) for _ in range(n)]\n",
    "home_list = sorted(home_list)\n",
    "\n",
    "min_gap = 1\n",
    "max_gap = home_list[-1] - home_list[0]\n",
    "result = 0\n",
    "\n",
    "while(min_gap <= max_gap):\n",
    "    mid_gap = (min_gap + max_gap) // 2\n",
    "    start = home_list[0]\n",
    "    count = 1\n",
    "    for i in range(1, len(home_list)):\n",
    "        if home_list[i] >= start + mid_gap:\n",
    "            start = home_list[i]\n",
    "            count += 1\n",
    "\n",
    "    if count >= c:\n",
    "        min_gap = mid_gap + 1\n",
    "        result = mid_gap\n",
    "    else:\n",
    "        max_gap = mid_gap - 1\n",
    "\n",
    "\n",
    "print(result)\n"
   ]
  }
 ],
 "metadata": {
  "kernelspec": {
   "display_name": "Python 3 (ipykernel)",
   "language": "python",
   "name": "python3"
  },
  "language_info": {
   "codemirror_mode": {
    "name": "ipython",
    "version": 3
   },
   "file_extension": ".py",
   "mimetype": "text/x-python",
   "name": "python",
   "nbconvert_exporter": "python",
   "pygments_lexer": "ipython3",
   "version": "3.12.3"
  }
 },
 "nbformat": 4,
 "nbformat_minor": 5
}
