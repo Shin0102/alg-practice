{
 "cells": [
  {
   "cell_type": "markdown",
   "source": [
    "[단어 공부](https://www.acmicpc.net/problem/1157)"
   ],
   "metadata": {
    "collapsed": false
   },
   "id": "18279cdc6e94abfd"
  },
  {
   "cell_type": "code",
   "execution_count": 19,
   "outputs": [
    {
     "name": "stdout",
     "output_type": "stream",
     "text": [
      "Z\n"
     ]
    }
   ],
   "source": [
    "import sys\n",
    "# input = sys.stdin.readline\n",
    "\n",
    "words = input()\n",
    "ascii_map = {i: 0 for i in range(ord('a'), ord('z')+1)}\n",
    "for w in words:\n",
    "    ascii_map[ord(w.lower())] += 1       \n",
    "\n",
    "is_same_max_cnt = False\n",
    "max_num = 0\n",
    "res = \"\"\n",
    "for k, v in ascii_map.items():\n",
    "    if v > max_num:\n",
    "        max_num = v\n",
    "        res =  chr(k).upper()\n",
    "        is_same_max_cnt = False\n",
    "    elif v == max_num:\n",
    "        is_same_max_cnt = True\n",
    "\n",
    "if is_same_max_cnt:\n",
    "    print(\"?\")\n",
    "else:\n",
    "    print(res)"
   ],
   "metadata": {
    "collapsed": false,
    "ExecuteTime": {
     "end_time": "2024-09-24T12:46:47.008282100Z",
     "start_time": "2024-09-24T12:46:45.896139600Z"
    }
   },
   "id": "87e33d14e8ae7d07"
  }
 ],
 "metadata": {
  "kernelspec": {
   "display_name": "Python 3",
   "language": "python",
   "name": "python3"
  },
  "language_info": {
   "codemirror_mode": {
    "name": "ipython",
    "version": 2
   },
   "file_extension": ".py",
   "mimetype": "text/x-python",
   "name": "python",
   "nbconvert_exporter": "python",
   "pygments_lexer": "ipython2",
   "version": "2.7.6"
  }
 },
 "nbformat": 4,
 "nbformat_minor": 5
}
