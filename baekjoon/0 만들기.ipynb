{
 "cells": [
  {
   "cell_type": "markdown",
   "id": "f66da548-c8fb-4b3e-a12f-3b3b31577471",
   "metadata": {},
   "source": [
    "[0 만들기](https://www.acmicpc.net/problem/7490)"
   ]
  },
  {
   "cell_type": "code",
   "execution_count": 74,
   "id": "ac7f5c65-e171-4d7d-8abd-955872eecb93",
   "metadata": {},
   "outputs": [
    {
     "name": "stdin",
     "output_type": "stream",
     "text": [
      " 2\n",
      " 3\n",
      " 7\n"
     ]
    },
    {
     "name": "stdout",
     "output_type": "stream",
     "text": [
      "1+2-3\n",
      "\n",
      "1+2-3+4-5-6+7\n",
      "1+2-3-4+5+6-7\n",
      "1-2 3+4+5+6+7\n",
      "1-2 3-4 5+6 7\n",
      "1-2+3+4-5+6-7\n",
      "1-2-3-4-5+6+7\n",
      "\n"
     ]
    }
   ],
   "source": [
    "import itertools\n",
    "\n",
    "def make_all_case(num: int) -> list:\n",
    "    \"\"\"조합가능한 모든 경우의 수\"\"\"\n",
    "    all_case = []\n",
    "    all_op_case = list(itertools.product([\"+\", \"-\", \" \"], repeat=num-1))\n",
    "    for case in all_op_case:\n",
    "        n = 1\n",
    "        result = []\n",
    "        for i in range(num * 2 - 1):\n",
    "            if i % 2 == 0:\n",
    "                result.append(str(n))\n",
    "                n += 1\n",
    "            else:\n",
    "                result.append(case[int(i/2)])\n",
    "        all_case.append(result)\n",
    "    return all_case\n",
    "\n",
    "def make_zero(num: int) -> list:\n",
    "    \"\"\"결과가 0이 되는 모든 수식 생성\"\"\"\n",
    "    all_case = make_all_case(num)\n",
    "    valid_expressions = []\n",
    "    for case in all_case:\n",
    "        case_string = \"\".join(case)\n",
    "        if eval(case_string.replace(\" \", \"\")) == 0:\n",
    "            valid_expressions.append(case_string)\n",
    "    return sorted(valid_expressions)\n",
    "\n",
    "def main():\n",
    "    n = int(input())\n",
    "    test_cases = [int(input()) for _ in range(n)]\n",
    "\n",
    "    results = []\n",
    "    for num in test_cases:\n",
    "        results.append(make_zero(num))\n",
    "\n",
    "    for result in results:\n",
    "        for expr in result:\n",
    "            print(expr)\n",
    "        print() \n",
    "        \n",
    "if __name__ == \"__main__\":\n",
    "    main()"
   ]
  },
  {
   "cell_type": "markdown",
   "id": "d54f38fa-82be-481f-bf3b-b412559c0418",
   "metadata": {},
   "source": [
    "- N의 개수가 제한적 -> 모든 경우의수를 구해도 괜찮음 (3^(n-1))\n",
    "- eval 함수에대해 알게됨"
   ]
  }
 ],
 "metadata": {
  "kernelspec": {
   "display_name": "Python 3 (ipykernel)",
   "language": "python",
   "name": "python3"
  },
  "language_info": {
   "codemirror_mode": {
    "name": "ipython",
    "version": 3
   },
   "file_extension": ".py",
   "mimetype": "text/x-python",
   "name": "python",
   "nbconvert_exporter": "python",
   "pygments_lexer": "ipython3",
   "version": "3.12.2"
  }
 },
 "nbformat": 4,
 "nbformat_minor": 5
}
