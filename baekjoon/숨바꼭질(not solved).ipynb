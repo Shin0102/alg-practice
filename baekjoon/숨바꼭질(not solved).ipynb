{
 "cells": [
  {
   "cell_type": "markdown",
   "id": "bccfe81a-defb-43d7-9d23-b8a9285750c0",
   "metadata": {},
   "source": [
    "[숨바꼭질](https://www.acmicpc.net/problem/1697)"
   ]
  },
  {
   "cell_type": "code",
   "execution_count": 16,
   "id": "7d923830-796d-474c-9fd4-7e75fcd76f91",
   "metadata": {},
   "outputs": [
    {
     "name": "stdin",
     "output_type": "stream",
     "text": [
      " 5 17\n"
     ]
    },
    {
     "name": "stdout",
     "output_type": "stream",
     "text": [
      "4\n"
     ]
    }
   ],
   "source": [
    "from collections import deque\n",
    "\n",
    "\n",
    "n, k = map(int, input().split())\n",
    "to_visit = deque([n])\n",
    "array = [0] * 100001\n",
    "while to_visit:\n",
    "    visit = to_visit.popleft()\n",
    "    if visit == k:\n",
    "        print(array[visit])\n",
    "        break\n",
    "    for next_visit in (visit - 1, visit + 1, visit * 2):\n",
    "        if 0 <= next_visit < 100001 and not array[next_visit]:\n",
    "            array[next_visit] = array[visit] + 1\n",
    "            to_visit.append(next_visit)"
   ]
  },
  {
   "cell_type": "code",
   "execution_count": null,
   "id": "8728306d-5e34-4452-9e81-90abb4006e21",
   "metadata": {},
   "outputs": [],
   "source": []
  }
 ],
 "metadata": {
  "kernelspec": {
   "display_name": "Python 3 (ipykernel)",
   "language": "python",
   "name": "python3"
  },
  "language_info": {
   "codemirror_mode": {
    "name": "ipython",
    "version": 3
   },
   "file_extension": ".py",
   "mimetype": "text/x-python",
   "name": "python",
   "nbconvert_exporter": "python",
   "pygments_lexer": "ipython3",
   "version": "3.12.4"
  }
 },
 "nbformat": 4,
 "nbformat_minor": 5
}
