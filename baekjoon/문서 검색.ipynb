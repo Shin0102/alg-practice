{
 "cells": [
  {
   "cell_type": "markdown",
   "id": "e95ecda2-c33e-4dd1-802d-7dfb48acb16f",
   "metadata": {},
   "source": [
    "[문서 검색](https://www.acmicpc.net/problem/1543)"
   ]
  },
  {
   "cell_type": "code",
   "execution_count": 24,
   "id": "f364494c-b916-49ce-be61-0a45f6021329",
   "metadata": {},
   "outputs": [
    {
     "name": "stdin",
     "output_type": "stream",
     "text": [
      " ababababa\n",
      " aba\n"
     ]
    },
    {
     "name": "stdout",
     "output_type": "stream",
     "text": [
      "2\n"
     ]
    }
   ],
   "source": [
    "docs = input()\n",
    "find = input()\n",
    "\n",
    "def find_docs(docs: str, find: str) -> int:\n",
    "    cnt = 0\n",
    "    index = 0\n",
    "    while len(find) <= len(docs) - index:\n",
    "        if docs[index: index + len(find)] == find:\n",
    "            cnt += 1\n",
    "            index += len(find)\n",
    "        else:\n",
    "            index += 1\n",
    "    return cnt\n",
    "\n",
    "\n",
    "print(find_docs(docs, find)"
   ]
  },
  {
   "cell_type": "markdown",
   "id": "68865aa2-b896-4a21-993f-db1ba086d6ad",
   "metadata": {},
   "source": [
    "- log(NM)"
   ]
  }
 ],
 "metadata": {
  "kernelspec": {
   "display_name": "Python 3 (ipykernel)",
   "language": "python",
   "name": "python3"
  },
  "language_info": {
   "codemirror_mode": {
    "name": "ipython",
    "version": 3
   },
   "file_extension": ".py",
   "mimetype": "text/x-python",
   "name": "python",
   "nbconvert_exporter": "python",
   "pygments_lexer": "ipython3",
   "version": "3.12.3"
  }
 },
 "nbformat": 4,
 "nbformat_minor": 5
}
