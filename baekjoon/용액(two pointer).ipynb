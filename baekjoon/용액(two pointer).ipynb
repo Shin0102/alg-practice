{
 "cells": [
  {
   "cell_type": "markdown",
   "source": [
    "[용액](https://www.acmicpc.net/problem/2467)"
   ],
   "metadata": {
    "collapsed": false
   },
   "id": "2f74ac5bda6ef08c"
  },
  {
   "cell_type": "code",
   "execution_count": 9,
   "outputs": [
    {
     "name": "stdout",
     "output_type": "stream",
     "text": [
      "-100 103\n"
     ]
    }
   ],
   "source": [
    "n = int(input())\n",
    "solution = list(map(int, input().split()))\n",
    "if n == 2:\n",
    "    print(f\"{solution[0]} {solution[1]}\")\n",
    "elif solution[0] > 0:\n",
    "    print(f\"{solution[0]} {solution[1]}\")\n",
    "elif solution[n-1] < 0:\n",
    "    print(f\"{solution[n-2]} {solution[n-1]}\")\n",
    "else:\n",
    "    min_val = 1_000_000_000\n",
    "    left, right = 0, n-1\n",
    "    res = None\n",
    "    while left < right:\n",
    "        sum_val = solution[left] + solution[right]\n",
    "        if abs(sum_val) < min_val:\n",
    "            min_val = abs(sum_val)\n",
    "            res = (left, right)\n",
    "        \n",
    "        if sum_val > 0: \n",
    "            right -= 1\n",
    "        elif sum_val < 0:\n",
    "            left += 1            \n",
    "        else:\n",
    "            res = (left, right)\n",
    "            break\n",
    "    print(f\"{solution[res[0]]} {solution[res[1]]}\")        \n",
    "        "
   ],
   "metadata": {
    "collapsed": false,
    "ExecuteTime": {
     "end_time": "2024-10-02T10:23:21.478074500Z",
     "start_time": "2024-10-02T10:23:19.531959100Z"
    }
   },
   "id": "756ef02d215f47c7"
  },
  {
   "cell_type": "code",
   "execution_count": null,
   "outputs": [],
   "source": [],
   "metadata": {
    "collapsed": false
   },
   "id": "fe1be631fa0357ae"
  }
 ],
 "metadata": {
  "kernelspec": {
   "display_name": "Python 3",
   "language": "python",
   "name": "python3"
  },
  "language_info": {
   "codemirror_mode": {
    "name": "ipython",
    "version": 2
   },
   "file_extension": ".py",
   "mimetype": "text/x-python",
   "name": "python",
   "nbconvert_exporter": "python",
   "pygments_lexer": "ipython2",
   "version": "2.7.6"
  }
 },
 "nbformat": 4,
 "nbformat_minor": 5
}
