{
 "cells": [
  {
   "cell_type": "markdown",
   "id": "fde17178-5617-4732-bc3d-e6246a78f2fb",
   "metadata": {},
   "source": [
    "[최소힙](https://www.acmicpc.net/problem/1927)"
   ]
  },
  {
   "cell_type": "code",
   "execution_count": 8,
   "id": "623e56e4-9100-4402-9555-df1b98a1bd05",
   "metadata": {},
   "outputs": [
    {
     "name": "stdin",
     "output_type": "stream",
     "text": [
      " 9\n",
      " 0\n"
     ]
    },
    {
     "name": "stdout",
     "output_type": "stream",
     "text": [
      "0\n"
     ]
    },
    {
     "name": "stdin",
     "output_type": "stream",
     "text": [
      " 12345678\n",
      " 1\n",
      " 2\n",
      " 0\n"
     ]
    },
    {
     "name": "stdout",
     "output_type": "stream",
     "text": [
      "1\n"
     ]
    },
    {
     "name": "stdin",
     "output_type": "stream",
     "text": [
      " 0\n"
     ]
    },
    {
     "name": "stdout",
     "output_type": "stream",
     "text": [
      "2\n"
     ]
    },
    {
     "name": "stdin",
     "output_type": "stream",
     "text": [
      " 0\n"
     ]
    },
    {
     "name": "stdout",
     "output_type": "stream",
     "text": [
      "12345678\n"
     ]
    },
    {
     "name": "stdin",
     "output_type": "stream",
     "text": [
      " 0\n"
     ]
    },
    {
     "name": "stdout",
     "output_type": "stream",
     "text": [
      "0\n"
     ]
    },
    {
     "name": "stdin",
     "output_type": "stream",
     "text": [
      " 32\n"
     ]
    }
   ],
   "source": [
    "# import sys\n",
    "import heapq\n",
    "\n",
    "n = int(input())\n",
    "min_heap = []\n",
    "\n",
    "for _ in range(n):\n",
    "    x = int(input())\n",
    "    # x = int(sys.stdin.readline())\n",
    "    if x == 0:\n",
    "        if min_heap:\n",
    "            print(heapq.heappop(min_heap))\n",
    "        else:\n",
    "            print(0)\n",
    "    else:\n",
    "        heapq.heappush(min_heap, x)"
   ]
  },
  {
   "cell_type": "code",
   "execution_count": null,
   "id": "815da607-77c7-4a98-825f-e5372b362ca8",
   "metadata": {},
   "outputs": [],
   "source": []
  }
 ],
 "metadata": {
  "kernelspec": {
   "display_name": "Python 3 (ipykernel)",
   "language": "python",
   "name": "python3"
  },
  "language_info": {
   "codemirror_mode": {
    "name": "ipython",
    "version": 3
   },
   "file_extension": ".py",
   "mimetype": "text/x-python",
   "name": "python",
   "nbconvert_exporter": "python",
   "pygments_lexer": "ipython3",
   "version": "3.12.3"
  }
 },
 "nbformat": 4,
 "nbformat_minor": 5
}
