{
 "cells": [
  {
   "cell_type": "markdown",
   "id": "0d43accb-169b-45a7-92ac-110dcee9a6e4",
   "metadata": {},
   "source": [
    "- https://www.acmicpc.net/problem/11726"
   ]
  },
  {
   "cell_type": "markdown",
   "id": "de451be7-e692-40f4-9a57-e9d33530051d",
   "metadata": {},
   "source": [
    "- 2x1 -> 1\n",
    "- 2x2 -> 2\n",
    "- 2x3 -> 3\n",
    "- 2x4 -> 5\n",
    "- 2x5 -> 8\n",
    "- 2x6 -> 13\n",
    "- 2x7 -> 21\n",
    "- 2x8 -> 34\n",
    "- 2x9 -> 55\n",
    "- 점화식을 찾자"
   ]
  },
  {
   "cell_type": "code",
   "execution_count": 22,
   "id": "05f69969-1db9-4505-b56c-8564de758d17",
   "metadata": {},
   "outputs": [],
   "source": [
    "def solution(n: int) -> int:\n",
    "    dp = [0] * 1001\n",
    "    dp[1] = 1\n",
    "    dp[2] = 2\n",
    "\n",
    "    for index in range(3,1001):\n",
    "        dp[index] = dp[index-1] % 10007 + dp[index-2] % 10007 \n",
    "\n",
    "    return dp"
   ]
  },
  {
   "cell_type": "code",
   "execution_count": 23,
   "id": "77843e94-e500-4412-b4d7-267f20484d16",
   "metadata": {},
   "outputs": [
    {
     "data": {
      "text/plain": [
       "1115"
      ]
     },
     "execution_count": 23,
     "metadata": {},
     "output_type": "execute_result"
    }
   ],
   "source": [
    "solution(1000)[1000] % 10007"
   ]
  }
 ],
 "metadata": {
  "kernelspec": {
   "display_name": "Python 3 (ipykernel)",
   "language": "python",
   "name": "python3"
  },
  "language_info": {
   "codemirror_mode": {
    "name": "ipython",
    "version": 3
   },
   "file_extension": ".py",
   "mimetype": "text/x-python",
   "name": "python",
   "nbconvert_exporter": "python",
   "pygments_lexer": "ipython3",
   "version": "3.11.5"
  }
 },
 "nbformat": 4,
 "nbformat_minor": 5
}
