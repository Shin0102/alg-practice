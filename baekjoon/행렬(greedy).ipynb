{
 "cells": [
  {
   "cell_type": "markdown",
   "source": [
    "[행렬](https://www.acmicpc.net/problem/1080)\n",
    "- 3x3 행렬을 뒤집는 행위는 다른위치의 값도 뒤집기때문에 순서에따라 결과가 달라질수잇다.\n",
    "- (0,0) 부터 순차적으로 뒤집기를 진행하면 다음 뒤집기부터는 다시 영향을 받지 않게된다.\n",
    "- 따라서, (0,0) 부터 greedy 방식으로 풀이하면 최적의 해를 찾을수있다."
   ],
   "metadata": {
    "collapsed": false
   },
   "id": "217bffa12a00b7fa"
  },
  {
   "cell_type": "code",
   "execution_count": 5,
   "outputs": [
    {
     "name": "stdout",
     "output_type": "stream",
     "text": [
      "2\n"
     ]
    }
   ],
   "source": [
    "N, M = map(int, input().split())\n",
    "A = [list(map(int, list(input()))) for _ in range(N)]\n",
    "B = [list(map(int, list(input()))) for _ in range(N)]\n",
    "\n",
    "def flip(x, y, A):\n",
    "    for i in range(3):\n",
    "        for j in range(3):\n",
    "            A[x+i][y+j] ^= 1\n",
    "\n",
    "res = 0\n",
    "for i in range(N-2):\n",
    "    for j in range(M-2):\n",
    "        if A[i][j] != B[i][j]:\n",
    "            flip(i, j, A)\n",
    "            res += 1\n",
    "            \n",
    "if A != B:\n",
    "    print(-1)\n",
    "else:\n",
    "    print(res)\n"
   ],
   "metadata": {
    "collapsed": false,
    "ExecuteTime": {
     "end_time": "2024-09-19T13:04:22.998766300Z",
     "start_time": "2024-09-19T13:04:11.481304700Z"
    }
   },
   "id": "851023b36094f3a7"
  }
 ],
 "metadata": {
  "kernelspec": {
   "display_name": "Python 3",
   "language": "python",
   "name": "python3"
  },
  "language_info": {
   "codemirror_mode": {
    "name": "ipython",
    "version": 2
   },
   "file_extension": ".py",
   "mimetype": "text/x-python",
   "name": "python",
   "nbconvert_exporter": "python",
   "pygments_lexer": "ipython2",
   "version": "2.7.6"
  }
 },
 "nbformat": 4,
 "nbformat_minor": 5
}
