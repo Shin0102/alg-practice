{
 "cells": [
  {
   "cell_type": "markdown",
   "id": "ac70c54b-a812-4e1a-9b7d-61b82a372d19",
   "metadata": {},
   "source": [
    "[암호만들기](https://www.acmicpc.net/problem/1759)\n",
    "- 조합을 DFS로 구현하거나 combinations 활용"
   ]
  },
  {
   "cell_type": "code",
   "execution_count": 25,
   "id": "0e734d44-4c4a-4d15-bf98-d2cc8302e331",
   "metadata": {
    "ExecuteTime": {
     "end_time": "2024-08-15T16:30:47.640063900Z",
     "start_time": "2024-08-15T16:30:45.255048600Z"
    }
   },
   "outputs": [
    {
     "name": "stdout",
     "output_type": "stream",
     "text": [
      "acis\n",
      "acit\n",
      "aciw\n",
      "acst\n",
      "acsw\n",
      "actw\n",
      "aist\n",
      "aisw\n",
      "aitw\n",
      "astw\n",
      "cist\n",
      "cisw\n",
      "citw\n",
      "istw\n"
     ]
    }
   ],
   "source": [
    "from itertools import combinations\n",
    "\n",
    "\n",
    "l, c = map(int, input().split())\n",
    "words = list(input().split())\n",
    "words.sort()\n",
    "m = [\"a\", \"e\", \"i\", \"o\", \"u\"]\n",
    "\n",
    "for password in combinations(words, l):\n",
    "    m_cnt = 0\n",
    "    for w in password:\n",
    "        if w in m:\n",
    "            m_cnt += 1\n",
    "            \n",
    "    if 1 <= m_cnt <= l - 2:\n",
    "        print(\"\".join(password))"
   ]
  },
  {
   "cell_type": "code",
   "execution_count": null,
   "outputs": [],
   "source": [],
   "metadata": {
    "collapsed": false
   },
   "id": "68ad4abd2e9257db"
  }
 ],
 "metadata": {
  "kernelspec": {
   "display_name": "Python 3 (ipykernel)",
   "language": "python",
   "name": "python3"
  },
  "language_info": {
   "codemirror_mode": {
    "name": "ipython",
    "version": 3
   },
   "file_extension": ".py",
   "mimetype": "text/x-python",
   "name": "python",
   "nbconvert_exporter": "python",
   "pygments_lexer": "ipython3",
   "version": "3.12.4"
  }
 },
 "nbformat": 4,
 "nbformat_minor": 5
}
