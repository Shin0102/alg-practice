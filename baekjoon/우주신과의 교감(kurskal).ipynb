{
 "cells": [
  {
   "cell_type": "markdown",
   "id": "d2918800-43ff-44f7-8779-1909f320b982",
   "metadata": {},
   "source": [
    "[우주신과의 교감](https://www.acmicpc.net/problem/1774)"
   ]
  },
  {
   "cell_type": "code",
   "execution_count": 9,
   "id": "ce7f7f67-ad86-452a-ad8d-88fbbef82097",
   "metadata": {},
   "outputs": [
    {
     "name": "stdin",
     "output_type": "stream",
     "text": [
      " 4 1\n",
      " 1 1\n",
      " 3 1\n",
      " 2 3\n",
      " 4 3\n",
      " 1 4\n"
     ]
    },
    {
     "name": "stdout",
     "output_type": "stream",
     "text": [
      "4.00\n"
     ]
    }
   ],
   "source": [
    "import sys\n",
    "import math\n",
    "# input = sys.stdin.readline\n",
    "\n",
    "\n",
    "def get_distance(p1, p2):\n",
    "    a = p1[0] - p2[0]\n",
    "    b = p1[1] - p2[1]\n",
    "    return math.sqrt((a*a) + (b*b))\n",
    "\n",
    "def find(node):\n",
    "    # path compression 기법\n",
    "    if parent[node] != node:\n",
    "        parent[node] = find(parent[node])\n",
    "    return parent[node]\n",
    "\n",
    "def union(node_v, node_u):\n",
    "    root1 = find(node_v)\n",
    "    root2 = find(node_u)\n",
    "    \n",
    "    # union-by-rank 기법\n",
    "    if rank[root1] > rank[root2]:\n",
    "        parent[root2] = root1\n",
    "    else:\n",
    "        parent[root1] = root2\n",
    "        if rank[root1] == rank[root2]:\n",
    "            rank[root2] += 1\n",
    "\n",
    "def make_set(node):\n",
    "    parent[node] = node\n",
    "    rank[node] = 0\n",
    "\n",
    "n, m = map(int, input().split())\n",
    "vertices = (n + 1) * [()]\n",
    "edges = []\n",
    "parent = dict()\n",
    "rank = dict()\n",
    "for i in range(1, n+1):\n",
    "    x, y = map(int, input().split())\n",
    "    vertices[i] = (x, y)\n",
    "    make_set(i)\n",
    "\n",
    "for i in range(1, n):\n",
    "    for j in range(i + 1, n + 1):\n",
    "        edges.append((get_distance(vertices[i], vertices[j]), i, j)) \n",
    "\n",
    "for _ in range(m):\n",
    "    a, b = map(int, input().split())\n",
    "    # 이미 연결되어있는 간선\n",
    "    union(a, b)\n",
    "\n",
    "edges.sort()\n",
    "result = 0\n",
    "for edge in edges:\n",
    "    distance, node_v, node_u = edge\n",
    "    if find(node_v) != find(node_u):\n",
    "        union(node_v, node_u)\n",
    "        result += distance\n",
    "\n",
    "print(\"%0.2f\" %result)\n",
    "\n"
   ]
  }
 ],
 "metadata": {
  "kernelspec": {
   "display_name": "Python 3 (ipykernel)",
   "language": "python",
   "name": "python3"
  },
  "language_info": {
   "codemirror_mode": {
    "name": "ipython",
    "version": 3
   },
   "file_extension": ".py",
   "mimetype": "text/x-python",
   "name": "python",
   "nbconvert_exporter": "python",
   "pygments_lexer": "ipython3",
   "version": "3.12.4"
  }
 },
 "nbformat": 4,
 "nbformat_minor": 5
}
