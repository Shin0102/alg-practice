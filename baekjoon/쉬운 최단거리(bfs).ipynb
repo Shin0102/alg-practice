{
 "cells": [
  {
   "cell_type": "markdown",
   "source": [
    "[쉬운 최단거리](https://www.acmicpc.net/problem/14940)"
   ],
   "metadata": {
    "collapsed": false
   },
   "id": "c18faa533a1fc29b"
  },
  {
   "cell_type": "code",
   "execution_count": 86,
   "outputs": [
    {
     "name": "stdout",
     "output_type": "stream",
     "text": [
      "0 1 2 3 4 5 6 7 8 9 10 11 12 13\n",
      "1 2 3 4 5 6 7 8 9 10 11 12 13 14\n",
      "2 3 4 5 6 7 8 9 10 11 12 13 14 15\n",
      "3 4 5 6 7 8 9 10 11 12 13 14 15 16\n",
      "4 5 6 7 8 9 10 11 12 13 14 15 16 17\n",
      "5 6 7 8 9 10 11 12 13 14 15 16 17 18\n",
      "6 7 8 9 10 11 12 13 14 15 16 17 18 19\n",
      "7 8 9 10 11 12 13 14 15 16 17 18 19 20\n",
      "8 9 10 11 12 13 14 15 16 17 18 19 20 21\n",
      "9 10 11 12 13 14 15 16 17 18 19 20 21 22\n",
      "10 11 12 13 14 15 16 17 18 19 20 21 22 23\n",
      "11 12 13 14 15 16 17 18 19 20 0 0 0 0\n",
      "12 13 14 15 16 17 18 19 20 21 0 29 28 27\n",
      "13 14 15 16 17 18 19 20 21 22 0 30 0 0\n",
      "14 15 16 17 18 19 20 21 22 23 0 31 32 33\n"
     ]
    }
   ],
   "source": [
    "import sys\n",
    "from collections import deque\n",
    "\n",
    "# input = sys.stdin.readline\n",
    "f = open(\"input\", \"r\")\n",
    "input = f.readline\n",
    "\n",
    "n, m = map(int, input().split())\n",
    "array = [[0] * (m + 1) for _ in range(n + 1)]\n",
    "res = [[-1] * (m + 1) for _ in range(n + 1)]\n",
    "start = None\n",
    "for i in range(1, n + 1):\n",
    "    col_input = list(map(int, input().split()))\n",
    "    for j in range(1, len(col_input) + 1):\n",
    "        array[i][j] = col_input[j-1]\n",
    "        if array[i][j] == 2:\n",
    "            start = (i, j)\n",
    "        if array[i][j] == 0:\n",
    "            res[i][j] = 0\n",
    "\n",
    "to_visit = deque()\n",
    "to_visit.append(start)\n",
    "res[start[0]][start[1]] = 0\n",
    "dirs = [(1, 0), (-1, 0), (0, 1), (0, -1)]\n",
    "while to_visit:\n",
    "    cur_x, cur_y = to_visit.popleft()\n",
    "    for x, y in dirs:\n",
    "        dx, dy = cur_x + x, cur_y + y\n",
    "        if 0 < dx < n + 1 and 0 < dy < m + 1 and array[dx][dy] and (not res[dx][dy] or res[dx][dy] == -1):\n",
    "            d_dist = res[cur_x][cur_y] + 1 \n",
    "            res[dx][dy] = d_dist\n",
    "            to_visit.append((dx, dy))\n",
    "                \n",
    "        \n",
    "res[start[0]][start[1]] = 0\n",
    "for i in range(1, n+1):\n",
    "    row = res[i]\n",
    "    print(\" \".join(map(str, row[1:-1])))"
   ],
   "metadata": {
    "collapsed": false,
    "ExecuteTime": {
     "end_time": "2024-09-30T16:19:14.319646300Z",
     "start_time": "2024-09-30T16:19:14.304247200Z"
    }
   },
   "id": "562aec28f8a9ffd"
  }
 ],
 "metadata": {
  "kernelspec": {
   "display_name": "Python 3",
   "language": "python",
   "name": "python3"
  },
  "language_info": {
   "codemirror_mode": {
    "name": "ipython",
    "version": 2
   },
   "file_extension": ".py",
   "mimetype": "text/x-python",
   "name": "python",
   "nbconvert_exporter": "python",
   "pygments_lexer": "ipython2",
   "version": "2.7.6"
  }
 },
 "nbformat": 4,
 "nbformat_minor": 5
}
