{
 "cells": [
  {
   "cell_type": "markdown",
   "id": "9c4fbe79-b924-4716-aa00-23747c9e94fc",
   "metadata": {},
   "source": [
    "[효율적인 해킹](https://www.acmicpc.net/problem/1325)\n",
    "- 시간초과 발생 -> pypy로 해결"
   ]
  },
  {
   "cell_type": "code",
   "execution_count": 5,
   "id": "c2ea4f6e-0215-4091-8fac-fc8908fde550",
   "metadata": {},
   "outputs": [
    {
     "name": "stdin",
     "output_type": "stream",
     "text": [
      " 5 4\n",
      " 3 1\n",
      " 3 2\n",
      " 4 3\n",
      " 5 3\n"
     ]
    },
    {
     "name": "stdout",
     "output_type": "stream",
     "text": [
      "1 2 "
     ]
    }
   ],
   "source": [
    "import sys\n",
    "from collections import defaultdict, deque\n",
    "\n",
    "\n",
    "n, m = map(int, input().split())\n",
    "graph = defaultdict(list)\n",
    "for _ in range(m):\n",
    "    a, b = map(int, input().split())\n",
    "    # a, b = map(int, sys.stdin.readline().split())\n",
    "    graph[b].append(a)\n",
    "\n",
    "def bfs(start):\n",
    "    to_visit = deque([start])\n",
    "    visited = [False] * (n+1)\n",
    "    visited[start] = True\n",
    "    cnt = 1\n",
    "    while to_visit:\n",
    "        visit = to_visit.popleft()\n",
    "        for adj in graph[visit]:\n",
    "            if not visited[adj]:\n",
    "                to_visit.append(adj)\n",
    "                visited[adj] = True\n",
    "                cnt += 1\n",
    "    return cnt\n",
    "\n",
    "result = []\n",
    "max_value = -1\n",
    "for i in range(1, n+1):\n",
    "    cnt = bfs(i)\n",
    "    if cnt > max_value:\n",
    "        result = [i]\n",
    "        max_value = cnt\n",
    "    elif cnt == max_value:\n",
    "        result.append(i)\n",
    "        max_value = cnt\n",
    "\n",
    "for res in result:\n",
    "    print(res, end=\" \")"
   ]
  },
  {
   "cell_type": "code",
   "execution_count": null,
   "id": "1e6ebebd-04ef-4618-b752-1d0b1386518c",
   "metadata": {},
   "outputs": [],
   "source": []
  }
 ],
 "metadata": {
  "kernelspec": {
   "display_name": "Python 3 (ipykernel)",
   "language": "python",
   "name": "python3"
  },
  "language_info": {
   "codemirror_mode": {
    "name": "ipython",
    "version": 3
   },
   "file_extension": ".py",
   "mimetype": "text/x-python",
   "name": "python",
   "nbconvert_exporter": "python",
   "pygments_lexer": "ipython3",
   "version": "3.12.4"
  }
 },
 "nbformat": 4,
 "nbformat_minor": 5
}
