{
 "cells": [
  {
   "cell_type": "markdown",
   "id": "3723be6e-2b99-4562-989a-f4ffec7b3fcf",
   "metadata": {},
   "source": [
    "[가장높은탑쌓기](https://www.acmicpc.net/problem/2655)"
   ]
  },
  {
   "cell_type": "code",
   "execution_count": 17,
   "id": "d8e3e78d-3729-485d-8e12-2c9a2cd87a1f",
   "metadata": {},
   "outputs": [
    {
     "name": "stdin",
     "output_type": "stream",
     "text": [
      " 5\n",
      " 25 3 4\n",
      " 4 4 6\n",
      " 9 2 3\n",
      " 16 2 5\n",
      " 1 5 2\n"
     ]
    },
    {
     "name": "stdout",
     "output_type": "stream",
     "text": [
      "3\n",
      "5\n",
      "3\n",
      "1\n"
     ]
    }
   ],
   "source": [
    "n = int(input())\n",
    "tower_list = [(0,0,0,0)]\n",
    "for idx in range(1, n+1):\n",
    "    area, h, w = map(int, input().split())\n",
    "    tower_list.append((idx, area, h, w))\n",
    "\n",
    "tower_list.sort(key=lambda x: x[3])\n",
    "dp = [0] * (n+1)\n",
    "for i in range(1, n + 1):\n",
    "    for j in range(0, i):\n",
    "        # 이전 탑이 더 너비가 넓으면 쌓을수 있다\n",
    "        if tower_list[i][1] > tower_list[j][1]:\n",
    "            dp[i] = max(dp[i], dp[j] + tower_list[i][2])\n",
    "\n",
    "# 타워 index 구하기\n",
    "max_h = max(dp)\n",
    "index = n\n",
    "result = []\n",
    "while index != 0:\n",
    "    if max_h == dp[index]:\n",
    "        result.append(tower_list[index][0])\n",
    "        max_h -= tower_list[index][2]\n",
    "    index -= 1\n",
    "\n",
    "result.reverse()\n",
    "print(len(result))\n",
    "for res in result:\n",
    "    print(res)"
   ]
  },
  {
   "cell_type": "code",
   "execution_count": null,
   "id": "062f8d83-288c-45d8-a856-7e22c69378ae",
   "metadata": {},
   "outputs": [],
   "source": []
  }
 ],
 "metadata": {
  "kernelspec": {
   "display_name": "Python 3 (ipykernel)",
   "language": "python",
   "name": "python3"
  },
  "language_info": {
   "codemirror_mode": {
    "name": "ipython",
    "version": 3
   },
   "file_extension": ".py",
   "mimetype": "text/x-python",
   "name": "python",
   "nbconvert_exporter": "python",
   "pygments_lexer": "ipython3",
   "version": "3.12.4"
  }
 },
 "nbformat": 4,
 "nbformat_minor": 5
}
