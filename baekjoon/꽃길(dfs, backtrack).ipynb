{
 "cells": [
  {
   "cell_type": "markdown",
   "source": [
    "[꽃길](https://www.acmicpc.net/problem/14620)"
   ],
   "metadata": {
    "collapsed": false
   },
   "id": "beb0b75811886eb1"
  },
  {
   "cell_type": "code",
   "execution_count": 64,
   "outputs": [
    {
     "name": "stdout",
     "output_type": "stream",
     "text": [
      "12\n"
     ]
    }
   ],
   "source": [
    "n = int(input())\n",
    "lands = []\n",
    "status = [[0] * n for _ in range(n)]\n",
    "# for _ in range(n):\n",
    "#     lands.append(list(map(int, input().split())))\n",
    "lands = [\n",
    "    [1, 0, 2, 3, 3, 4], \n",
    "    [1, 1, 1, 1, 1, 1], \n",
    "    [0, 0, 1, 1, 1, 1], \n",
    "    [3, 9, 9, 0, 1, 99], \n",
    "    [9, 11, 3, 1, 0, 3], \n",
    "    [12, 3, 0, 0, 0, 1]\n",
    "]\n",
    "dx_udlr = [0, 0, -1, 1]\n",
    "dy_udlr = [1, -1, 0, 0]\n",
    "\n",
    "def is_available(x, y):\n",
    "    if status[x][y] == 1:\n",
    "        return False\n",
    "    try:\n",
    "        for l in range(4):\n",
    "            dx, dy = dx_udlr[l], dy_udlr[l]\n",
    "            if status[x+dx][y+dy] == 1:\n",
    "                return False\n",
    "    except IndexError:\n",
    "        return False\n",
    "    \n",
    "    return True\n",
    " \n",
    "def check_land(x, y, value):\n",
    "    for l in range(4):\n",
    "        dx, dy = dx_udlr[l], dy_udlr[l]\n",
    "        status[x+dx][y+dy] = value\n",
    "        \n",
    "def get_cost(x, y):\n",
    "    cost = lands[x][y]\n",
    "    for l in range(4):\n",
    "        dx, dy = dx_udlr[l], dy_udlr[l]\n",
    "        cost += lands[x+dx][y+dy]\n",
    "    return cost\n",
    "     \n",
    "min_val = 40_000\n",
    "def dfs(count, current_cost, start_i):\n",
    "    global min_val\n",
    "    if current_cost >= min_val:\n",
    "        return\n",
    "    \n",
    "    if count == 3:\n",
    "        min_val = min(min_val, current_cost)\n",
    "        return\n",
    "    \n",
    "    for i in range(start_i, n - 1):\n",
    "        for j in range(1, n - 1):\n",
    "            if is_available(i, j):\n",
    "                cost = get_cost(i, j)\n",
    "                check_land(i, j, 1)\n",
    "                dfs(count + 1, current_cost + cost, i)\n",
    "                check_land(i, j, 0)\n",
    "\n",
    "dfs(0, 0, 1)\n",
    "print(min_val)        "
   ],
   "metadata": {
    "collapsed": false,
    "ExecuteTime": {
     "end_time": "2024-08-31T20:59:46.364653900Z",
     "start_time": "2024-08-31T20:59:44.519221200Z"
    }
   },
   "id": "acd1662b3f01ce0c"
  }
 ],
 "metadata": {
  "kernelspec": {
   "display_name": "Python 3",
   "language": "python",
   "name": "python3"
  },
  "language_info": {
   "codemirror_mode": {
    "name": "ipython",
    "version": 2
   },
   "file_extension": ".py",
   "mimetype": "text/x-python",
   "name": "python",
   "nbconvert_exporter": "python",
   "pygments_lexer": "ipython2",
   "version": "2.7.6"
  }
 },
 "nbformat": 4,
 "nbformat_minor": 5
}
