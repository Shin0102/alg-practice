{
 "cells": [
  {
   "cell_type": "markdown",
   "id": "4f1d3f66-c036-4fee-ac92-cc5f25025634",
   "metadata": {},
   "source": [
    "[회의실 배정](https://www.acmicpc.net/problem/1931)"
   ]
  },
  {
   "cell_type": "code",
   "execution_count": 39,
   "id": "51a642b0-85d4-49a9-b433-5530974c4a35",
   "metadata": {},
   "outputs": [
    {
     "name": "stdout",
     "output_type": "stream",
     "text": [
      "1 4\n",
      "3 5\n",
      "0 6\n",
      "5 7\n",
      "3 8\n",
      "5 9\n",
      "6 10\n",
      "8 11\n",
      "8 12\n",
      "2 13\n",
      "12 14\n",
      "4\n"
     ]
    }
   ],
   "source": [
    "num = int(input())\n",
    "\n",
    "meeting = []\n",
    "for _ in range(num):\n",
    "    start, end = map(int, input().split())\n",
    "    meeting.append((start, end))\n",
    "\n",
    "# test\n",
    "# meeting = [(1,4), (3,5), (0,6), (5,7), (3,8), (5,9), (6,10), (8,11), (8,12), (2,13), (12,14)]\n",
    "\n",
    "# 회의끝나는 순, 시작하는 순 정렬\n",
    "meeting.sort(key=lambda meeting: (meeting[1], meeting[0]))\n",
    "result = 0\n",
    "prev_e = 0\n",
    "for start, end in meeting:\n",
    "    if start >= prev_e:\n",
    "        result += 1\n",
    "        prev_e = end\n",
    "\n",
    "print(result)"
   ]
  }
 ],
 "metadata": {
  "kernelspec": {
   "display_name": "Python 3 (ipykernel)",
   "language": "python",
   "name": "python3"
  },
  "language_info": {
   "codemirror_mode": {
    "name": "ipython",
    "version": 3
   },
   "file_extension": ".py",
   "mimetype": "text/x-python",
   "name": "python",
   "nbconvert_exporter": "python",
   "pygments_lexer": "ipython3",
   "version": "3.11.7"
  }
 },
 "nbformat": 4,
 "nbformat_minor": 5
}
