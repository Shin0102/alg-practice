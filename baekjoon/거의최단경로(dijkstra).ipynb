{
 "cells": [
  {
   "cell_type": "markdown",
   "id": "9a4d7e78-9ab8-4b32-a193-25c030bd26d6",
   "metadata": {},
   "source": [
    "[거의최단경로](https://www.acmicpc.net/problem/5719)\n",
    "- 다익스트라를 두번 적용해야한다.\n",
    "- 다익스트라 -> 최단경로(bfs) 제외 -> 다익스트라\n",
    "- bfs로 최단경로 갱신시, 노드가 아닌 경로를 갱신해야함"
   ]
  },
  {
   "cell_type": "code",
   "execution_count": 20,
   "id": "1376223c-b2c2-4286-b296-37c1ead69061",
   "metadata": {},
   "outputs": [
    {
     "name": "stdin",
     "output_type": "stream",
     "text": [
      " 6 8\n",
      " 0 1\n",
      " 0 1 1\n",
      " 0 2 2\n",
      " 0 3 3\n",
      " 2 5 3\n",
      " 3 4 2\n",
      " 4 1 1\n",
      " 5 1 1\n",
      " 3 0 1\n"
     ]
    },
    {
     "name": "stdout",
     "output_type": "stream",
     "text": [
      "6\n"
     ]
    },
    {
     "name": "stdin",
     "output_type": "stream",
     "text": [
      " 0 0\n"
     ]
    }
   ],
   "source": [
    "import sys\n",
    "import heapq\n",
    "from collections import defaultdict, deque\n",
    "# input = sys.stdin.readline\n",
    "\n",
    "def dijkstra():\n",
    "    distances[start] = 0\n",
    "    queue = []\n",
    "    heapq.heappush(queue, [distances[start], start])\n",
    "    while queue:\n",
    "        cur_distance, cur_node = heapq.heappop(queue)\n",
    "        if distances[cur_node] < cur_distance:\n",
    "            continue\n",
    "\n",
    "        for adjacent, weight in map_info[cur_node].items():\n",
    "            distance = cur_distance + weight\n",
    "            if distance < distances[adjacent] and (cur_node, adjacent) not in exclude_edges:\n",
    "                distances[adjacent] = distance\n",
    "                heapq.heappush(queue, [distance, adjacent])\n",
    "\n",
    "\n",
    "def bfs():\n",
    "    queue = deque()\n",
    "    queue.append(end)\n",
    "    visited = []\n",
    "    while queue:\n",
    "        visit = queue.popleft()\n",
    "        if start == visit:\n",
    "            continue\n",
    "        if visit not in visited:\n",
    "            visited.append(visit)\n",
    "            for prev, weight in reverse_map_info[visit].items():\n",
    "                if distances[visit] == weight + distances[prev]:\n",
    "                    exclude_edges.add((prev, visit))\n",
    "                    queue.append(prev)\n",
    "\n",
    "\n",
    "while True:\n",
    "    n, m = map(int, input().split())\n",
    "    if n == 0 and m == 0:\n",
    "        break\n",
    "    start, end = map(int, input().split())\n",
    "\n",
    "    map_info = defaultdict(dict)\n",
    "    reverse_map_info = defaultdict(dict)\n",
    "    exclude_edges = set()\n",
    "    for _ in range(m):\n",
    "        u, v, p = map(int, input().split())\n",
    "        map_info[u][v] = p\n",
    "        reverse_map_info[v][u] = p\n",
    "        \n",
    "    distances = {node: float('inf') for node in range(0,n)}\n",
    "    dijkstra()\n",
    "    bfs()\n",
    "    distances = {node: float('inf') for node in range(0,n)}\n",
    "    dijkstra()\n",
    "\n",
    "    if distances[end] != float('inf'):\n",
    "        print(distances[end])\n",
    "    else:\n",
    "        print(-1)"
   ]
  },
  {
   "cell_type": "code",
   "execution_count": null,
   "id": "7e06cab1-62b7-4b53-b881-85399dbccc77",
   "metadata": {},
   "outputs": [],
   "source": []
  }
 ],
 "metadata": {
  "kernelspec": {
   "display_name": "Python 3 (ipykernel)",
   "language": "python",
   "name": "python3"
  },
  "language_info": {
   "codemirror_mode": {
    "name": "ipython",
    "version": 3
   },
   "file_extension": ".py",
   "mimetype": "text/x-python",
   "name": "python",
   "nbconvert_exporter": "python",
   "pygments_lexer": "ipython3",
   "version": "3.12.4"
  }
 },
 "nbformat": 4,
 "nbformat_minor": 5
}
