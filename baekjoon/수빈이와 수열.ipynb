{
 "cells": [
  {
   "cell_type": "markdown",
   "source": [
    "[수빈이와 수열](https://www.acmicpc.net/problem/10539)"
   ],
   "metadata": {
    "collapsed": false
   },
   "id": "7150b7674cfa480c"
  },
  {
   "cell_type": "code",
   "execution_count": 11,
   "outputs": [
    {
     "name": "stdout",
     "output_type": "stream",
     "text": [
      "1 3 2 6 8 "
     ]
    }
   ],
   "source": [
    "n = int(input())\n",
    "seq = list(map(int, input().split()))\n",
    "\n",
    "# b = a + (a+1) + (a+2) ... / n\n",
    "# a = b * n - (a+1) - (a+2) ...\n",
    "\n",
    "a_sum = [0] * (n + 1)\n",
    "for i in range(n):\n",
    "    n = i + 1\n",
    "    a = seq[i] * n - a_sum[n-1]\n",
    "    print(a, end=\" \")\n",
    "    a_sum[n] = a_sum[n-1] + a"
   ],
   "metadata": {
    "collapsed": false,
    "ExecuteTime": {
     "end_time": "2024-08-17T17:15:19.901821200Z",
     "start_time": "2024-08-17T17:15:16.424958500Z"
    }
   },
   "id": "28632c63a720bdb7"
  }
 ],
 "metadata": {
  "kernelspec": {
   "display_name": "Python 3",
   "language": "python",
   "name": "python3"
  },
  "language_info": {
   "codemirror_mode": {
    "name": "ipython",
    "version": 2
   },
   "file_extension": ".py",
   "mimetype": "text/x-python",
   "name": "python",
   "nbconvert_exporter": "python",
   "pygments_lexer": "ipython2",
   "version": "2.7.6"
  }
 },
 "nbformat": 4,
 "nbformat_minor": 5
}
