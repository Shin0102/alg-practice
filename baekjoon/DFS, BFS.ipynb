{
 "cells": [
  {
   "cell_type": "markdown",
   "id": "e1239b67-b0a1-4f9a-95e5-43474f54f102",
   "metadata": {},
   "source": [
    "[DFS, BFS](https://www.acmicpc.net/problem/1260)"
   ]
  },
  {
   "cell_type": "code",
   "execution_count": 6,
   "id": "1f8e0cc5-472d-44a3-8204-ae0a630926b8",
   "metadata": {},
   "outputs": [
    {
     "name": "stdin",
     "output_type": "stream",
     "text": [
      " 5 5 3\n",
      " 5 4\n",
      " 5 2\n",
      " 1 2\n",
      " 3 4\n",
      " 3 1\n"
     ]
    },
    {
     "name": "stdout",
     "output_type": "stream",
     "text": [
      "3 1 2 5 4 \n",
      "3 1 4 2 5 "
     ]
    }
   ],
   "source": [
    "import bisect\n",
    "from collections import deque, defaultdict\n",
    "\n",
    "\n",
    "def dfs(graph, start):\n",
    "    to_visit = deque([start])\n",
    "    visited = []\n",
    "    while to_visit:\n",
    "        visit = to_visit.pop()\n",
    "        if visit not in visited:\n",
    "            to_visit.extend(reversed(graph[visit]))\n",
    "            visited.append(visit)\n",
    "            print(visit, end=' ')\n",
    "\n",
    "def bfs(graph, start):\n",
    "    to_visit = deque([start])\n",
    "    visited = []\n",
    "    while to_visit:\n",
    "        visit = to_visit.pop()\n",
    "        if visit not in visited:\n",
    "            to_visit.extendleft(graph[visit])\n",
    "            visited.append(visit)\n",
    "            print(visit, end=' ')\n",
    "        \n",
    "        \n",
    "n, m, v = map(int, input().split())\n",
    "graph = defaultdict(list)\n",
    "for i in range(m):\n",
    "    e1, e2 = map(int, input().split())\n",
    "    # graph[e1].append(e2)\n",
    "    # graph[e2].append(e1)\n",
    "    bisect.insort(graph[e1], e2)\n",
    "    bisect.insort(graph[e2], e1)\n",
    "\n",
    "dfs(graph, v)\n",
    "print(\"\")\n",
    "bfs(graph, v)"
   ]
  },
  {
   "cell_type": "code",
   "execution_count": null,
   "id": "a83add90-9043-49ae-915a-04d71cba14ea",
   "metadata": {},
   "outputs": [],
   "source": []
  }
 ],
 "metadata": {
  "kernelspec": {
   "display_name": "Python 3 (ipykernel)",
   "language": "python",
   "name": "python3"
  },
  "language_info": {
   "codemirror_mode": {
    "name": "ipython",
    "version": 3
   },
   "file_extension": ".py",
   "mimetype": "text/x-python",
   "name": "python",
   "nbconvert_exporter": "python",
   "pygments_lexer": "ipython3",
   "version": "3.12.4"
  }
 },
 "nbformat": 4,
 "nbformat_minor": 5
}
