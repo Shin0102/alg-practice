{
 "cells": [
  {
   "cell_type": "markdown",
   "source": [
    "[본대 산책](https://www.acmicpc.net/problem/12849)\n",
    "- dp: d분에 어떤지점에 도착할수있는 상태를 update"
   ],
   "metadata": {
    "collapsed": false
   },
   "id": "58264af6ab98050a"
  },
  {
   "cell_type": "code",
   "execution_count": 6,
   "outputs": [
    {
     "name": "stdout",
     "output_type": "stream",
     "text": [
      "9857\n"
     ]
    }
   ],
   "source": [
    "d = int(input())\n",
    "dp = [1, 0, 0, 0, 0, 0, 0, 0]\n",
    "\n",
    "def nxt(state):\n",
    "    tmp = [0 for _ in range(8)]\n",
    "    tmp[0] = state[1] + state[2]\n",
    "    tmp[1] = state[0] + state[2] + state[3]\n",
    "    tmp[2] = state[0] + state[1] + state[3] + state[4]\n",
    "    tmp[3] = state[1] + state[2] + state[4] + state[5]\n",
    "    tmp[4] = state[2] + state[3] + state[5] + state[7]\n",
    "    tmp[5] = state[3] + state[4] + state[6]\n",
    "    tmp[6] = state[5] + state[7]\n",
    "    tmp[7] = state[4] + state[6]\n",
    "    for i in range(8):\n",
    "        tmp[i] %= 1_000_000_007\n",
    "    return tmp\n",
    "\n",
    "for i in range(d):\n",
    "    dp = nxt(dp)\n",
    "    \n",
    "print(dp[0])"
   ],
   "metadata": {
    "collapsed": false,
    "ExecuteTime": {
     "end_time": "2024-09-16T13:33:52.009704Z",
     "start_time": "2024-09-16T13:33:51.081520Z"
    }
   },
   "id": "86529bb862652726"
  }
 ],
 "metadata": {
  "kernelspec": {
   "display_name": "Python 3",
   "language": "python",
   "name": "python3"
  },
  "language_info": {
   "codemirror_mode": {
    "name": "ipython",
    "version": 2
   },
   "file_extension": ".py",
   "mimetype": "text/x-python",
   "name": "python",
   "nbconvert_exporter": "python",
   "pygments_lexer": "ipython2",
   "version": "2.7.6"
  }
 },
 "nbformat": 4,
 "nbformat_minor": 5
}
