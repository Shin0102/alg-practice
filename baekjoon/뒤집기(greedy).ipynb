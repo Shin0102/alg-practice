{
 "cells": [
  {
   "cell_type": "markdown",
   "id": "b6c17b83-ef30-45c6-8a00-f8e6b9204080",
   "metadata": {},
   "source": [
    "[뒤집기](https://www.acmicpc.net/problem/1439)\n",
    "- 0, 1이 바뀌는 순간 카운트해서, 작은수출력"
   ]
  },
  {
   "cell_type": "code",
   "execution_count": 25,
   "id": "2f218d1a-bd0d-42e1-9bd5-c04ea588d0fd",
   "metadata": {},
   "outputs": [
    {
     "name": "stdin",
     "output_type": "stream",
     "text": [
      " 11001100110011000001\n"
     ]
    },
    {
     "name": "stdout",
     "output_type": "stream",
     "text": [
      "4\n"
     ]
    }
   ],
   "source": [
    "s = input().strip()\n",
    "\n",
    "# 초기 값 설정\n",
    "prev = s[0]\n",
    "zero_cnt = 0\n",
    "one_cnt = 0\n",
    "\n",
    "# 처음 값을 기준으로 그룹 수 초기화\n",
    "if prev == '0':\n",
    "    zero_cnt += 1\n",
    "else:\n",
    "    one_cnt += 1\n",
    "\n",
    "# 문자열 순회\n",
    "for cur_s in s[1:]:\n",
    "    if cur_s != prev:\n",
    "        if cur_s == '0':\n",
    "            zero_cnt += 1\n",
    "        else:\n",
    "            one_cnt += 1\n",
    "    prev = cur_s\n",
    "\n",
    "# 최소 횟수 출력\n",
    "print(min(zero_cnt, one_cnt))\n"
   ]
  },
  {
   "cell_type": "code",
   "execution_count": null,
   "id": "6f484ee0-eb96-4a1a-a4a0-980b4e0fb09e",
   "metadata": {},
   "outputs": [],
   "source": []
  }
 ],
 "metadata": {
  "kernelspec": {
   "display_name": "Python 3 (ipykernel)",
   "language": "python",
   "name": "python3"
  },
  "language_info": {
   "codemirror_mode": {
    "name": "ipython",
    "version": 3
   },
   "file_extension": ".py",
   "mimetype": "text/x-python",
   "name": "python",
   "nbconvert_exporter": "python",
   "pygments_lexer": "ipython3",
   "version": "3.12.4"
  }
 },
 "nbformat": 4,
 "nbformat_minor": 5
}
