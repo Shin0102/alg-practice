{
 "cells": [
  {
   "cell_type": "markdown",
   "id": "bdcb6bfe-1809-402e-88fe-ef642f933615",
   "metadata": {},
   "source": [
    "[문제집](https://www.acmicpc.net/problem/1766)\n",
    "- 위상정렬(Toplogy Sort)\n",
    "   - 순서가 정해져 있는 작업을 차례로 수행할때, 순서를 결정\n",
    "   - 사이클이 없어야한다\n",
    "   - O(V + E)"
   ]
  },
  {
   "cell_type": "code",
   "execution_count": 33,
   "id": "9357b600-6085-4c95-9c43-209047b99df2",
   "metadata": {},
   "outputs": [
    {
     "name": "stdin",
     "output_type": "stream",
     "text": [
      " 4 2\n",
      " 4 2\n",
      " 3 1\n"
     ]
    },
    {
     "name": "stdout",
     "output_type": "stream",
     "text": [
      "3 1 4 2\n"
     ]
    }
   ],
   "source": [
    "import sys\n",
    "import heapq\n",
    "from collections import defaultdict, deque\n",
    "\n",
    "\n",
    "n, m = map(int, input().split())\n",
    "\n",
    "graph = defaultdict(list)\n",
    "in_degree = [0] * (n + 1)\n",
    "\n",
    "for _ in range(m):\n",
    "    a, b = map(int, input().split())\n",
    "    # a, b = map(int, sys.stdin.readline().split())\n",
    "    graph[a].append(b)\n",
    "    in_degree[b] += 1\n",
    "\n",
    "def topological_sort():\n",
    "    min_heap = []\n",
    "    result = []\n",
    "    \n",
    "    # 진입 차수가 0인 노드들을 힙에 추가\n",
    "    for i in range(1, n + 1):\n",
    "        if in_degree[i] == 0:\n",
    "            heapq.heappush(min_heap, i)\n",
    "    \n",
    "    while min_heap:\n",
    "        current = heapq.heappop(min_heap)\n",
    "        result.append(current)\n",
    "        \n",
    "        for neighbor in graph[current]:\n",
    "            in_degree[neighbor] -= 1\n",
    "            if in_degree[neighbor] == 0:\n",
    "                heapq.heappush(min_heap, neighbor)\n",
    "    \n",
    "    return result\n",
    "\n",
    "result = topological_sort()\n",
    "print(\" \".join(map(str, result)))"
   ]
  },
  {
   "cell_type": "code",
   "execution_count": null,
   "id": "912e2969-4213-4e44-8708-b6f4143af36f",
   "metadata": {},
   "outputs": [],
   "source": []
  }
 ],
 "metadata": {
  "kernelspec": {
   "display_name": "Python 3 (ipykernel)",
   "language": "python",
   "name": "python3"
  },
  "language_info": {
   "codemirror_mode": {
    "name": "ipython",
    "version": 3
   },
   "file_extension": ".py",
   "mimetype": "text/x-python",
   "name": "python",
   "nbconvert_exporter": "python",
   "pygments_lexer": "ipython3",
   "version": "3.12.3"
  }
 },
 "nbformat": 4,
 "nbformat_minor": 5
}
