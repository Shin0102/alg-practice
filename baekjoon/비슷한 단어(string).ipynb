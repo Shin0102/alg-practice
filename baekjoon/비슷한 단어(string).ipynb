{
 "cells": [
  {
   "cell_type": "markdown",
   "source": [
    "[비슷한 단어](https://www.acmicpc.net/problem/2607)\n",
    "- Counter 함수 활용"
   ],
   "metadata": {
    "collapsed": false
   },
   "id": "bdc73a4fe556044f"
  },
  {
   "cell_type": "code",
   "execution_count": 27,
   "outputs": [
    {
     "name": "stdout",
     "output_type": "stream",
     "text": [
      "Counter({'O': 2, 'G': 1, 'D': 1})\n",
      "{'D', 'G', 'O'}\n"
     ]
    }
   ],
   "source": [
    "from collections import Counter\n",
    "\n",
    "\n",
    "word = \"GOOD\"\n",
    "counter = Counter(word)\n",
    "print(counter)\n",
    "# 출력: Counter({'G': 1, 'O': 1, 'D': 1})\n",
    "print(set(counter))"
   ],
   "metadata": {
    "collapsed": false,
    "ExecuteTime": {
     "end_time": "2024-10-03T20:12:38.717132500Z",
     "start_time": "2024-10-03T20:12:38.710075200Z"
    }
   },
   "id": "8522fa82289f43d8"
  },
  {
   "cell_type": "code",
   "execution_count": 28,
   "outputs": [
    {
     "name": "stdout",
     "output_type": "stream",
     "text": [
      "2\n"
     ]
    }
   ],
   "source": [
    "from collections import Counter\n",
    "\n",
    "n = int(input())  \n",
    "word1 = input() \n",
    "word1_count = Counter(word1)  \n",
    "word1_len = len(word1)\n",
    "res = 0\n",
    "\n",
    "for _ in range(n - 1):\n",
    "    word2 = input()  \n",
    "    word2_count = Counter(word2)  \n",
    "    word2_len = len(word2)\n",
    "\n",
    "    if abs(word1_len - word2_len) > 1:\n",
    "        continue\n",
    "\n",
    "    diff_cnt = 0\n",
    "    for char in (set(word1_count) | set(word2_count)):  \n",
    "        diff_cnt += abs(word1_count[char] - word2_count[char])\n",
    "\n",
    "    if diff_cnt <= 2:\n",
    "        res += 1\n",
    "\n",
    "print(res)"
   ],
   "metadata": {
    "collapsed": false,
    "ExecuteTime": {
     "end_time": "2024-10-03T20:12:56.740368600Z",
     "start_time": "2024-10-03T20:12:51.540227900Z"
    }
   },
   "id": "3094daaae0a4bd1c"
  }
 ],
 "metadata": {
  "kernelspec": {
   "display_name": "Python 3",
   "language": "python",
   "name": "python3"
  },
  "language_info": {
   "codemirror_mode": {
    "name": "ipython",
    "version": 2
   },
   "file_extension": ".py",
   "mimetype": "text/x-python",
   "name": "python",
   "nbconvert_exporter": "python",
   "pygments_lexer": "ipython2",
   "version": "2.7.6"
  }
 },
 "nbformat": 4,
 "nbformat_minor": 5
}
