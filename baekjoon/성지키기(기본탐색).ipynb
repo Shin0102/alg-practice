{
 "cells": [
  {
   "cell_type": "markdown",
   "id": "b4347a8c-aa92-4d87-ba42-64646cbc2cba",
   "metadata": {},
   "source": [
    "[성지키기](https://www.acmicpc.net/problem/1236)"
   ]
  },
  {
   "cell_type": "markdown",
   "id": "12d2cddd-171e-42ad-b988-c249ca5294cf",
   "metadata": {},
   "source": [
    "- n, m 이 크지 않음\n",
    "- 행과 열의 필요한 경비수 중에 큰값을 return"
   ]
  },
  {
   "cell_type": "code",
   "execution_count": 28,
   "id": "f28af945-3d7c-42de-af3d-169e8625a708",
   "metadata": {},
   "outputs": [
    {
     "name": "stdin",
     "output_type": "stream",
     "text": [
      " 5 8\n",
      " ....XXXX\n",
      " ........\n",
      " XX.X.XX.\n",
      " ........\n",
      " ........\n"
     ]
    },
    {
     "name": "stdout",
     "output_type": "stream",
     "text": [
      "3\n"
     ]
    }
   ],
   "source": [
    "n, m = map(int, input().split())\n",
    "castle = [input() for _ in range(n)]\n",
    "\n",
    "def solution(row: int, col: int) -> int:\n",
    "    row_result = row\n",
    "    col_result = col\n",
    "    col_set = set()\n",
    "    for r in range(row):\n",
    "        x = False\n",
    "        for c in range(col):\n",
    "            if castle[r][c] == \"X\":\n",
    "                x = True\n",
    "                if c not in col_set:\n",
    "                    col_result -= 1\n",
    "                    col_set.add(c)\n",
    "        if x:\n",
    "            row_result -= 1\n",
    "            \n",
    "    return max(row_result, col_result)            \n",
    "            \n",
    "print(solution(n, m))"
   ]
  }
 ],
 "metadata": {
  "kernelspec": {
   "display_name": "Python 3 (ipykernel)",
   "language": "python",
   "name": "python3"
  },
  "language_info": {
   "codemirror_mode": {
    "name": "ipython",
    "version": 3
   },
   "file_extension": ".py",
   "mimetype": "text/x-python",
   "name": "python",
   "nbconvert_exporter": "python",
   "pygments_lexer": "ipython3",
   "version": "3.12.3"
  }
 },
 "nbformat": 4,
 "nbformat_minor": 5
}
