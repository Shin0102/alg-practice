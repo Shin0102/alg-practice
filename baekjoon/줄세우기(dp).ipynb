{
 "cells": [
  {
   "cell_type": "markdown",
   "source": [
    "[줄세우기](https://www.acmicpc.net/problem/2631)\n",
    "- 가장 긴 증가하는 부분 수열 개념을 활용\n",
    "- n - (순서대로 되어있는 학생수)"
   ],
   "metadata": {
    "collapsed": false
   },
   "id": "8dcf334e0c40f286"
  },
  {
   "cell_type": "code",
   "execution_count": 4,
   "outputs": [
    {
     "name": "stdout",
     "output_type": "stream",
     "text": [
      "4\n"
     ]
    }
   ],
   "source": [
    "n = int(input())\n",
    "students = []\n",
    "dp = [1] * n\n",
    "for _ in range(n):\n",
    "    students.append(int(input()))\n",
    "\n",
    "for i in range(1, n):\n",
    "    for j in range(i):\n",
    "        if students[i] > students[j]:\n",
    "            dp[i] = max(dp[i], dp[j] + 1)\n",
    "\n",
    "print(n - max(dp))\n",
    "        "
   ],
   "metadata": {
    "collapsed": false,
    "ExecuteTime": {
     "end_time": "2024-09-26T12:55:22.258970100Z",
     "start_time": "2024-09-26T12:55:16.280358200Z"
    }
   },
   "id": "53bf7688d0f83c74"
  }
 ],
 "metadata": {
  "kernelspec": {
   "display_name": "Python 3",
   "language": "python",
   "name": "python3"
  },
  "language_info": {
   "codemirror_mode": {
    "name": "ipython",
    "version": 2
   },
   "file_extension": ".py",
   "mimetype": "text/x-python",
   "name": "python",
   "nbconvert_exporter": "python",
   "pygments_lexer": "ipython2",
   "version": "2.7.6"
  }
 },
 "nbformat": 4,
 "nbformat_minor": 5
}
