{
 "cells": [
  {
   "cell_type": "markdown",
   "source": [
    "[주식](https://www.acmicpc.net/problem/11501)\n",
    "- greedy, 뒤에서부터 순회해야 한다"
   ],
   "metadata": {
    "collapsed": false
   },
   "id": "4a6e97229c860fd6"
  },
  {
   "cell_type": "code",
   "execution_count": 18,
   "outputs": [
    {
     "name": "stdout",
     "output_type": "stream",
     "text": [
      "0\n",
      "10\n",
      "5\n"
     ]
    }
   ],
   "source": [
    "import sys\n",
    "# input = sys.stdin.readline\n",
    "\n",
    "t = int(input())\n",
    "for _ in range(t):\n",
    "    n = int(input())\n",
    "    days = list(map(int, input().split()))\n",
    "    res = 0\n",
    "    max_day = 0\n",
    "    buy_list = []\n",
    "    for i in range(n-1, -1, -1):\n",
    "        if days[i] > max_day:\n",
    "            for buy in buy_list:\n",
    "                res += (max_day - buy)\n",
    "            buy_list.clear()\n",
    "            max_day = days[i]\n",
    "            \n",
    "        else:\n",
    "            buy_list.append(days[i])\n",
    "\n",
    "    if buy_list:\n",
    "        for buy in buy_list:\n",
    "            res += (max_day - buy)\n",
    "    print(res)"
   ],
   "metadata": {
    "collapsed": false,
    "ExecuteTime": {
     "end_time": "2024-10-04T15:13:00.947601300Z",
     "start_time": "2024-10-04T15:12:48.143634900Z"
    }
   },
   "id": "b3695a08b95fdda8"
  }
 ],
 "metadata": {
  "kernelspec": {
   "display_name": "Python 3",
   "language": "python",
   "name": "python3"
  },
  "language_info": {
   "codemirror_mode": {
    "name": "ipython",
    "version": 2
   },
   "file_extension": ".py",
   "mimetype": "text/x-python",
   "name": "python",
   "nbconvert_exporter": "python",
   "pygments_lexer": "ipython2",
   "version": "2.7.6"
  }
 },
 "nbformat": 4,
 "nbformat_minor": 5
}
