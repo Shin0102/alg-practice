{
 "cells": [
  {
   "cell_type": "markdown",
   "id": "ed078364-d6c3-48c4-b1f3-e3c6c4f80a2c",
   "metadata": {},
   "source": [
    "[해킹](https://www.acmicpc.net/problem/10282)"
   ]
  },
  {
   "cell_type": "code",
   "execution_count": 30,
   "id": "c9c345ea-cf46-43d3-ba2b-3e9462d71cbc",
   "metadata": {},
   "outputs": [
    {
     "name": "stdin",
     "output_type": "stream",
     "text": [
      " 2\n",
      " 3 2 2\n",
      " 2 1 5\n",
      " 3 2 5\n"
     ]
    },
    {
     "name": "stdout",
     "output_type": "stream",
     "text": [
      "2 5\n"
     ]
    },
    {
     "name": "stdin",
     "output_type": "stream",
     "text": [
      " 3 3 1\n",
      " 2 1 2\n",
      " 3 1 8\n",
      " 3 2 4\n"
     ]
    },
    {
     "name": "stdout",
     "output_type": "stream",
     "text": [
      "3 6\n"
     ]
    }
   ],
   "source": [
    "import heapq\n",
    "import sys\n",
    "from collections import defaultdict\n",
    "\n",
    "\n",
    "def solution(com_map, start, n):\n",
    "    # dijkstra\n",
    "    distances = {node: float('inf') for node in range(1,n+1)}\n",
    "    distances[start] = 0\n",
    "    queue = []\n",
    "    heapq.heappush(queue, [distances[start], start])\n",
    "    while queue:\n",
    "        cur_distance, cur_node = heapq.heappop(queue)\n",
    "        if distances[cur_node] < cur_distance:\n",
    "            continue\n",
    "\n",
    "        for adjacent, weight in com_map[cur_node].items():\n",
    "            distance = cur_distance + weight\n",
    "            if distance < distances[adjacent]:\n",
    "                distances[adjacent] = distance\n",
    "                heapq.heappush(queue, [distance, adjacent])\n",
    "    # 결과 출력\n",
    "    cnt = 0\n",
    "    max_distance = 0\n",
    "    for i in range(1, n+1):\n",
    "        if distances[i] != float('inf'):\n",
    "            cnt += 1\n",
    "            if distances[i] > max_distance:\n",
    "                max_distance = distances[i]\n",
    "        \n",
    "    print(f\"{cnt} {max_distance}\")    \n",
    "\n",
    "\n",
    "test_num = int(input())\n",
    "for _ in range(test_num):\n",
    "    n, d, c = map(int, input().split())\n",
    "    com_map = defaultdict(dict)\n",
    "    for _ in range(d):\n",
    "        a, b, s = map(int, input().split())\n",
    "        # a, b, s = map(int, sys.stdin.readline().split())\n",
    "        com_map[b][a] = s\n",
    "    \n",
    "    solution(com_map, c, n)\n",
    "\n"
   ]
  },
  {
   "cell_type": "code",
   "execution_count": null,
   "id": "bb06ea57-3235-47ac-b57a-ff3907570d40",
   "metadata": {},
   "outputs": [],
   "source": []
  }
 ],
 "metadata": {
  "kernelspec": {
   "display_name": "Python 3 (ipykernel)",
   "language": "python",
   "name": "python3"
  },
  "language_info": {
   "codemirror_mode": {
    "name": "ipython",
    "version": 3
   },
   "file_extension": ".py",
   "mimetype": "text/x-python",
   "name": "python",
   "nbconvert_exporter": "python",
   "pygments_lexer": "ipython3",
   "version": "3.12.4"
  }
 },
 "nbformat": 4,
 "nbformat_minor": 5
}
