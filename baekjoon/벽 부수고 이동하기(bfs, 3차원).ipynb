{
 "cells": [
  {
   "cell_type": "markdown",
   "source": [
    "[벽 부수고 이동하기](https://www.acmicpc.net/problem/2206)\n",
    "- 처음엔 단순히 여러개의 배열을 구성해서 반복처리하려했지만 메모리초과\n",
    "- 3차원으로 벽을 부순여부를 체크해준다."
   ],
   "metadata": {
    "collapsed": false
   },
   "id": "f4cd162483a67f41"
  },
  {
   "cell_type": "code",
   "execution_count": 25,
   "outputs": [
    {
     "name": "stdout",
     "output_type": "stream",
     "text": [
      "15\n"
     ]
    }
   ],
   "source": [
    "import sys\n",
    "\n",
    "from collections import deque\n",
    "\n",
    "# input = sys.stdin.readline\n",
    "\n",
    "n, m = map(int, input().split())\n",
    "grid = [[0]*(m+1) for _ in range(n+1)]\n",
    "for i in range(1, n+1):\n",
    "        line = input().strip()\n",
    "        for j, val in enumerate(line, 1):\n",
    "            grid[i][j] = int(val)\n",
    "\n",
    "def bfs(grid, n, m):\n",
    "    directions = [(-1, 0), (1, 0), (0, -1), (0, 1)]\n",
    "    \n",
    "    # 방문 배열: visited[x][y][broken]\n",
    "    # broken: 0 - 벽을 부수지 않음, 1 - 벽을 한 번 부수었음\n",
    "    visited = [[[False]*2 for _ in range(m+1)] for __ in range(n+1)]\n",
    "    \n",
    "    queue = deque()\n",
    "    # 시작점 (1,1), 거리 1, 벽을 부수지 않음\n",
    "    queue.append((1, 1, 1, 0))\n",
    "    visited[1][1][0] = True\n",
    "    \n",
    "    while queue:\n",
    "        x, y, dist, broken = queue.popleft()\n",
    "        \n",
    "        if x == n and y == m:\n",
    "            return dist\n",
    "        \n",
    "        for dx, dy in directions:\n",
    "            nx, ny = x + dx, y + dy\n",
    "            \n",
    "            if 1 <= nx <= n and 1 <= ny <= m:\n",
    "                # 이동 가능한 길인 경우\n",
    "                if grid[nx][ny] == 0 and not visited[nx][ny][broken]:\n",
    "                    visited[nx][ny][broken] = True\n",
    "                    queue.append((nx, ny, dist + 1, broken))\n",
    "                # 벽인 경우, 아직 벽을 부수지 않았다면 벽을 부수고 이동\n",
    "                elif grid[nx][ny] == 1 and broken == 0 and not visited[nx][ny][1]:\n",
    "                    visited[nx][ny][1] = True\n",
    "                    queue.append((nx, ny, dist + 1, 1))\n",
    "    \n",
    "    return -1\n",
    "\n",
    "min_distance = bfs(grid, n, m)\n",
    "print(min_distance)"
   ],
   "metadata": {
    "collapsed": false,
    "ExecuteTime": {
     "end_time": "2024-09-25T22:37:47.869985600Z",
     "start_time": "2024-09-25T22:37:10.899638700Z"
    }
   },
   "id": "c51078b28cf26c38"
  }
 ],
 "metadata": {
  "kernelspec": {
   "display_name": "Python 3",
   "language": "python",
   "name": "python3"
  },
  "language_info": {
   "codemirror_mode": {
    "name": "ipython",
    "version": 2
   },
   "file_extension": ".py",
   "mimetype": "text/x-python",
   "name": "python",
   "nbconvert_exporter": "python",
   "pygments_lexer": "ipython2",
   "version": "2.7.6"
  }
 },
 "nbformat": 4,
 "nbformat_minor": 5
}
