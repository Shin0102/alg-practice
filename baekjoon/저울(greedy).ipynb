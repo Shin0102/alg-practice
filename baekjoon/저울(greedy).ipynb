{
 "cells": [
  {
   "cell_type": "markdown",
   "source": [
    "[저울](https://www.acmicpc.net/problem/2437)\n",
    "- 이전의 무게상태가 존재하면, 이 무게상태를 이용할수 있다는 점을 이용.\n",
    "- 예를들어 1,2,3 까지 만들수있고 그다음 추가 4라면 7까지 만들수있다."
   ],
   "metadata": {
    "collapsed": false
   },
   "id": "c31e5e918ad460a6"
  },
  {
   "cell_type": "code",
   "execution_count": 25,
   "outputs": [
    {
     "name": "stdout",
     "output_type": "stream",
     "text": [
      "21\n"
     ]
    }
   ],
   "source": [
    "n = int(input())\n",
    "w_list = list(map(int, input().split()))\n",
    "w_list.sort()\n",
    "\n",
    "res = 0\n",
    "for w in w_list:\n",
    "    if w <= res + 1:\n",
    "        res += w\n",
    "    else:\n",
    "        break\n",
    "\n",
    "print(res+1)"
   ],
   "metadata": {
    "collapsed": false,
    "ExecuteTime": {
     "end_time": "2024-09-18T18:11:42.328960700Z",
     "start_time": "2024-09-18T18:11:36.729896Z"
    }
   },
   "id": "1118118841ca7483"
  }
 ],
 "metadata": {
  "kernelspec": {
   "display_name": "Python 3",
   "language": "python",
   "name": "python3"
  },
  "language_info": {
   "codemirror_mode": {
    "name": "ipython",
    "version": 2
   },
   "file_extension": ".py",
   "mimetype": "text/x-python",
   "name": "python",
   "nbconvert_exporter": "python",
   "pygments_lexer": "ipython2",
   "version": "2.7.6"
  }
 },
 "nbformat": 4,
 "nbformat_minor": 5
}
