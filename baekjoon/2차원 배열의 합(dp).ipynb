{
 "cells": [
  {
   "cell_type": "markdown",
   "source": [
    "[2차원 배열의 합](https://www.acmicpc.net/problem/2167)\n",
    "- 처음엔 단순히 가로행의 합만 저장하여 통과하였음(n번을 추가로 수행하여 속도가 느림)\n",
    "- 개선: 먼저 배열의 누적합을 저장하여 합을 구한 뒤, 교집합(겹치는 사각형)부분을 제외하는 방식으로 구현"
   ],
   "metadata": {
    "collapsed": false
   },
   "id": "76d1461db6391a83"
  },
  {
   "cell_type": "code",
   "execution_count": 7,
   "outputs": [
    {
     "name": "stdout",
     "output_type": "stream",
     "text": [
      "63\n",
      "2\n",
      "36\n"
     ]
    }
   ],
   "source": [
    "import sys\n",
    "# input = sys.stdin.readline\n",
    "\n",
    "n, m = map(int, input().split())\n",
    "sum_array = [[0] * (m + 1) for _ in range (n + 1)]\n",
    "\n",
    "for i in range(1, n + 1):\n",
    "    row = list(map(int, input().split()))\n",
    "    for j in range(1, len(row) + 1) :\n",
    "        sum_array[i][j] = sum_array[i][j-1] + row[j-1]\n",
    "\n",
    "k = int(input())\n",
    "for _ in range(k):\n",
    "    i, j, x, y = map(int, input().split())\n",
    "    sum1 = 0\n",
    "    for ii in range(i, x+1):\n",
    "        sum1 += sum_array[ii][y]\n",
    "    sum2 = 0\n",
    "    for ii in range(i, x+1):\n",
    "        sum2 += sum_array[ii][j-1]\n",
    "    print(sum1 - sum2)\n",
    "        "
   ],
   "metadata": {
    "collapsed": false,
    "ExecuteTime": {
     "end_time": "2024-09-13T19:15:26.528851100Z",
     "start_time": "2024-09-13T19:15:14.448319400Z"
    }
   },
   "id": "4768ceb98d886a25"
  },
  {
   "cell_type": "code",
   "execution_count": 8,
   "outputs": [
    {
     "name": "stdout",
     "output_type": "stream",
     "text": [
      "63\n",
      "2\n",
      "36\n"
     ]
    }
   ],
   "source": [
    "import sys\n",
    "# input = sys.stdin.readline\n",
    "\n",
    "n, m = map(int, input().split())\n",
    "array = [list(map(int, input().split())) for _ in range(n)]\n",
    "\n",
    "sum_array = [[0] * (m + 1) for _ in range(n + 1)]\n",
    "\n",
    "# 누적합 계산\n",
    "for i in range(1, n + 1):\n",
    "    for j in range(1, m + 1):\n",
    "        sum_array[i][j] = array[i-1][j-1] + sum_array[i-1][j] + sum_array[i][j-1] - sum_array[i-1][j-1]\n",
    "\n",
    "k = int(input())\n",
    "for _ in range(k):\n",
    "    i, j, x, y = map(int, input().split())\n",
    "    result = sum_array[x][y] - sum_array[i-1][y] - sum_array[x][j-1] + sum_array[i-1][j-1]\n",
    "    print(result)\n",
    "\n"
   ],
   "metadata": {
    "collapsed": false,
    "ExecuteTime": {
     "end_time": "2024-09-13T19:15:48.773136700Z",
     "start_time": "2024-09-13T19:15:36.772318600Z"
    }
   },
   "id": "dded4a41351d2dd5"
  }
 ],
 "metadata": {
  "kernelspec": {
   "display_name": "Python 3",
   "language": "python",
   "name": "python3"
  },
  "language_info": {
   "codemirror_mode": {
    "name": "ipython",
    "version": 2
   },
   "file_extension": ".py",
   "mimetype": "text/x-python",
   "name": "python",
   "nbconvert_exporter": "python",
   "pygments_lexer": "ipython2",
   "version": "2.7.6"
  }
 },
 "nbformat": 4,
 "nbformat_minor": 5
}
