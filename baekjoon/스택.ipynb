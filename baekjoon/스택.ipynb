{
 "cells": [
  {
   "cell_type": "markdown",
   "id": "expressed-demonstration",
   "metadata": {},
   "source": [
    "[스택](https://www.acmicpc.net/problem/1874)"
   ]
  },
  {
   "cell_type": "code",
   "execution_count": 2,
   "id": "fundamental-illinois",
   "metadata": {},
   "outputs": [
    {
     "name": "stdout",
     "output_type": "stream",
     "text": [
      "8\n",
      "4\n",
      "3\n",
      "6\n",
      "8\n",
      "7\n",
      "5\n",
      "2\n",
      "1\n",
      "+\n",
      "+\n",
      "+\n",
      "+\n",
      "-\n",
      "-\n",
      "+\n",
      "+\n",
      "-\n",
      "+\n",
      "+\n",
      "-\n",
      "-\n",
      "-\n",
      "-\n",
      "-\n"
     ]
    }
   ],
   "source": [
    "n = int(input())\n",
    "stack = []\n",
    "answer = []\n",
    "num = 1\n",
    "\n",
    "for i in range(1, n+1):\n",
    "    input_num = int(input())\n",
    "    while num <= input_num:\n",
    "        stack.append(num)\n",
    "        answer.append(\"+\")\n",
    "        num += 1\n",
    "    \n",
    "    if stack[-1] == input_num:\n",
    "        stack.pop()\n",
    "        answer.append(\"-\")\n",
    "    else:\n",
    "        print(\"NO\")\n",
    "        exit(0)\n",
    "\n",
    "print(\"\\n\".join(answer))\n",
    "    "
   ]
  }
 ],
 "metadata": {
  "kernelspec": {
   "display_name": "Python 3",
   "language": "python",
   "name": "python3"
  }
 },
 "nbformat": 4,
 "nbformat_minor": 5
}
