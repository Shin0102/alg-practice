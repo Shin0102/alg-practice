{
 "cells": [
  {
   "cell_type": "markdown",
   "id": "0f78b990-f22e-460c-92ce-db0084a88c84",
   "metadata": {},
   "source": [
    "[ATM](https://www.acmicpc.net/problem/11399)"
   ]
  },
  {
   "cell_type": "code",
   "execution_count": 35,
   "id": "c63db19a-ceb0-4db3-a92c-9fa879472c19",
   "metadata": {},
   "outputs": [
    {
     "name": "stdin",
     "output_type": "stream",
     "text": [
      " 5\n",
      " 3 1 4 3 2\n"
     ]
    },
    {
     "name": "stdout",
     "output_type": "stream",
     "text": [
      "32\n"
     ]
    }
   ],
   "source": [
    "n = int(input())\n",
    "n_list = [int(i) for i in input().split(\" \")]\n",
    "n_list.sort()\n",
    "\n",
    "total = 0\n",
    "wait_time_list = []\n",
    "for i in range(0, n):\n",
    "    if i == 0:\n",
    "        wait_time = n_list[0]\n",
    "    else:\n",
    "        wait_time = wait_time_list[i-1] + n_list[i]        \n",
    "    wait_time_list.append(wait_time)\n",
    "\n",
    "    \n",
    "print(sum(wait_time_list))"
   ]
  }
 ],
 "metadata": {
  "kernelspec": {
   "display_name": "Python 3 (ipykernel)",
   "language": "python",
   "name": "python3"
  },
  "language_info": {
   "codemirror_mode": {
    "name": "ipython",
    "version": 3
   },
   "file_extension": ".py",
   "mimetype": "text/x-python",
   "name": "python",
   "nbconvert_exporter": "python",
   "pygments_lexer": "ipython3",
   "version": "3.11.7"
  }
 },
 "nbformat": 4,
 "nbformat_minor": 5
}
