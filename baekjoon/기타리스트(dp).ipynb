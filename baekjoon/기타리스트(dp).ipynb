{
 "cells": [
  {
   "cell_type": "markdown",
   "id": "8fcfaffe-2bd6-4132-b449-e95bf6c0586b",
   "metadata": {},
   "source": [
    "[기타리스트](https://www.acmicpc.net/problem/1495)\n",
    "- BFS로 풀면 시간초과"
   ]
  },
  {
   "cell_type": "code",
   "execution_count": 19,
   "id": "790aedad-2726-4819-8407-a09958eb3c78",
   "metadata": {},
   "outputs": [
    {
     "name": "stdin",
     "output_type": "stream",
     "text": [
      " 14 40 243\n",
      " 74 39 127 95 63 140 99 96 154 18 137 162 14 88\n"
     ]
    },
    {
     "name": "stdout",
     "output_type": "stream",
     "text": [
      "238\n"
     ]
    }
   ],
   "source": [
    "num, start, max_volume = map(int, input().split())\n",
    "diff_list = list(map(int, input().split()))\n",
    "\n",
    "dp = [[False] * (max_volume + 1) for _ in range(num + 1)]\n",
    "dp[0][start] = True\n",
    "\n",
    "for i in range(1, num + 1):\n",
    "    diff = diff_list[i - 1]\n",
    "    for v in range(max_volume + 1):\n",
    "        if dp[i - 1][v]:\n",
    "            if v + diff <= max_volume:\n",
    "                dp[i][v + diff] = True\n",
    "            if v - diff >= 0:\n",
    "                dp[i][v - diff] = True\n",
    "\n",
    "\n",
    "result = -1\n",
    "for v in range(max_volume + 1):\n",
    "    if dp[num][v]:\n",
    "        result = max(result, v)\n",
    "\n",
    "print(result)"
   ]
  }
 ],
 "metadata": {
  "kernelspec": {
   "display_name": "Python 3 (ipykernel)",
   "language": "python",
   "name": "python3"
  },
  "language_info": {
   "codemirror_mode": {
    "name": "ipython",
    "version": 3
   },
   "file_extension": ".py",
   "mimetype": "text/x-python",
   "name": "python",
   "nbconvert_exporter": "python",
   "pygments_lexer": "ipython3",
   "version": "3.12.4"
  }
 },
 "nbformat": 4,
 "nbformat_minor": 5
}
