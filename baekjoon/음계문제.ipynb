{
 "cells": [
  {
   "cell_type": "markdown",
   "metadata": {},
   "source": [
    "[음계문제](https://www.acmicpc.net/problem/2920)"
   ]
  },
  {
   "cell_type": "code",
   "execution_count": 2,
   "metadata": {},
   "outputs": [
    {
     "name": "stdout",
     "output_type": "stream",
     "text": [
      "1 2 3 4 5 6 7 8\n",
      "ascending\n"
     ]
    }
   ],
   "source": [
    "input_list = [int(val) for val in input().split(\" \")]\n",
    "\n",
    "def solution(input_list):    \n",
    "    prev_num = input_list[0]\n",
    "    scale = \"\"\n",
    "    for num in input_list[1:]:\n",
    "        if prev_num + 1 == num and (scale == \"ascending\" or scale == \"\"):\n",
    "            scale = \"ascending\"\n",
    "        elif prev_num - 1 == num and (scale == \"descending\" or scale == \"\"):\n",
    "            scale = \"descending\"\n",
    "        else:\n",
    "            scale = \"mixed\"\n",
    "            break;\n",
    "        prev_num = num\n",
    "            \n",
    "    return scale\n",
    "\n",
    "print(solution(input_list))"
   ]
  },
  {
   "cell_type": "code",
   "execution_count": null,
   "metadata": {},
   "outputs": [],
   "source": []
  }
 ],
 "metadata": {
  "kernelspec": {
   "display_name": "Python 3",
   "language": "python",
   "name": "python3"
  },
  "language_info": {
   "codemirror_mode": {
    "name": "ipython",
    "version": 3
   },
   "file_extension": ".py",
   "mimetype": "text/x-python",
   "name": "python",
   "nbconvert_exporter": "python",
   "pygments_lexer": "ipython3",
   "version": "3.7.6"
  }
 },
 "nbformat": 4,
 "nbformat_minor": 4
}
