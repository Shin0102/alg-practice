{
 "cells": [
  {
   "cell_type": "markdown",
   "id": "0a19a27d-f82d-4831-914f-d8e50629ec88",
   "metadata": {},
   "source": [
    "[컵라면](https://fastcampus.co.kr/classroom/201435)\n",
    "- 최소힙을 활용, 데드라인을 초과하는경우 최소힙제거"
   ]
  },
  {
   "cell_type": "code",
   "execution_count": 5,
   "id": "07f4337a-8c71-47a0-a9a5-03ad4abf2bd7",
   "metadata": {},
   "outputs": [
    {
     "name": "stdin",
     "output_type": "stream",
     "text": [
      " 7\n",
      " 1 6\n",
      " 1 7\n",
      " 3 2\n",
      " 3 1\n",
      " 2 4\n",
      " 2 5\n",
      " 6 1\n"
     ]
    },
    {
     "name": "stdout",
     "output_type": "stream",
     "text": [
      "15\n"
     ]
    }
   ],
   "source": [
    "import heapq\n",
    "import sys\n",
    "# input = sys.stdin.readline\n",
    "\n",
    "n = int(input())\n",
    "problems = []\n",
    "for _ in range(n):\n",
    "    deadline, cup = map(int, input().split())\n",
    "    problems.append((deadline, cup))\n",
    "problems.sort()\n",
    "\n",
    "heap = []\n",
    "for deadline, cup in problems:\n",
    "    heapq.heappush(heap, cup)\n",
    "    if deadline < len(heap):\n",
    "        heapq.heappop(heap)\n",
    "\n",
    "print(sum(heap))"
   ]
  },
  {
   "cell_type": "code",
   "execution_count": null,
   "id": "d02ec008-0d9f-4340-a28f-a279513ac678",
   "metadata": {},
   "outputs": [],
   "source": []
  }
 ],
 "metadata": {
  "kernelspec": {
   "display_name": "Python 3 (ipykernel)",
   "language": "python",
   "name": "python3"
  },
  "language_info": {
   "codemirror_mode": {
    "name": "ipython",
    "version": 3
   },
   "file_extension": ".py",
   "mimetype": "text/x-python",
   "name": "python",
   "nbconvert_exporter": "python",
   "pygments_lexer": "ipython3",
   "version": "3.12.4"
  }
 },
 "nbformat": 4,
 "nbformat_minor": 5
}
