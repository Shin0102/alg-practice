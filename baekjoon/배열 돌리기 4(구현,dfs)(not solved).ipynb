{
 "cells": [
  {
   "cell_type": "markdown",
   "source": [
    "[배열 돌리기 4](https://www.acmicpc.net/problem/17406)\n",
    "- 배열 회전 아이디어 구현하기가 힘들었음"
   ],
   "metadata": {
    "collapsed": false
   },
   "id": "e87f744576f3e390"
  },
  {
   "cell_type": "code",
   "execution_count": 68,
   "outputs": [
    {
     "name": "stdout",
     "output_type": "stream",
     "text": [
      "12\n"
     ]
    }
   ],
   "source": [
    "from itertools import permutations\n",
    "from copy import deepcopy\n",
    "\n",
    "n, m, k = map(int, input().split())\n",
    "a = []\n",
    "for _ in range(n):\n",
    "    a.append(list(map(int, input().split())))\n",
    "# a = [\n",
    "#     [1, 2, 3, 2, 5, 6],\n",
    "#     [3, 8, 7, 2, 1, 3],\n",
    "#     [8, 2, 3, 1, 4, 5],\n",
    "#     [3, 4, 5, 1, 1, 1],\n",
    "#     [9, 3, 2, 1, 4, 3],\n",
    "# ]\n",
    "    \n",
    "k_list = []\n",
    "for _ in range(k):\n",
    "    k_list.append(list(map(int, input().split())))\n",
    "# k_list = [[3, 4, 2], [4, 2, 1]]\n",
    "k_perms = permutations(k_list)\n",
    "\n",
    "minimum = m * 100\n",
    "def find_minimum(arr):\n",
    "    global minimum\n",
    "    for i in range(n):\n",
    "        minimum = min([sum(arr[i]), minimum])\n",
    "\n",
    "dx, dy = [1, 0, -1, 0], [0, -1, 0, 1]\n",
    "def rotate(r, c, s, arr):\n",
    "    \"\"\"우측 대각선 지점부터 시계방향으로 한개씩 옮겨준다\"\"\"\n",
    "    r, c = r - 1, c - 1\n",
    "    new_arr = deepcopy(arr)\n",
    "    for i in range(1, s + 1):\n",
    "        rr, cc = r - i, c + i  # 시작방향 지정\n",
    "        for w in range(4):  # 남서북동\n",
    "            for d in range(i * 2):  # 바깥쪽으로 갈수록 이동개수가 2배씩 늘어남\n",
    "                rrr, ccc = rr + dx[w], cc + dy[w]\n",
    "                new_arr[rrr][ccc] = arr[rr][cc]\n",
    "                rr, cc = rrr, ccc\n",
    "    return new_arr\n",
    "\n",
    "for perm in k_perms:\n",
    "    new_arr = a\n",
    "    for p in perm:\n",
    "        r, c, s = p\n",
    "        new_arr = rotate(r, c, s, new_arr)\n",
    "    find_minimum(new_arr)\n",
    "\n",
    "print(minimum)"
   ],
   "metadata": {
    "collapsed": false,
    "ExecuteTime": {
     "end_time": "2024-09-09T17:10:37.571076700Z",
     "start_time": "2024-09-09T17:10:36.452522100Z"
    }
   },
   "id": "fdd108cd7361f250"
  }
 ],
 "metadata": {
  "kernelspec": {
   "display_name": "Python 3",
   "language": "python",
   "name": "python3"
  },
  "language_info": {
   "codemirror_mode": {
    "name": "ipython",
    "version": 2
   },
   "file_extension": ".py",
   "mimetype": "text/x-python",
   "name": "python",
   "nbconvert_exporter": "python",
   "pygments_lexer": "ipython2",
   "version": "2.7.6"
  }
 },
 "nbformat": 4,
 "nbformat_minor": 5
}
