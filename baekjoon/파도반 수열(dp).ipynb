{
 "cells": [
  {
   "cell_type": "markdown",
   "id": "88d96d74-d3e8-4555-a2cc-1d509d3f1181",
   "metadata": {},
   "source": [
    "- https://www.acmicpc.net/problem/9461"
   ]
  },
  {
   "cell_type": "markdown",
   "id": "9b186db1-fd81-4ed7-91fc-3a9b39773f31",
   "metadata": {},
   "source": [
    "- p(1) = 1\n",
    "- p(2) = 1\n",
    "- p(3) = 1\n",
    "- p(4) = p(1) + p(2) = 2\n",
    "- p(5) = p(2) + p(3) = 2\n",
    "- p(6) = p(3) + p(4) = 3\n",
    "- p(7) = p(4) + p(5) = 4\n",
    "- p(8) = p(5) + p(6) = 5\n",
    "- p(9) = p(6) + p(7) = 7\n",
    "- p(n) = p(n-3) + p(n-2)"
   ]
  },
  {
   "cell_type": "code",
   "execution_count": 3,
   "id": "5d577ac3-4cf7-4a63-b3ef-b75763de392b",
   "metadata": {},
   "outputs": [
    {
     "name": "stdin",
     "output_type": "stream",
     "text": [
      " 2\n",
      " 6\n"
     ]
    },
    {
     "name": "stdout",
     "output_type": "stream",
     "text": [
      "3\n"
     ]
    },
    {
     "name": "stdin",
     "output_type": "stream",
     "text": [
      " 13\n"
     ]
    },
    {
     "name": "stdout",
     "output_type": "stream",
     "text": [
      "21\n"
     ]
    }
   ],
   "source": [
    "case_num = int(input())\n",
    "cached = {}\n",
    "\n",
    "for i in range(1,101):\n",
    "    if i <= 3:\n",
    "        cached[i] = 1\n",
    "    else:\n",
    "        cached[i] = cached[i-3] + cached[i-2]\n",
    "\n",
    "for _ in range(0, case_num):\n",
    "    n = int(input())\n",
    "    print(cached[n])"
   ]
  }
 ],
 "metadata": {
  "kernelspec": {
   "display_name": "Python 3 (ipykernel)",
   "language": "python",
   "name": "python3"
  },
  "language_info": {
   "codemirror_mode": {
    "name": "ipython",
    "version": 3
   },
   "file_extension": ".py",
   "mimetype": "text/x-python",
   "name": "python",
   "nbconvert_exporter": "python",
   "pygments_lexer": "ipython3",
   "version": "3.11.5"
  }
 },
 "nbformat": 4,
 "nbformat_minor": 5
}
