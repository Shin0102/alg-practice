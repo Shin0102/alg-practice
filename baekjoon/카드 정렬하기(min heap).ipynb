{
 "cells": [
  {
   "cell_type": "markdown",
   "id": "6a0b9ff4-6184-4cce-8d0b-ee557d903bf0",
   "metadata": {},
   "source": [
    "[카드 정렬하기](https://www.acmicpc.net/problem/1715)"
   ]
  },
  {
   "cell_type": "code",
   "execution_count": 11,
   "id": "9a85ac76-dd6a-4de7-a72d-aa91215dda71",
   "metadata": {},
   "outputs": [
    {
     "name": "stdin",
     "output_type": "stream",
     "text": [
      " 3\n",
      " 10\n",
      " 20\n",
      " 40\n"
     ]
    },
    {
     "name": "stdout",
     "output_type": "stream",
     "text": [
      "100\n"
     ]
    }
   ],
   "source": [
    "# import sys\n",
    "import heapq\n",
    "\n",
    "n = int(input())\n",
    "card_list = []\n",
    "for _ in range(n):\n",
    "    card_num = int(input())\n",
    "    # card_num = int(sys.stdin.readline())\n",
    "    heapq.heappush(card_list, card_num)\n",
    "\n",
    "result = []\n",
    "while len(card_list) > 1:\n",
    "    first = heapq.heappop(card_list)\n",
    "    second = heapq.heappop(card_list)\n",
    "    heapq.heappush(card_list, first + second)\n",
    "    result.append(first + second)\n",
    "\n",
    "print(sum(result))"
   ]
  },
  {
   "cell_type": "code",
   "execution_count": null,
   "id": "826b2e7e-8f57-46d1-a31b-462ed9ac29ae",
   "metadata": {},
   "outputs": [],
   "source": []
  }
 ],
 "metadata": {
  "kernelspec": {
   "display_name": "Python 3 (ipykernel)",
   "language": "python",
   "name": "python3"
  },
  "language_info": {
   "codemirror_mode": {
    "name": "ipython",
    "version": 3
   },
   "file_extension": ".py",
   "mimetype": "text/x-python",
   "name": "python",
   "nbconvert_exporter": "python",
   "pygments_lexer": "ipython3",
   "version": "3.12.3"
  }
 },
 "nbformat": 4,
 "nbformat_minor": 5
}
