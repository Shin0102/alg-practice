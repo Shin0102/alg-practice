{
 "cells": [
  {
   "cell_type": "markdown",
   "id": "63a73890-d359-4612-8c3c-4502854802d7",
   "metadata": {},
   "source": [
    "[도서관](greedy)\n",
    "- 양수방향, 음수방향을 나누어서 해결\n",
    "- 가장 먼곳에 묶음을 마지막에 옮긴다"
   ]
  },
  {
   "cell_type": "code",
   "execution_count": 33,
   "id": "2b970608-11f3-4329-9370-0f3dc272ef05",
   "metadata": {},
   "outputs": [
    {
     "name": "stdin",
     "output_type": "stream",
     "text": [
      " 8 3\n",
      " -18 -9 -4 50 22 -26 40 -45\n"
     ]
    },
    {
     "name": "stdout",
     "output_type": "stream",
     "text": [
      "158\n"
     ]
    }
   ],
   "source": [
    "n, m = map(int, input().split())\n",
    "book_list = list(map(int, input().split()))\n",
    "book_list.sort()\n",
    "max_distance = max([abs(book_list[0]), abs(book_list[-1])])\n",
    "\n",
    "# 음수 처리\n",
    "res = 0\n",
    "positive_index = len(book_list)\n",
    "for i, book in enumerate(book_list):\n",
    "    if book > 0:\n",
    "        positive_index = i\n",
    "        break\n",
    "    if i % m == 0:\n",
    "        res += abs(book) * 2\n",
    "\n",
    "# 양수 처리\n",
    "positive_book_list = book_list[positive_index:] \n",
    "positive_book_list.sort(reverse=True)\n",
    "for i, book in enumerate(positive_book_list):\n",
    "    if i % m == 0:\n",
    "        res += abs(book) * 2\n",
    "\n",
    "# 가장 멀리 있는 책의 거리 한 번만 더하기\n",
    "res -= max_distance\n",
    "\n",
    "print(res)\n"
   ]
  },
  {
   "cell_type": "code",
   "execution_count": null,
   "id": "91f219a5-714e-42ba-b4c8-bead0ac5dd2c",
   "metadata": {},
   "outputs": [],
   "source": []
  }
 ],
 "metadata": {
  "kernelspec": {
   "display_name": "Python 3 (ipykernel)",
   "language": "python",
   "name": "python3"
  },
  "language_info": {
   "codemirror_mode": {
    "name": "ipython",
    "version": 3
   },
   "file_extension": ".py",
   "mimetype": "text/x-python",
   "name": "python",
   "nbconvert_exporter": "python",
   "pygments_lexer": "ipython3",
   "version": "3.12.4"
  }
 },
 "nbformat": 4,
 "nbformat_minor": 5
}
