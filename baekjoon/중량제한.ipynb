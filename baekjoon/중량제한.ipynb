{
 "cells": [
  {
   "cell_type": "markdown",
   "id": "17c3ac9f-d226-4b44-b5c1-1fe0ae5b6e53",
   "metadata": {},
   "source": [
    "[중량제한](https://www.acmicpc.net/problem/1939)\n",
    "- C가 10억으로 매우큼 -> O(logC) 방법을 찾아야함 -> 이진탐색\n",
    "- 최소 무게, 최대 무게를 구해서 이진탐색후 bfs 실행\n",
    "- bfs -> deque, set 사용\n",
    "- 다익스트라? union-find 도 가능?"
   ]
  },
  {
   "cell_type": "code",
   "execution_count": 14,
   "id": "a4ebe514-df34-4157-804d-6023ce081c9b",
   "metadata": {},
   "outputs": [
    {
     "name": "stdin",
     "output_type": "stream",
     "text": [
      " 3 3\n",
      " 1 2 2\n",
      " 3 1 3\n",
      " 2 3 2\n",
      " 1 3\n"
     ]
    },
    {
     "name": "stdout",
     "output_type": "stream",
     "text": [
      "3\n"
     ]
    }
   ],
   "source": [
    "import sys\n",
    "from collections import defaultdict, deque\n",
    "\n",
    "# 입력 및 초기화\n",
    "n, m = map(int, input().split())\n",
    "graph = defaultdict(list)\n",
    "min_w = 1_000_000_000\n",
    "max_w = 0\n",
    "\n",
    "for _ in range(m):\n",
    "    a, b, w = map(int, input().split())\n",
    "    # a, b, w = map(int, sys.stdin.readline().strip().split())\n",
    "    graph[a].append((b, w))\n",
    "    graph[b].append((a, w))\n",
    "    min_w = min(min_w, w)\n",
    "    max_w = max(max_w, w)\n",
    "    \n",
    "start, end = map(int, input().split())\n",
    "\n",
    "# bfs \n",
    "def bfs(mid_w: int) -> bool:\n",
    "    visited = set()\n",
    "    need_visit = deque([start])\n",
    "    \n",
    "    while need_visit:\n",
    "        visit_node = need_visit.popleft()\n",
    "        for next_node, weight in graph[visit_node]:\n",
    "            if visit_node == end:\n",
    "                return True\n",
    "            if next_node not in visited and weight >= mid_w:\n",
    "                visited.add(next_node)\n",
    "                need_visit.append(next_node)\n",
    "    return False\n",
    "\n",
    "if __name__ == \"__main__\":\n",
    "    result = min_w\n",
    "    while min_w <= max_w:\n",
    "        mid_w = (min_w + max_w) // 2\n",
    "        if bfs(mid_w):\n",
    "            result = mid_w\n",
    "            min_w = mid_w + 1\n",
    "        else:\n",
    "            max_w = mid_w - 1\n",
    "        \n",
    "    print(result)"
   ]
  },
  {
   "cell_type": "code",
   "execution_count": null,
   "id": "5072d71e-b0b9-4027-a8d3-2d798405cf0d",
   "metadata": {},
   "outputs": [],
   "source": []
  }
 ],
 "metadata": {
  "kernelspec": {
   "display_name": "Python 3 (ipykernel)",
   "language": "python",
   "name": "python3"
  },
  "language_info": {
   "codemirror_mode": {
    "name": "ipython",
    "version": 3
   },
   "file_extension": ".py",
   "mimetype": "text/x-python",
   "name": "python",
   "nbconvert_exporter": "python",
   "pygments_lexer": "ipython3",
   "version": "3.12.3"
  }
 },
 "nbformat": 4,
 "nbformat_minor": 5
}
