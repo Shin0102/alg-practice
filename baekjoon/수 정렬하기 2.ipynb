{
 "cells": [
  {
   "cell_type": "markdown",
   "id": "5a70bdb1-6d36-4ba5-a973-c7ab484f3143",
   "metadata": {},
   "source": [
    "[수 정렬하기 2](https://www.acmicpc.net/problem/2751)"
   ]
  },
  {
   "cell_type": "markdown",
   "id": "6785791f-5828-403c-99a1-e5fbca86860d",
   "metadata": {},
   "source": [
    "- N = 100만\n",
    "- logN 이면 대략 20 (2^20) -> O(NlogN) 정렬을 사용하면 2천만정도 연산횟수 \n",
    "- pyhton3은 대략 1초에 2~5천만번 정도의 연산\n",
    "- 퀵정렬, 병합정렬.."
   ]
  },
  {
   "cell_type": "markdown",
   "id": "525b129a-9fbc-4451-ac02-f10192bce563",
   "metadata": {},
   "source": [
    "### 최소힙 (73184KB, 2044ms)"
   ]
  },
  {
   "cell_type": "code",
   "execution_count": 3,
   "id": "165e6ed5-ecff-4860-bab6-f710c39f356c",
   "metadata": {},
   "outputs": [
    {
     "name": "stdin",
     "output_type": "stream",
     "text": [
      " 5\n",
      " 4\n",
      " 2\n",
      " 3\n",
      " 13\n",
      " 2\n"
     ]
    },
    {
     "name": "stdout",
     "output_type": "stream",
     "text": [
      "2\n",
      "2\n",
      "3\n",
      "4\n",
      "13\n"
     ]
    }
   ],
   "source": [
    "import sys\n",
    "from heapq import heappush, heappop \n",
    "\n",
    "# n = int(sys.stdin.readline())\n",
    "n = int(input())\n",
    "data = []\n",
    "\n",
    "for i in range(n):\n",
    "    # num = int(sys.stdin.readline())\n",
    "    num = int(input())\n",
    "    heappush(data, num)\n",
    "\n",
    "while data:\n",
    "    print(heappop(data))"
   ]
  },
  {
   "cell_type": "markdown",
   "id": "bce3918a-e03b-4efc-8909-ed65b490cc9d",
   "metadata": {},
   "source": [
    "### quick sort"
   ]
  },
  {
   "cell_type": "code",
   "execution_count": 5,
   "id": "a266e7d3-e2e1-4eff-9590-5a4ddc4a81a1",
   "metadata": {},
   "outputs": [
    {
     "name": "stdin",
     "output_type": "stream",
     "text": [
      " 5\n",
      " 4\n",
      " 2\n",
      " 3\n",
      " 1\n",
      " 5\n"
     ]
    },
    {
     "name": "stdout",
     "output_type": "stream",
     "text": [
      "1\n",
      "2\n",
      "3\n",
      "4\n",
      "5\n"
     ]
    }
   ],
   "source": [
    "import sys\n",
    "import random\n",
    "\n",
    "# n = int(sys.stdin.readline())\n",
    "# data = [int(sys.stdin.readline()) for num in range(n)]\n",
    "n = int(input())\n",
    "data = [int(input()) for num in range(n)]\n",
    "\n",
    "\n",
    "def quick_sort(data):\n",
    "    if len(data) <= 1:\n",
    "        return data\n",
    "\n",
    "    pivot = random.choice(data)\n",
    "    left_list = [x for x in data if x < pivot]\n",
    "    middle_list = [x for x in data if x == pivot]\n",
    "    right_list = [x for x in data if x > pivot]\n",
    "\n",
    "    return quick_sort(left_list) + middle_list + quick_sort(right_list)\n",
    "\n",
    "\n",
    "sorted_data = quick_sort(data)\n",
    "for num in sorted_data:\n",
    "    print(num)"
   ]
  },
  {
   "cell_type": "code",
   "execution_count": null,
   "id": "9d566b35-c157-411d-8ec5-11282a287d82",
   "metadata": {},
   "outputs": [],
   "source": []
  }
 ],
 "metadata": {
  "kernelspec": {
   "display_name": "Python 3 (ipykernel)",
   "language": "python",
   "name": "python3"
  },
  "language_info": {
   "codemirror_mode": {
    "name": "ipython",
    "version": 3
   },
   "file_extension": ".py",
   "mimetype": "text/x-python",
   "name": "python",
   "nbconvert_exporter": "python",
   "pygments_lexer": "ipython3",
   "version": "3.12.3"
  }
 },
 "nbformat": 4,
 "nbformat_minor": 5
}
