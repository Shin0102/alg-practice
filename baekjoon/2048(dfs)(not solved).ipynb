{
 "cells": [
  {
   "cell_type": "markdown",
   "source": [
    "[2048](https://www.acmicpc.net/problem/12100)\n",
    "- 4방향을 모두 구현하는것보다 배열을 돌리는 방법을 활용"
   ],
   "metadata": {
    "collapsed": false
   },
   "id": "4bc993b0a09c29c9"
  },
  {
   "cell_type": "code",
   "execution_count": 72,
   "outputs": [
    {
     "name": "stdout",
     "output_type": "stream",
     "text": [
      "16\n"
     ]
    }
   ],
   "source": [
    "from copy import deepcopy\n",
    "\n",
    "n = int(input())\n",
    "board = [list(map(int, input().split())) for _ in range(n)]\n",
    "\n",
    "# 배열 90도 회전\n",
    "def rotate(board):\n",
    "    new_board = deepcopy(board)\n",
    "    for i in range(n):\n",
    "        for j in range(n):\n",
    "            new_board[j][n-i-1] = board[i][j]\n",
    "    return new_board\n",
    "\n",
    "\n",
    "def move_left(board):\n",
    "    for r in range(n):\n",
    "        new_list = [x for x in board[r] if x != 0]  \n",
    "        for i in range(1, len(new_list)):\n",
    "            if new_list[i] == new_list[i - 1]:\n",
    "                new_list[i - 1] *= 2\n",
    "                new_list[i] = 0\n",
    "        new_list = [x for x in new_list if x != 0] \n",
    "        board[r] = new_list + [0] * (n - len(new_list))\n",
    "    return board\n",
    "\n",
    "\n",
    "def dfs(board, cnt):\n",
    "    ret = max([max(row) for row in board])\n",
    "    if cnt == 0:\n",
    "        return ret\n",
    "    \n",
    "    for _ in range(4):\n",
    "        new_board = move_left(deepcopy(board)) \n",
    "        if new_board != board:\n",
    "            ret = max(ret, dfs(new_board, cnt - 1))\n",
    "        board = rotate(board)\n",
    "    return ret\n",
    "\n",
    "print(dfs(board, 5))\n"
   ],
   "metadata": {
    "collapsed": false,
    "ExecuteTime": {
     "end_time": "2024-09-06T18:40:44.635249800Z",
     "start_time": "2024-09-06T18:40:38.845751100Z"
    }
   },
   "id": "110454b77fadeaed"
  },
  {
   "cell_type": "code",
   "execution_count": null,
   "outputs": [],
   "source": [],
   "metadata": {
    "collapsed": false
   },
   "id": "f45a4af890ffcefa"
  }
 ],
 "metadata": {
  "kernelspec": {
   "display_name": "Python 3",
   "language": "python",
   "name": "python3"
  },
  "language_info": {
   "codemirror_mode": {
    "name": "ipython",
    "version": 2
   },
   "file_extension": ".py",
   "mimetype": "text/x-python",
   "name": "python",
   "nbconvert_exporter": "python",
   "pygments_lexer": "ipython2",
   "version": "2.7.6"
  }
 },
 "nbformat": 4,
 "nbformat_minor": 5
}
