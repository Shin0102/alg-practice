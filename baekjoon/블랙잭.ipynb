{
 "cells": [
  {
   "cell_type": "markdown",
   "id": "destroyed-variance",
   "metadata": {},
   "source": [
    "[블랙잭](https://www.acmicpc.net/problem/2798)"
   ]
  },
  {
   "cell_type": "code",
   "execution_count": 1,
   "id": "single-stuff",
   "metadata": {},
   "outputs": [
    {
     "name": "stdout",
     "output_type": "stream",
     "text": [
      "10 500\n",
      "93 181 245 214 315 36 185 138 216 295\n"
     ]
    },
    {
     "data": {
      "text/plain": [
       "497"
      ]
     },
     "execution_count": 1,
     "metadata": {},
     "output_type": "execute_result"
    }
   ],
   "source": [
    "N, M = [int(val) for val in input().split(\" \")]\n",
    "input_list = [int(val) for val in input().split(\" \")]\n",
    "\n",
    "def solution(M, input_list):\n",
    "    near_val = 300000\n",
    "    for i, num in enumerate(input_list[:-2]):\n",
    "        for j, num2 in enumerate(input_list[i+1:]):\n",
    "            for k, num3 in enumerate(input_list[j+i+2:]):\n",
    "                sum_val = num + num2 + num3\n",
    "                diff_val = M - sum_val\n",
    "                if diff_val >= 0 and near_val > diff_val:\n",
    "                    near_val = diff_val\n",
    "                    ret_val = sum_val\n",
    "                    \n",
    "                    \n",
    "    return ret_val\n",
    "\n",
    "solution(M, input_list)"
   ]
  },
  {
   "cell_type": "code",
   "execution_count": null,
   "id": "floral-configuration",
   "metadata": {},
   "outputs": [],
   "source": []
  }
 ],
 "metadata": {
  "kernelspec": {
   "display_name": "Python 3",
   "language": "python",
   "name": "python3"
  },
  "language_info": {
   "codemirror_mode": {
    "name": "ipython",
    "version": 3
   },
   "file_extension": ".py",
   "mimetype": "text/x-python",
   "name": "python",
   "nbconvert_exporter": "python",
   "pygments_lexer": "ipython3",
   "version": "3.8.5"
  }
 },
 "nbformat": 4,
 "nbformat_minor": 5
}
