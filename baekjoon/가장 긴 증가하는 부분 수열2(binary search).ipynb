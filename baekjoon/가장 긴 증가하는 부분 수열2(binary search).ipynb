{
 "cells": [
  {
   "cell_type": "markdown",
   "source": [
    "[가장 긴 증가하는 부분 수열2](https://www.acmicpc.net/problem/12015)\n",
    "- n이 1,000,000으로 커짐\n",
    "- dp로 풀면 시간초과 발생(O(n^2))\n",
    "- binary search를 통해 풀이(O(nlogn))"
   ],
   "metadata": {
    "collapsed": false
   },
   "id": "ad144e7679161020"
  },
  {
   "cell_type": "code",
   "execution_count": 1,
   "outputs": [
    {
     "name": "stdout",
     "output_type": "stream",
     "text": [
      "4\n"
     ]
    }
   ],
   "source": [
    "import bisect\n",
    "\n",
    "n = int(input())\n",
    "arr = list(map(int, input().split()))\n",
    "\n",
    "tails = []\n",
    "for num in arr:\n",
    "    idx = bisect.bisect_left(tails, num)\n",
    "    # tails 리스트의 끝값보다 큰경우\n",
    "    if idx == len(tails):\n",
    "        tails.append(num)\n",
    "    # tails 리스트의 끝값보다 작으면 새롭게 갱신\n",
    "    else:\n",
    "        tails[idx] = num\n",
    "    \n",
    "print(len(tails))"
   ],
   "metadata": {
    "collapsed": false,
    "ExecuteTime": {
     "end_time": "2024-09-26T13:26:17.905113700Z",
     "start_time": "2024-09-26T13:26:13.517932100Z"
    }
   },
   "id": "b59fbb669e30b8e1"
  }
 ],
 "metadata": {
  "kernelspec": {
   "display_name": "Python 3",
   "language": "python",
   "name": "python3"
  },
  "language_info": {
   "codemirror_mode": {
    "name": "ipython",
    "version": 2
   },
   "file_extension": ".py",
   "mimetype": "text/x-python",
   "name": "python",
   "nbconvert_exporter": "python",
   "pygments_lexer": "ipython2",
   "version": "2.7.6"
  }
 },
 "nbformat": 4,
 "nbformat_minor": 5
}
