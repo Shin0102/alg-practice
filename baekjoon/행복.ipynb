{
 "cells": [
  {
   "cell_type": "markdown",
   "source": [
    "[행복](https://www.acmicpc.net/problem/15969)"
   ],
   "metadata": {
    "collapsed": false
   },
   "id": "db619cb820f4647f"
  },
  {
   "cell_type": "code",
   "execution_count": 1,
   "outputs": [
    {
     "name": "stdout",
     "output_type": "stream",
     "text": [
      "65\n"
     ]
    }
   ],
   "source": [
    "n = int(input())\n",
    "score = list(map(int, input().split()))\n",
    "score.sort()\n",
    "print(score[-1] - score[0])"
   ],
   "metadata": {
    "collapsed": false,
    "ExecuteTime": {
     "end_time": "2024-08-17T16:17:19.649593600Z",
     "start_time": "2024-08-17T16:17:11.619359300Z"
    }
   },
   "id": "5c8675bc6c3036bb"
  }
 ],
 "metadata": {
  "kernelspec": {
   "display_name": "Python 3",
   "language": "python",
   "name": "python3"
  },
  "language_info": {
   "codemirror_mode": {
    "name": "ipython",
    "version": 2
   },
   "file_extension": ".py",
   "mimetype": "text/x-python",
   "name": "python",
   "nbconvert_exporter": "python",
   "pygments_lexer": "ipython2",
   "version": "2.7.6"
  }
 },
 "nbformat": 4,
 "nbformat_minor": 5
}
