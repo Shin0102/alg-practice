{
 "cells": [
  {
   "cell_type": "markdown",
   "source": [
    "[Mooyo Mooyo](https://www.acmicpc.net/problem/16768)"
   ],
   "metadata": {
    "collapsed": false
   },
   "id": "62f670ca2c770795"
  },
  {
   "cell_type": "code",
   "execution_count": 52,
   "outputs": [
    {
     "ename": "IndexError",
     "evalue": "list index out of range",
     "output_type": "error",
     "traceback": [
      "\u001B[0;31m---------------------------------------------------------------------------\u001B[0m",
      "\u001B[0;31mIndexError\u001B[0m                                Traceback (most recent call last)",
      "Cell \u001B[0;32mIn[52], line 44\u001B[0m\n\u001B[1;32m     42\u001B[0m \u001B[38;5;28;01mfor\u001B[39;00m i \u001B[38;5;129;01min\u001B[39;00m \u001B[38;5;28mrange\u001B[39m(n):\n\u001B[1;32m     43\u001B[0m     \u001B[38;5;28;01mfor\u001B[39;00m j \u001B[38;5;129;01min\u001B[39;00m \u001B[38;5;28mrange\u001B[39m(\u001B[38;5;241m10\u001B[39m):\n\u001B[0;32m---> 44\u001B[0m         \u001B[38;5;28;01mif\u001B[39;00m \u001B[43mboard\u001B[49m\u001B[43m[\u001B[49m\u001B[43mi\u001B[49m\u001B[43m]\u001B[49m\u001B[43m[\u001B[49m\u001B[43mj\u001B[49m\u001B[43m]\u001B[49m \u001B[38;5;241m==\u001B[39m \u001B[38;5;241m0\u001B[39m \u001B[38;5;129;01mor\u001B[39;00m status[i][j]:\n\u001B[1;32m     45\u001B[0m             \u001B[38;5;28;01mcontinue\u001B[39;00m\n\u001B[1;32m     46\u001B[0m         \u001B[38;5;66;03m# 현재 색상으로 DFS 수행\u001B[39;00m\n",
      "\u001B[0;31mIndexError\u001B[0m: list index out of range"
     ]
    }
   ],
   "source": [
    "n, k = map(int, input().split())\n",
    "board = []\n",
    "for _ in range(n):\n",
    "    board.append([int(b) for b in input()])\n",
    "\n",
    "dx_udlr = [1, -1, 0, 0]\n",
    "dy_udlr = [0, 0, -1, 1]\n",
    "\n",
    "def dfs(x, y, color):\n",
    "    stack = [(x, y)]\n",
    "    region = [(x, y)]\n",
    "    status[x][y] = True\n",
    "    \n",
    "    while stack:\n",
    "        cx, cy = stack.pop()\n",
    "        for i in range(4):\n",
    "            nx, ny = cx + dx_udlr[i], cy + dy_udlr[i]\n",
    "            if 0 <= nx < n and 0 <= ny < 10 and not status[nx][ny] and board[nx][ny] == color:\n",
    "                status[nx][ny] = True\n",
    "                stack.append((nx, ny))\n",
    "                region.append((nx, ny))\n",
    "    return region\n",
    "\n",
    "def apply_gravity():\n",
    "    for j in range(10):\n",
    "        empty_row = n - 1  # 아래에서부터 채워야 할 위치\n",
    "        for i in range(n - 1, -1, -1):\n",
    "            if board[i][j] != 0:  # 블록이 존재\n",
    "                board[empty_row][j] = board[i][j]\n",
    "                if empty_row != i:\n",
    "                    board[i][j] = 0\n",
    "                empty_row -= 1\n",
    "\n",
    "while True:\n",
    "    exist = False\n",
    "    status = [[False] * 10 for _ in range(n)]\n",
    "    \n",
    "    for i in range(n):\n",
    "        for j in range(10):\n",
    "            if board[i][j] == 0 or status[i][j]:\n",
    "                continue\n",
    "\n",
    "            region = dfs(i, j, board[i][j])\n",
    "            \n",
    "            if len(region) >= k:\n",
    "                exist = True\n",
    "                for x, y in region:\n",
    "                    board[x][y] = 0\n",
    "    \n",
    "    if not exist:\n",
    "        break\n",
    "    \n",
    "    apply_gravity()\n",
    "\n",
    "# 결과 출력\n",
    "for row in board:\n",
    "    print(\"\".join(map(str, row)))\n"
   ],
   "metadata": {
    "collapsed": false,
    "ExecuteTime": {
     "end_time": "2024-09-04T16:08:51.908788600Z",
     "start_time": "2024-09-04T16:08:47.662775400Z"
    }
   },
   "id": "c3e829af5bb69858"
  }
 ],
 "metadata": {
  "kernelspec": {
   "display_name": "Python 3",
   "language": "python",
   "name": "python3"
  },
  "language_info": {
   "codemirror_mode": {
    "name": "ipython",
    "version": 2
   },
   "file_extension": ".py",
   "mimetype": "text/x-python",
   "name": "python",
   "nbconvert_exporter": "python",
   "pygments_lexer": "ipython2",
   "version": "2.7.6"
  }
 },
 "nbformat": 4,
 "nbformat_minor": 5
}
