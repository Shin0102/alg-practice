{
 "cells": [
  {
   "cell_type": "markdown",
   "id": "young-sheffield",
   "metadata": {},
   "source": [
    "[프린터큐](https://www.acmicpc.net/problem/1966)"
   ]
  },
  {
   "cell_type": "code",
   "execution_count": 38,
   "id": "contained-validation",
   "metadata": {
    "scrolled": false
   },
   "outputs": [
    {
     "name": "stdout",
     "output_type": "stream",
     "text": [
      "4\n",
      "1 0\n",
      "5\n",
      "1\n",
      "4 2\n",
      "1 2 3 4\n",
      "2\n",
      "6 0\n",
      "1 1 9 1 1 1\n",
      "5\n",
      "10 9\n",
      "1 1 1 1 1 1 1 1 1 1\n",
      "10\n"
     ]
    }
   ],
   "source": [
    "case_num = int(input())\n",
    "\n",
    "for _ in range(0, case_num):\n",
    "    n, m = list(map(int, input().split(\" \")))\n",
    "    doc_list = list(map(int, input().split(\" \")))\n",
    "    answer = 0\n",
    "    \n",
    "    if len(doc_list) == 1:\n",
    "        print(1)\n",
    "    else:\n",
    "        while len(doc_list):\n",
    "            if max(doc_list) > doc_list[0]:\n",
    "                doc_list.append(doc_list.pop(0))\n",
    "                if m == 0:\n",
    "                    m = len(doc_list)\n",
    "            else: \n",
    "                # pop\n",
    "                answer += 1\n",
    "                doc_list.pop(0)\n",
    "                if m == 0:\n",
    "                    print(answer)\n",
    "                    break\n",
    "            m -= 1\n",
    "    "
   ]
  },
  {
   "cell_type": "markdown",
   "id": "clear-prayer",
   "metadata": {},
   "source": [
    "# 삽질\n",
    "---\n",
    "반례) queue pop을 먼저하고 값을 비교해서 max 함수 실행시 마지막 index의 경우 ValueError -> 값 비교후 pop하도록 수정\n",
    "\n",
    "10 9\n",
    "\n",
    "1 1 1 1 1 1 1 1 1 1"
   ]
  }
 ],
 "metadata": {
  "kernelspec": {
   "display_name": "Python 3",
   "language": "python",
   "name": "python3"
  },
  "language_info": {
   "codemirror_mode": {
    "name": "ipython",
    "version": 3
   },
   "file_extension": ".py",
   "mimetype": "text/x-python",
   "name": "python",
   "nbconvert_exporter": "python",
   "pygments_lexer": "ipython3",
   "version": "3.8.5"
  }
 },
 "nbformat": 4,
 "nbformat_minor": 5
}
