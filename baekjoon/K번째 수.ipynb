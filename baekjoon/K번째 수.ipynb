{
 "cells": [
  {
   "cell_type": "markdown",
   "id": "642e004a-beb7-40d7-abf4-6e21bfcd962f",
   "metadata": {},
   "source": [
    "### quick select(시간초과)"
   ]
  },
  {
   "cell_type": "code",
   "execution_count": 12,
   "id": "e8628a87-26f7-4111-9f72-51b63fc3e91d",
   "metadata": {},
   "outputs": [
    {
     "name": "stdin",
     "output_type": "stream",
     "text": [
      " 5 2\n",
      " 4 1 2 3 5\n"
     ]
    },
    {
     "name": "stdout",
     "output_type": "stream",
     "text": [
      "2\n"
     ]
    }
   ],
   "source": [
    "import sys\n",
    "\n",
    "# n, k = map(int, sys.stdin.readline().split())\n",
    "# data = list(map(int, sys.stdin.readline().split()))\n",
    "n, k = map(int, input().split())\n",
    "data = list(map(int, input().split()))\n",
    "\n",
    "data = sorted(data)\n",
    "print(data[k-1])"
   ]
  },
  {
   "cell_type": "markdown",
   "id": "3c0c8cb1-c8e3-47bd-ade8-88ab443592cb",
   "metadata": {},
   "source": [
    "[K번째 수](https://www.acmicpc.net/problem/11004)"
   ]
  },
  {
   "cell_type": "code",
   "execution_count": 17,
   "id": "244062c5-1664-4912-87be-76fcdcc2b773",
   "metadata": {},
   "outputs": [
    {
     "name": "stdin",
     "output_type": "stream",
     "text": [
      " 5 2\n",
      " 4 1 2 3 5\n"
     ]
    },
    {
     "data": {
      "text/plain": [
       "2"
      ]
     },
     "execution_count": 17,
     "metadata": {},
     "output_type": "execute_result"
    }
   ],
   "source": [
    "import random\n",
    "import sys\n",
    "\n",
    "# n, k = map(int, sys.stdin.readline().split())\n",
    "# data = list(map(int, sys.stdin.readline().split()))\n",
    "\n",
    "n, k = map(int, input().split())\n",
    "data = list(map(int, input().split()))\n",
    "\n",
    "def partition(data:list, left: int, right: int, pivot_index: int) -> int:\n",
    "    pivot_num = data[pivot_index]\n",
    "    data[pivot_index], data[right] = data[right], data[pivot_index]  # move pivot to end\n",
    "    store_index = left\n",
    "    for i in range(left, right):\n",
    "        if data[i] < pivot_num:\n",
    "            data[store_index], data[i] = data[i], data[store_index]\n",
    "            store_index += 1\n",
    "    \n",
    "    data[right], data[store_index] = data[store_index], data[right]  # restore pivot\n",
    "    return store_index\n",
    "\n",
    "\n",
    "def quick_select(data: list, left: int, right: int, k: int) -> int:\n",
    "    pivot_index = random.randint(left, right)\n",
    "    pivot_index = partition(data, left, right, pivot_index)\n",
    "\n",
    "    if k == pivot_index:\n",
    "        return data[k]\n",
    "    elif k < pivot_index:\n",
    "        return quick_select(data, left, pivot_index - 1, k)\n",
    "    else:\n",
    "        return quick_select(data, pivot_index + 1, right, k)\n",
    "\n",
    "print(quick_select(data, 0, n-1, k-1))"
   ]
  },
  {
   "cell_type": "markdown",
   "id": "12932407-280a-4f79-ba8b-825503c6a84e",
   "metadata": {},
   "source": [
    "### min heap"
   ]
  },
  {
   "cell_type": "code",
   "execution_count": 11,
   "id": "f860dddf-74c6-4d6c-b150-961be0c4f8c6",
   "metadata": {},
   "outputs": [
    {
     "name": "stdin",
     "output_type": "stream",
     "text": [
      " 5 2\n",
      " 4 1 2 3 5\n"
     ]
    },
    {
     "name": "stdout",
     "output_type": "stream",
     "text": [
      "2\n"
     ]
    }
   ],
   "source": [
    "import heapq\n",
    "import sys\n",
    "\n",
    "# n, k = map(int, sys.stdin.readline().split())\n",
    "# data = list(map(int, sys.stdin.readline().split()))\n",
    "\n",
    "n, k = map(int, input().split())\n",
    "data = list(map(int, input().split()))\n",
    "\n",
    "def find_k_value(data: list, k: int) -> int:\n",
    "    heapq.heapify(data) \n",
    "    \n",
    "    for _ in range(k - 1):\n",
    "        heapq.heappop(data)\n",
    "    \n",
    "    return heapq.heappop(data)\n",
    "\n",
    "# K번째 수 찾기\n",
    "result = find_k_value(data, k)\n",
    "print(result)"
   ]
  },
  {
   "cell_type": "code",
   "execution_count": null,
   "id": "9920ae7f-25bc-48f0-991c-4d44e1c61108",
   "metadata": {},
   "outputs": [],
   "source": []
  }
 ],
 "metadata": {
  "kernelspec": {
   "display_name": "Python 3 (ipykernel)",
   "language": "python",
   "name": "python3"
  },
  "language_info": {
   "codemirror_mode": {
    "name": "ipython",
    "version": 3
   },
   "file_extension": ".py",
   "mimetype": "text/x-python",
   "name": "python",
   "nbconvert_exporter": "python",
   "pygments_lexer": "ipython3",
   "version": "3.12.3"
  }
 },
 "nbformat": 4,
 "nbformat_minor": 5
}
