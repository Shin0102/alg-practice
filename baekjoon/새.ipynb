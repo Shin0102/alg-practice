{
 "cells": [
  {
   "cell_type": "markdown",
   "id": "288b4ad6-cf33-4a76-a85b-2f2cc66265b1",
   "metadata": {},
   "source": [
    "[새](https://www.acmicpc.net/problem/1568)"
   ]
  },
  {
   "cell_type": "markdown",
   "id": "347f4b33-67a4-46e2-8a0d-5302c3adabb4",
   "metadata": {},
   "source": [
    "- N이 10억으로 매우크지만 K가 증가하는 형태이므로 시간복잡도는 O(루트 N)"
   ]
  },
  {
   "cell_type": "code",
   "execution_count": 3,
   "id": "e08ede27-4a81-4e91-a263-ed2054736552",
   "metadata": {},
   "outputs": [
    {
     "name": "stdin",
     "output_type": "stream",
     "text": [
      " 10\n"
     ]
    },
    {
     "name": "stdout",
     "output_type": "stream",
     "text": [
      "4\n"
     ]
    }
   ],
   "source": [
    "def bird(n: int) -> int:\n",
    "    k = 1\n",
    "    result = 0\n",
    "\n",
    "    while n > 0:\n",
    "        n -= k\n",
    "        k += 1\n",
    "        if k > n:\n",
    "            k = 1\n",
    "        result += 1\n",
    "    return result\n",
    "\n",
    "\n",
    "if __name__ == \"__main__\":\n",
    "    n = int(input())\n",
    "    print(bird(n))"
   ]
  }
 ],
 "metadata": {
  "kernelspec": {
   "display_name": "Python 3 (ipykernel)",
   "language": "python",
   "name": "python3"
  },
  "language_info": {
   "codemirror_mode": {
    "name": "ipython",
    "version": 3
   },
   "file_extension": ".py",
   "mimetype": "text/x-python",
   "name": "python",
   "nbconvert_exporter": "python",
   "pygments_lexer": "ipython3",
   "version": "3.12.3"
  }
 },
 "nbformat": 4,
 "nbformat_minor": 5
}
