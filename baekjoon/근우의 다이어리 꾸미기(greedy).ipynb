{
 "cells": [
  {
   "cell_type": "markdown",
   "source": [
    "[근우의 다이어리 꾸미기](https://www.acmicpc.net/problem/16676)\n",
    "- 같은수가 나오는 개수\n",
    "- 11 이상이면 두개필요\n",
    "- 111 이상이면 세개필요\n",
    "- ..."
   ],
   "metadata": {
    "collapsed": false
   },
   "id": "a26ac74b1d2c4039"
  },
  {
   "cell_type": "code",
   "execution_count": 15,
   "outputs": [
    {
     "name": "stdout",
     "output_type": "stream",
     "text": [
      "1\n"
     ]
    }
   ],
   "source": [
    "N = input()\n",
    "comp = '1' * len(N)\n",
    "\n",
    "if len(N) == 1:\n",
    "    print(1)\n",
    "elif int(N) >= int(comp):\n",
    "    print(len(N))\n",
    "else:\n",
    "    print(len(N)-1)"
   ],
   "metadata": {
    "collapsed": false,
    "ExecuteTime": {
     "end_time": "2024-09-18T12:25:48.256529300Z",
     "start_time": "2024-09-18T12:25:45.262832600Z"
    }
   },
   "id": "90ac2fc248dd67cd"
  },
  {
   "cell_type": "markdown",
   "source": [],
   "metadata": {
    "collapsed": false
   },
   "id": "f9961d6b098a1fbc"
  }
 ],
 "metadata": {
  "kernelspec": {
   "display_name": "Python 3",
   "language": "python",
   "name": "python3"
  },
  "language_info": {
   "codemirror_mode": {
    "name": "ipython",
    "version": 2
   },
   "file_extension": ".py",
   "mimetype": "text/x-python",
   "name": "python",
   "nbconvert_exporter": "python",
   "pygments_lexer": "ipython2",
   "version": "2.7.6"
  }
 },
 "nbformat": 4,
 "nbformat_minor": 5
}
