{
 "cells": [
  {
   "cell_type": "markdown",
   "id": "forty-anniversary",
   "metadata": {},
   "source": [
    "[키로거](https://www.acmicpc.net/problem/5397)"
   ]
  },
  {
   "cell_type": "code",
   "execution_count": 2,
   "id": "solar-renewal",
   "metadata": {},
   "outputs": [
    {
     "name": "stdout",
     "output_type": "stream",
     "text": [
      "2\n",
      "<<BP<A>>Cd-\n",
      "BAPC\n",
      "ThIsIsS3Cr3t\n",
      "ThIsIsS3Cr3t\n"
     ]
    }
   ],
   "source": [
    "test_case = int(input())\n",
    "\n",
    "for _ in range(test_case):\n",
    "    keyboard_input = input()\n",
    "    stack = []\n",
    "    tmp = []\n",
    "    operator = [\"<\", \">\", \"-\", \" \"]\n",
    "    \n",
    "    for char in keyboard_input:\n",
    "        if char in operator:\n",
    "            if char == \"<\" and len(stack):\n",
    "                tmp.append(stack.pop()) \n",
    "            elif char == \">\" and len(tmp):\n",
    "                stack.append(tmp.pop())\n",
    "            elif char == \"-\" and len(stack):\n",
    "                stack.pop()\n",
    "            else:\n",
    "                pass\n",
    "        else:\n",
    "            stack.append(char)\n",
    "                     \n",
    "    tmp.reverse()\n",
    "    stack.extend(tmp)\n",
    "    print(\"\".join(stack))"
   ]
  },
  {
   "cell_type": "markdown",
   "id": "signed-pleasure",
   "metadata": {},
   "source": [
    "Issue\n",
    "---\n",
    "- 공백처리\n",
    "- tmp stack 출력시 reverse 처리 필요."
   ]
  }
 ],
 "metadata": {
  "kernelspec": {
   "display_name": "Python 3",
   "language": "python",
   "name": "python3"
  },
  "language_info": {
   "codemirror_mode": {
    "name": "ipython",
    "version": 3
   },
   "file_extension": ".py",
   "mimetype": "text/x-python",
   "name": "python",
   "nbconvert_exporter": "python",
   "pygments_lexer": "ipython3",
   "version": "3.8.5"
  }
 },
 "nbformat": 4,
 "nbformat_minor": 5
}
